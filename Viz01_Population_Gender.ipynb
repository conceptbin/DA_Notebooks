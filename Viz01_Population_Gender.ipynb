{
  "cells": [
    {
      "cell_type": "markdown",
      "metadata": {
        "id": "view-in-github",
        "colab_type": "text"
      },
      "source": [
        "<a href=\"https://colab.research.google.com/github/conceptbin/DA_Notebooks/blob/master/Viz_Population_1_Gender.ipynb\" target=\"_parent\"><img src=\"https://colab.research.google.com/assets/colab-badge.svg\" alt=\"Open In Colab\"/></a>"
      ]
    },
    {
      "cell_type": "markdown",
      "metadata": {
        "id": "TjSnuT5uVknz"
      },
      "source": [
        "# UN population projection by gender"
      ]
    },
    {
      "cell_type": "code",
      "execution_count": null,
      "metadata": {
        "id": "armO3RNVVYya"
      },
      "outputs": [],
      "source": [
        "# Import libraries\n",
        "import pandas as pd\n",
        "import seaborn as sns\n",
        "sns.set_context(\"notebook\") # Size preset for graph"
      ]
    },
    {
      "cell_type": "markdown",
      "metadata": {
        "id": "lvc7n_BSr4_5"
      },
      "source": [
        "Dataset: [UN World Population Prospects 2022](https://population.un.org/wpp/Download/Standard/CSV/) in CSV format. Follow the link for the full explanation of what each category (column) means. Population numbers are written in thousands (i.e., 1000 = 1 mil)."
      ]
    },
    {
      "cell_type": "code",
      "execution_count": null,
      "metadata": {
        "id": "B1Lc5QiGKMII"
      },
      "outputs": [],
      "source": [
        "# Load data from local file\n",
        "file_url = r'https://github.com/conceptbin/DA_Notebooks/raw/master/visualisations/data/WPP2022_TotalPopulationBySex.csv' # Path in Win11 format. You need to re-enter the path for Mac/Linux\n",
        "df = pd.read_csv(file_url, low_memory=False)"
      ]
    },
    {
      "cell_type": "code",
      "execution_count": null,
      "metadata": {
        "id": "wO7-UohXtuqP"
      },
      "outputs": [],
      "source": [
        "df.head()"
      ]
    },
    {
      "cell_type": "code",
      "execution_count": null,
      "metadata": {
        "id": "6vZ9i5aR00fq"
      },
      "outputs": [],
      "source": [
        "df.shape"
      ]
    },
    {
      "cell_type": "markdown",
      "metadata": {
        "id": "wj62nGRQKMIL"
      },
      "source": [
        "Filter by country"
      ]
    },
    {
      "cell_type": "code",
      "execution_count": null,
      "metadata": {
        "id": "yp4YSnrrvl1v"
      },
      "outputs": [],
      "source": [
        "# Select country (Location)\n",
        "df = df[df['Location'] == 'United Kingdom']"
      ]
    },
    {
      "cell_type": "markdown",
      "source": [
        "Select population projection variants to plot."
      ],
      "metadata": {
        "id": "Temo56IpWPwy"
      }
    },
    {
      "cell_type": "code",
      "execution_count": null,
      "metadata": {
        "id": "grERxg_BKMIN"
      },
      "outputs": [],
      "source": [
        "# Projection variant types\n",
        "df['Variant'].unique()"
      ]
    },
    {
      "cell_type": "code",
      "execution_count": null,
      "metadata": {
        "id": "gePiAklQwC1U"
      },
      "outputs": [],
      "source": [
        "# Select projection variant(s)\n",
        "variant_list = ['Medium', 'High', 'Low']\n",
        "df = df[df['Variant'].isin(variant_list)]"
      ]
    },
    {
      "cell_type": "code",
      "execution_count": null,
      "metadata": {
        "id": "Ssgbp_XlKMIO"
      },
      "outputs": [],
      "source": [
        "df[:5]"
      ]
    },
    {
      "cell_type": "markdown",
      "metadata": {
        "id": "scs2H5-tKMIP"
      },
      "source": [
        "Reshape for plotting"
      ]
    },
    {
      "cell_type": "code",
      "execution_count": null,
      "metadata": {
        "id": "YFu4XYdwwecZ"
      },
      "outputs": [],
      "source": [
        "# Select only columns relevant for the graph:\n",
        "df = df[['Time', 'Variant', 'PopMale', 'PopFemale']]"
      ]
    },
    {
      "cell_type": "code",
      "execution_count": null,
      "metadata": {
        "id": "GJeQJVk13X2x"
      },
      "outputs": [],
      "source": [
        "# Melt the PopMale and PopFemale columns into one, in order to assign them to different lines\n",
        "df = df.melt([\"Time\", 'Variant'], var_name=\"Gender\", value_name=\"Number\")"
      ]
    },
    {
      "cell_type": "code",
      "execution_count": null,
      "metadata": {
        "id": "mjo6NzAx3wzy"
      },
      "outputs": [],
      "source": [
        "# Plot change over time, comparing variants:\n",
        "sns.relplot(data=df, x=\"Time\", y=\"Number\", hue='Variant', aspect=1.5)"
      ]
    },
    {
      "cell_type": "markdown",
      "source": [
        "# Challenge:\n",
        "Select multiple countries or areas using a list, for plotting a comparison of population projections.\n",
        "\n",
        "Use the `row` keyword to plot projections for different countries on separate graphs.  "
      ],
      "metadata": {
        "id": "HJzH7cfaWeI3"
      }
    }
  ],
  "metadata": {
    "colab": {
      "provenance": [],
      "include_colab_link": true
    },
    "kernelspec": {
      "display_name": "Python 3.10.4 ('py310')",
      "language": "python",
      "name": "python3"
    },
    "language_info": {
      "codemirror_mode": {
        "name": "ipython",
        "version": 3
      },
      "file_extension": ".py",
      "mimetype": "text/x-python",
      "name": "python",
      "nbconvert_exporter": "python",
      "pygments_lexer": "ipython3",
      "version": "3.10.4"
    },
    "vscode": {
      "interpreter": {
        "hash": "bb7e28c91e03929dce0cc87071638f3542d33abb15c82bf85f58e7b91f5666fe"
      }
    }
  },
  "nbformat": 4,
  "nbformat_minor": 0
}
