{
  "cells": [
    {
      "cell_type": "markdown",
      "metadata": {
        "id": "view-in-github",
        "colab_type": "text"
      },
      "source": [
        "<a href=\"https://colab.research.google.com/github/conceptbin/DA_Notebooks/blob/master/EDA_Crosstab_demo.ipynb\" target=\"_parent\"><img src=\"https://colab.research.google.com/assets/colab-badge.svg\" alt=\"Open In Colab\"/></a>"
      ]
    },
    {
      "cell_type": "markdown",
      "metadata": {
        "id": "w0b6PNJvIOBh"
      },
      "source": [
        "# Crosstab in pandas"
      ]
    },
    {
      "cell_type": "code",
      "execution_count": null,
      "metadata": {
        "id": "81SyVivjIOBk"
      },
      "outputs": [],
      "source": [
        "import pandas as pd"
      ]
    },
    {
      "cell_type": "markdown",
      "metadata": {
        "id": "TxDOOfwOIOBm"
      },
      "source": [
        "First, load the data."
      ]
    },
    {
      "cell_type": "code",
      "execution_count": null,
      "metadata": {
        "id": "DcKAJFxHIOBm"
      },
      "outputs": [],
      "source": [
        "# File path\n",
        "file = r'https://github.com/conceptbin/DA_Notebooks/raw/master/pandas-intro/data/2023-08-metropolitan-street.csv'\n",
        "# Create dataframe (df)\n",
        "df = pd.read_csv(file)"
      ]
    },
    {
      "cell_type": "code",
      "source": [
        "df[:5]"
      ],
      "metadata": {
        "id": "WAXVUP_WKSbf"
      },
      "execution_count": null,
      "outputs": []
    },
    {
      "cell_type": "code",
      "source": [
        "df.shape"
      ],
      "metadata": {
        "id": "E2jd5gjqKY57"
      },
      "execution_count": null,
      "outputs": []
    },
    {
      "cell_type": "markdown",
      "metadata": {
        "id": "RWODlUa1IOBm"
      },
      "source": [
        "Create a Local_Authority column from LSOA_name."
      ]
    },
    {
      "cell_type": "code",
      "execution_count": null,
      "metadata": {
        "id": "Uo9Me5ylIOBn"
      },
      "outputs": [],
      "source": [
        "#Create a new column:\n",
        "df['Local_Authority'] = df['LSOA name'].str.slice(0, -5)"
      ]
    },
    {
      "cell_type": "markdown",
      "metadata": {
        "id": "GsRf38egIOBn"
      },
      "source": [
        "# Crosstab\n",
        "Functions: `crosstab()`. [This article on crosstabs](https://pbpython.com/pandas-crosstab.html) provides a good overview of the crosstab function."
      ]
    },
    {
      "cell_type": "code",
      "source": [
        "df"
      ],
      "metadata": {
        "id": "WgWcmkUpMqAt"
      },
      "execution_count": null,
      "outputs": []
    },
    {
      "cell_type": "markdown",
      "metadata": {
        "id": "ErPWXl6yIOBn"
      },
      "source": [
        "## crosstab()\n",
        "A basic crosstab of crime types broken down by borough."
      ]
    },
    {
      "cell_type": "code",
      "execution_count": null,
      "metadata": {
        "id": "HS7tDehvIOBo"
      },
      "outputs": [],
      "source": [
        "df.keys()"
      ]
    },
    {
      "cell_type": "code",
      "execution_count": null,
      "metadata": {
        "id": "XRvCyYH0IOBp"
      },
      "outputs": [],
      "source": [
        "# Count of incidents by borough and crime type:\n",
        "df_cross = pd.crosstab(df['Local_Authority'], df['Crime type'])"
      ]
    },
    {
      "cell_type": "code",
      "execution_count": null,
      "metadata": {
        "id": "zQJLH6CNIOBp"
      },
      "outputs": [],
      "source": [
        "df_cross"
      ]
    },
    {
      "cell_type": "markdown",
      "metadata": {
        "id": "6WbNU1hGIOBp"
      },
      "source": [
        "## Working with the crosstab dataframe\n",
        "If we reset the index, we can filter and sort the crosstabbed dataframe:"
      ]
    },
    {
      "cell_type": "code",
      "execution_count": null,
      "metadata": {
        "id": "2WrKOX58IOBq"
      },
      "outputs": [],
      "source": [
        "df_cross.reset_index(inplace=True)"
      ]
    },
    {
      "cell_type": "markdown",
      "metadata": {
        "id": "GQ8LvqIxIOBq"
      },
      "source": [
        "Here we select a few boroughs to compare, using a list of keywords. By using the \"or\" separator | we specify which keywords to include."
      ]
    },
    {
      "cell_type": "code",
      "execution_count": null,
      "metadata": {
        "id": "HjkLp4ZYIOBq"
      },
      "outputs": [],
      "source": [
        "la_keywords = 'Wandsworth|Hammersmith|Lambeth|Richmond|Merton'\n",
        "df_cross = df_cross[df_cross['Local_Authority'].str.contains(la_keywords)]"
      ]
    },
    {
      "cell_type": "code",
      "execution_count": null,
      "metadata": {
        "id": "H3LN5VNPIOBq"
      },
      "outputs": [],
      "source": [
        "df_cross"
      ]
    },
    {
      "cell_type": "code",
      "execution_count": null,
      "metadata": {
        "id": "4f6N7EToIOBr"
      },
      "outputs": [],
      "source": []
    }
  ],
  "metadata": {
    "kernelspec": {
      "display_name": "py310",
      "language": "python",
      "name": "python3"
    },
    "language_info": {
      "codemirror_mode": {
        "name": "ipython",
        "version": 3
      },
      "file_extension": ".py",
      "mimetype": "text/x-python",
      "name": "python",
      "nbconvert_exporter": "python",
      "pygments_lexer": "ipython3",
      "version": "3.10.4"
    },
    "colab": {
      "provenance": [],
      "include_colab_link": true
    }
  },
  "nbformat": 4,
  "nbformat_minor": 0
}