{
 "cells": [
  {
   "cell_type": "markdown",
   "metadata": {},
   "source": [
    "# Introduction to Data Vizualization using Pandas in Python"
   ]
  },
  {
   "cell_type": "code",
   "execution_count": 1,
   "metadata": {},
   "outputs": [
    {
     "name": "stdout",
     "output_type": "stream",
     "text": [
      "{'students': ['Alice', 'Anna', 'Arlean', 'Betty', 'Bertha', 'Beatrice', 'Candice', 'Carol', 'Christa', 'Duncan', 'Derry', 'Dealy', 'Edward', 'Earl', 'Edwin'], 'courses': ['Physics', 'Physics', 'Physics', 'Math', 'Math', 'Math', 'Chem', 'Chem', 'Chem', 'Bio', 'Bio', 'Bio', 'Stat', 'Stat', 'Stat'], 'percent': [95, 85, 70, 75, 82, 90, 87, 61, 72, 55, 98, 86, 56, 78, 86], 'ID': ['121', '122', '123', '124', '125', '126', '127', '128', '129', '130', '131', '132', '133', '134', '135'], 'phoneX': [842, 611, 624, 112, 383, 812, 842, 611, 624, 112, 383, 812, 112, 383, 812]}\n"
     ]
    }
   ],
   "source": [
    "dict = {\"students\": ['Alice','Anna','Arlean','Betty','Bertha','Beatrice','Candice','Carol','Christa','Duncan','Derry','Dealy','Edward','Earl','Edwin'], \n",
    "         \"courses\": ['Physics','Physics','Physics', 'Math','Math','Math','Chem', 'Chem','Chem','Bio','Bio','Bio','Stat','Stat','Stat'],\n",
    "         \"percent\": [95,85,70,75,82,90,87,61,72,55,98,86, 56,78,86],\n",
    "         \"ID\":  ['121', '122','123','124','125','126','127', '128','129','130','131','132','133', '134','135'],\n",
    "         \"phoneX\": [842, 611, 624, 112, 383, 812, 842, 611, 624, 112, 383, 812,112, 383, 812]}\n",
    "print(dict) # print out the dictionary \n"
   ]
  },
  {
   "cell_type": "code",
   "execution_count": 2,
   "metadata": {},
   "outputs": [
    {
     "data": {
      "text/html": [
       "<div>\n",
       "<style scoped>\n",
       "    .dataframe tbody tr th:only-of-type {\n",
       "        vertical-align: middle;\n",
       "    }\n",
       "\n",
       "    .dataframe tbody tr th {\n",
       "        vertical-align: top;\n",
       "    }\n",
       "\n",
       "    .dataframe thead th {\n",
       "        text-align: right;\n",
       "    }\n",
       "</style>\n",
       "<table border=\"1\" class=\"dataframe\">\n",
       "  <thead>\n",
       "    <tr style=\"text-align: right;\">\n",
       "      <th></th>\n",
       "      <th>students</th>\n",
       "      <th>courses</th>\n",
       "      <th>percent</th>\n",
       "      <th>ID</th>\n",
       "      <th>phoneX</th>\n",
       "    </tr>\n",
       "  </thead>\n",
       "  <tbody>\n",
       "    <tr>\n",
       "      <th>0</th>\n",
       "      <td>Alice</td>\n",
       "      <td>Physics</td>\n",
       "      <td>95</td>\n",
       "      <td>121</td>\n",
       "      <td>842</td>\n",
       "    </tr>\n",
       "    <tr>\n",
       "      <th>1</th>\n",
       "      <td>Anna</td>\n",
       "      <td>Physics</td>\n",
       "      <td>85</td>\n",
       "      <td>122</td>\n",
       "      <td>611</td>\n",
       "    </tr>\n",
       "    <tr>\n",
       "      <th>2</th>\n",
       "      <td>Arlean</td>\n",
       "      <td>Physics</td>\n",
       "      <td>70</td>\n",
       "      <td>123</td>\n",
       "      <td>624</td>\n",
       "    </tr>\n",
       "    <tr>\n",
       "      <th>3</th>\n",
       "      <td>Betty</td>\n",
       "      <td>Math</td>\n",
       "      <td>75</td>\n",
       "      <td>124</td>\n",
       "      <td>112</td>\n",
       "    </tr>\n",
       "    <tr>\n",
       "      <th>4</th>\n",
       "      <td>Bertha</td>\n",
       "      <td>Math</td>\n",
       "      <td>82</td>\n",
       "      <td>125</td>\n",
       "      <td>383</td>\n",
       "    </tr>\n",
       "  </tbody>\n",
       "</table>\n",
       "</div>"
      ],
      "text/plain": [
       "  students  courses  percent   ID  phoneX\n",
       "0    Alice  Physics       95  121     842\n",
       "1     Anna  Physics       85  122     611\n",
       "2   Arlean  Physics       70  123     624\n",
       "3    Betty     Math       75  124     112\n",
       "4   Bertha     Math       82  125     383"
      ]
     },
     "execution_count": 2,
     "metadata": {},
     "output_type": "execute_result"
    }
   ],
   "source": [
    "import pandas as pd # let pd be the alias for pandas\n",
    "school = pd.DataFrame(dict) # create the dataframe and assign it to the label school\n",
    "school.head() # a simple way to print out the entire dataframe"
   ]
  },
  {
   "cell_type": "markdown",
   "metadata": {},
   "source": [
    "## Visualization of Athlete Data Set in Excel "
   ]
  },
  {
   "cell_type": "code",
   "execution_count": 3,
   "metadata": {},
   "outputs": [],
   "source": [
    "import pandas as pd\n",
    "import matplotlib.pyplot as plt\n",
    "\n",
    "# Jupter notebook specific\n",
    "%matplotlib inline"
   ]
  },
  {
   "cell_type": "code",
   "execution_count": 4,
   "metadata": {},
   "outputs": [
    {
     "name": "stdout",
     "output_type": "stream",
     "text": [
      "Column headings:\n",
      "Index(['student', 'Sport', 'Score', 'Height', 'Weight', 'Fitness'], dtype='object')\n"
     ]
    }
   ],
   "source": [
    "from pandas import ExcelWriter\n",
    "from pandas import ExcelFile\n",
    "\n",
    "df = pd.read_excel('data\\Athletic.xls', sheet_name='Sheet1')\n",
    "\n",
    "print(\"Column headings:\")\n",
    "print(df.columns)"
   ]
  },
  {
   "cell_type": "code",
   "execution_count": 5,
   "metadata": {},
   "outputs": [
    {
     "data": {
      "text/html": [
       "<div>\n",
       "<style scoped>\n",
       "    .dataframe tbody tr th:only-of-type {\n",
       "        vertical-align: middle;\n",
       "    }\n",
       "\n",
       "    .dataframe tbody tr th {\n",
       "        vertical-align: top;\n",
       "    }\n",
       "\n",
       "    .dataframe thead th {\n",
       "        text-align: right;\n",
       "    }\n",
       "</style>\n",
       "<table border=\"1\" class=\"dataframe\">\n",
       "  <thead>\n",
       "    <tr style=\"text-align: right;\">\n",
       "      <th></th>\n",
       "      <th>student</th>\n",
       "    </tr>\n",
       "  </thead>\n",
       "  <tbody>\n",
       "    <tr>\n",
       "      <th>0</th>\n",
       "      <td>1</td>\n",
       "    </tr>\n",
       "    <tr>\n",
       "      <th>1</th>\n",
       "      <td>2</td>\n",
       "    </tr>\n",
       "    <tr>\n",
       "      <th>2</th>\n",
       "      <td>3</td>\n",
       "    </tr>\n",
       "    <tr>\n",
       "      <th>3</th>\n",
       "      <td>4</td>\n",
       "    </tr>\n",
       "    <tr>\n",
       "      <th>4</th>\n",
       "      <td>5</td>\n",
       "    </tr>\n",
       "    <tr>\n",
       "      <th>5</th>\n",
       "      <td>6</td>\n",
       "    </tr>\n",
       "    <tr>\n",
       "      <th>6</th>\n",
       "      <td>7</td>\n",
       "    </tr>\n",
       "    <tr>\n",
       "      <th>7</th>\n",
       "      <td>8</td>\n",
       "    </tr>\n",
       "    <tr>\n",
       "      <th>8</th>\n",
       "      <td>9</td>\n",
       "    </tr>\n",
       "    <tr>\n",
       "      <th>9</th>\n",
       "      <td>10</td>\n",
       "    </tr>\n",
       "    <tr>\n",
       "      <th>10</th>\n",
       "      <td>11</td>\n",
       "    </tr>\n",
       "    <tr>\n",
       "      <th>11</th>\n",
       "      <td>12</td>\n",
       "    </tr>\n",
       "    <tr>\n",
       "      <th>12</th>\n",
       "      <td>13</td>\n",
       "    </tr>\n",
       "    <tr>\n",
       "      <th>13</th>\n",
       "      <td>14</td>\n",
       "    </tr>\n",
       "    <tr>\n",
       "      <th>14</th>\n",
       "      <td>15</td>\n",
       "    </tr>\n",
       "    <tr>\n",
       "      <th>15</th>\n",
       "      <td>16</td>\n",
       "    </tr>\n",
       "    <tr>\n",
       "      <th>16</th>\n",
       "      <td>17</td>\n",
       "    </tr>\n",
       "    <tr>\n",
       "      <th>17</th>\n",
       "      <td>18</td>\n",
       "    </tr>\n",
       "    <tr>\n",
       "      <th>18</th>\n",
       "      <td>19</td>\n",
       "    </tr>\n",
       "    <tr>\n",
       "      <th>19</th>\n",
       "      <td>20</td>\n",
       "    </tr>\n",
       "  </tbody>\n",
       "</table>\n",
       "</div>"
      ],
      "text/plain": [
       "    student\n",
       "0         1\n",
       "1         2\n",
       "2         3\n",
       "3         4\n",
       "4         5\n",
       "5         6\n",
       "6         7\n",
       "7         8\n",
       "8         9\n",
       "9        10\n",
       "10       11\n",
       "11       12\n",
       "12       13\n",
       "13       14\n",
       "14       15\n",
       "15       16\n",
       "16       17\n",
       "17       18\n",
       "18       19\n",
       "19       20"
      ]
     },
     "execution_count": 5,
     "metadata": {},
     "output_type": "execute_result"
    }
   ],
   "source": [
    "df[['student']]"
   ]
  },
  {
   "cell_type": "code",
   "execution_count": 6,
   "metadata": {},
   "outputs": [
    {
     "data": {
      "text/html": [
       "<div>\n",
       "<style scoped>\n",
       "    .dataframe tbody tr th:only-of-type {\n",
       "        vertical-align: middle;\n",
       "    }\n",
       "\n",
       "    .dataframe tbody tr th {\n",
       "        vertical-align: top;\n",
       "    }\n",
       "\n",
       "    .dataframe thead th {\n",
       "        text-align: right;\n",
       "    }\n",
       "</style>\n",
       "<table border=\"1\" class=\"dataframe\">\n",
       "  <thead>\n",
       "    <tr style=\"text-align: right;\">\n",
       "      <th></th>\n",
       "      <th>student</th>\n",
       "      <th>Sport</th>\n",
       "      <th>Score</th>\n",
       "      <th>Height</th>\n",
       "      <th>Weight</th>\n",
       "      <th>Fitness</th>\n",
       "    </tr>\n",
       "  </thead>\n",
       "  <tbody>\n",
       "    <tr>\n",
       "      <th>0</th>\n",
       "      <td>1</td>\n",
       "      <td>Football</td>\n",
       "      <td>67</td>\n",
       "      <td>172</td>\n",
       "      <td>220</td>\n",
       "      <td>95</td>\n",
       "    </tr>\n",
       "    <tr>\n",
       "      <th>1</th>\n",
       "      <td>2</td>\n",
       "      <td>Football</td>\n",
       "      <td>78</td>\n",
       "      <td>168</td>\n",
       "      <td>243</td>\n",
       "      <td>90</td>\n",
       "    </tr>\n",
       "    <tr>\n",
       "      <th>2</th>\n",
       "      <td>3</td>\n",
       "      <td>Football</td>\n",
       "      <td>85</td>\n",
       "      <td>154</td>\n",
       "      <td>257</td>\n",
       "      <td>92</td>\n",
       "    </tr>\n",
       "    <tr>\n",
       "      <th>3</th>\n",
       "      <td>4</td>\n",
       "      <td>Football</td>\n",
       "      <td>82</td>\n",
       "      <td>176</td>\n",
       "      <td>242</td>\n",
       "      <td>94</td>\n",
       "    </tr>\n",
       "    <tr>\n",
       "      <th>4</th>\n",
       "      <td>5</td>\n",
       "      <td>Football</td>\n",
       "      <td>72</td>\n",
       "      <td>162</td>\n",
       "      <td>251</td>\n",
       "      <td>90</td>\n",
       "    </tr>\n",
       "    <tr>\n",
       "      <th>5</th>\n",
       "      <td>6</td>\n",
       "      <td>Tennis</td>\n",
       "      <td>78</td>\n",
       "      <td>159</td>\n",
       "      <td>160</td>\n",
       "      <td>88</td>\n",
       "    </tr>\n",
       "    <tr>\n",
       "      <th>6</th>\n",
       "      <td>7</td>\n",
       "      <td>Tennis</td>\n",
       "      <td>65</td>\n",
       "      <td>167</td>\n",
       "      <td>170</td>\n",
       "      <td>82</td>\n",
       "    </tr>\n",
       "    <tr>\n",
       "      <th>7</th>\n",
       "      <td>8</td>\n",
       "      <td>Tennis</td>\n",
       "      <td>58</td>\n",
       "      <td>179</td>\n",
       "      <td>157</td>\n",
       "      <td>79</td>\n",
       "    </tr>\n",
       "    <tr>\n",
       "      <th>8</th>\n",
       "      <td>9</td>\n",
       "      <td>Tennis</td>\n",
       "      <td>85</td>\n",
       "      <td>166</td>\n",
       "      <td>160</td>\n",
       "      <td>85</td>\n",
       "    </tr>\n",
       "    <tr>\n",
       "      <th>9</th>\n",
       "      <td>10</td>\n",
       "      <td>Tennis</td>\n",
       "      <td>90</td>\n",
       "      <td>164</td>\n",
       "      <td>162</td>\n",
       "      <td>85</td>\n",
       "    </tr>\n",
       "    <tr>\n",
       "      <th>10</th>\n",
       "      <td>11</td>\n",
       "      <td>Basketball</td>\n",
       "      <td>79</td>\n",
       "      <td>180</td>\n",
       "      <td>190</td>\n",
       "      <td>82</td>\n",
       "    </tr>\n",
       "    <tr>\n",
       "      <th>11</th>\n",
       "      <td>12</td>\n",
       "      <td>Basketball</td>\n",
       "      <td>45</td>\n",
       "      <td>187</td>\n",
       "      <td>188</td>\n",
       "      <td>79</td>\n",
       "    </tr>\n",
       "    <tr>\n",
       "      <th>12</th>\n",
       "      <td>13</td>\n",
       "      <td>Basketball</td>\n",
       "      <td>86</td>\n",
       "      <td>181</td>\n",
       "      <td>178</td>\n",
       "      <td>81</td>\n",
       "    </tr>\n",
       "    <tr>\n",
       "      <th>13</th>\n",
       "      <td>14</td>\n",
       "      <td>Basketball</td>\n",
       "      <td>81</td>\n",
       "      <td>175</td>\n",
       "      <td>181</td>\n",
       "      <td>78</td>\n",
       "    </tr>\n",
       "    <tr>\n",
       "      <th>14</th>\n",
       "      <td>15</td>\n",
       "      <td>Basketball</td>\n",
       "      <td>79</td>\n",
       "      <td>175</td>\n",
       "      <td>185</td>\n",
       "      <td>75</td>\n",
       "    </tr>\n",
       "    <tr>\n",
       "      <th>15</th>\n",
       "      <td>16</td>\n",
       "      <td>Hockey</td>\n",
       "      <td>75</td>\n",
       "      <td>167</td>\n",
       "      <td>170</td>\n",
       "      <td>98</td>\n",
       "    </tr>\n",
       "    <tr>\n",
       "      <th>16</th>\n",
       "      <td>17</td>\n",
       "      <td>Hockey</td>\n",
       "      <td>91</td>\n",
       "      <td>165</td>\n",
       "      <td>172</td>\n",
       "      <td>96</td>\n",
       "    </tr>\n",
       "    <tr>\n",
       "      <th>17</th>\n",
       "      <td>18</td>\n",
       "      <td>Hockey</td>\n",
       "      <td>85</td>\n",
       "      <td>170</td>\n",
       "      <td>173</td>\n",
       "      <td>97</td>\n",
       "    </tr>\n",
       "    <tr>\n",
       "      <th>18</th>\n",
       "      <td>19</td>\n",
       "      <td>Hockey</td>\n",
       "      <td>61</td>\n",
       "      <td>172</td>\n",
       "      <td>171</td>\n",
       "      <td>97</td>\n",
       "    </tr>\n",
       "    <tr>\n",
       "      <th>19</th>\n",
       "      <td>20</td>\n",
       "      <td>Hockey</td>\n",
       "      <td>77</td>\n",
       "      <td>169</td>\n",
       "      <td>172</td>\n",
       "      <td>98</td>\n",
       "    </tr>\n",
       "  </tbody>\n",
       "</table>\n",
       "</div>"
      ],
      "text/plain": [
       "    student       Sport  Score  Height  Weight  Fitness\n",
       "0         1    Football     67     172     220       95\n",
       "1         2    Football     78     168     243       90\n",
       "2         3    Football     85     154     257       92\n",
       "3         4    Football     82     176     242       94\n",
       "4         5    Football     72     162     251       90\n",
       "5         6      Tennis     78     159     160       88\n",
       "6         7      Tennis     65     167     170       82\n",
       "7         8      Tennis     58     179     157       79\n",
       "8         9      Tennis     85     166     160       85\n",
       "9        10      Tennis     90     164     162       85\n",
       "10       11  Basketball     79     180     190       82\n",
       "11       12  Basketball     45     187     188       79\n",
       "12       13  Basketball     86     181     178       81\n",
       "13       14  Basketball     81     175     181       78\n",
       "14       15  Basketball     79     175     185       75\n",
       "15       16      Hockey     75     167     170       98\n",
       "16       17      Hockey     91     165     172       96\n",
       "17       18      Hockey     85     170     173       97\n",
       "18       19      Hockey     61     172     171       97\n",
       "19       20      Hockey     77     169     172       98"
      ]
     },
     "execution_count": 6,
     "metadata": {},
     "output_type": "execute_result"
    }
   ],
   "source": [
    "df\n"
   ]
  },
  {
   "cell_type": "code",
   "execution_count": 7,
   "metadata": {},
   "outputs": [
    {
     "data": {
      "text/plain": [
       "<AxesSubplot:xlabel='Score'>"
      ]
     },
     "execution_count": 7,
     "metadata": {},
     "output_type": "execute_result"
    },
    {
     "data": {
      "image/png": "[encoded data removed]",
      "text/plain": [
       "<Figure size 432x288 with 1 Axes>"
      ]
     },
     "metadata": {
      "needs_background": "light"
     },
     "output_type": "display_data"
    }
   ],
   "source": [
    "score_group = df.groupby('Score') \n",
    "score_group.size().plot(kind='bar') # Use size to get number of items for each score"
   ]
  },
  {
   "cell_type": "code",
   "execution_count": 8,
   "metadata": {},
   "outputs": [
    {
     "data": {
      "text/plain": [
       "<AxesSubplot:xlabel='Sport'>"
      ]
     },
     "execution_count": 8,
     "metadata": {},
     "output_type": "execute_result"
    },
    {
     "data": {
      "image/png": "[encoded data removed]",
      "text/plain": [
       "<Figure size 432x288 with 1 Axes>"
      ]
     },
     "metadata": {
      "needs_background": "light"
     },
     "output_type": "display_data"
    }
   ],
   "source": [
    "sport_group = df.groupby('Sport')\n",
    "sport_group.size().plot(kind='bar')"
   ]
  },
  {
   "cell_type": "code",
   "execution_count": 9,
   "metadata": {},
   "outputs": [
    {
     "data": {
      "text/plain": [
       "Sport\n",
       "Basketball    79.0\n",
       "Football      92.2\n",
       "Hockey        97.2\n",
       "Tennis        83.8\n",
       "Name: Fitness, dtype: float64"
      ]
     },
     "execution_count": 9,
     "metadata": {},
     "output_type": "execute_result"
    }
   ],
   "source": [
    "athlete_group = df.groupby('Sport')['Fitness']\n",
    "athlete_group.mean()"
   ]
  },
  {
   "cell_type": "code",
   "execution_count": 10,
   "metadata": {},
   "outputs": [
    {
     "data": {
      "text/html": [
       "<div>\n",
       "<style scoped>\n",
       "    .dataframe tbody tr th:only-of-type {\n",
       "        vertical-align: middle;\n",
       "    }\n",
       "\n",
       "    .dataframe tbody tr th {\n",
       "        vertical-align: top;\n",
       "    }\n",
       "\n",
       "    .dataframe thead th {\n",
       "        text-align: right;\n",
       "    }\n",
       "</style>\n",
       "<table border=\"1\" class=\"dataframe\">\n",
       "  <thead>\n",
       "    <tr style=\"text-align: right;\">\n",
       "      <th></th>\n",
       "      <th>Sport</th>\n",
       "      <th>mean</th>\n",
       "    </tr>\n",
       "  </thead>\n",
       "  <tbody>\n",
       "    <tr>\n",
       "      <th>0</th>\n",
       "      <td>Basketball</td>\n",
       "      <td>79.0</td>\n",
       "    </tr>\n",
       "    <tr>\n",
       "      <th>1</th>\n",
       "      <td>Football</td>\n",
       "      <td>92.2</td>\n",
       "    </tr>\n",
       "    <tr>\n",
       "      <th>2</th>\n",
       "      <td>Hockey</td>\n",
       "      <td>97.2</td>\n",
       "    </tr>\n",
       "    <tr>\n",
       "      <th>3</th>\n",
       "      <td>Tennis</td>\n",
       "      <td>83.8</td>\n",
       "    </tr>\n",
       "  </tbody>\n",
       "</table>\n",
       "</div>"
      ],
      "text/plain": [
       "        Sport  mean\n",
       "0  Basketball  79.0\n",
       "1    Football  92.2\n",
       "2      Hockey  97.2\n",
       "3      Tennis  83.8"
      ]
     },
     "execution_count": 10,
     "metadata": {},
     "output_type": "execute_result"
    }
   ],
   "source": [
    "athlete_group = df.groupby('Sport')['Fitness'].agg(['mean']).reset_index()\n",
    "athlete_group"
   ]
  },
  {
   "cell_type": "code",
   "execution_count": 11,
   "metadata": {},
   "outputs": [
    {
     "data": {
      "text/html": [
       "<div>\n",
       "<style scoped>\n",
       "    .dataframe tbody tr th:only-of-type {\n",
       "        vertical-align: middle;\n",
       "    }\n",
       "\n",
       "    .dataframe tbody tr th {\n",
       "        vertical-align: top;\n",
       "    }\n",
       "\n",
       "    .dataframe thead th {\n",
       "        text-align: right;\n",
       "    }\n",
       "</style>\n",
       "<table border=\"1\" class=\"dataframe\">\n",
       "  <thead>\n",
       "    <tr style=\"text-align: right;\">\n",
       "      <th></th>\n",
       "      <th>Sport</th>\n",
       "      <th>sum</th>\n",
       "      <th>count</th>\n",
       "      <th>mean</th>\n",
       "    </tr>\n",
       "  </thead>\n",
       "  <tbody>\n",
       "    <tr>\n",
       "      <th>0</th>\n",
       "      <td>Basketball</td>\n",
       "      <td>922</td>\n",
       "      <td>5</td>\n",
       "      <td>184.4</td>\n",
       "    </tr>\n",
       "    <tr>\n",
       "      <th>1</th>\n",
       "      <td>Football</td>\n",
       "      <td>1213</td>\n",
       "      <td>5</td>\n",
       "      <td>242.6</td>\n",
       "    </tr>\n",
       "    <tr>\n",
       "      <th>2</th>\n",
       "      <td>Hockey</td>\n",
       "      <td>858</td>\n",
       "      <td>5</td>\n",
       "      <td>171.6</td>\n",
       "    </tr>\n",
       "    <tr>\n",
       "      <th>3</th>\n",
       "      <td>Tennis</td>\n",
       "      <td>809</td>\n",
       "      <td>5</td>\n",
       "      <td>161.8</td>\n",
       "    </tr>\n",
       "  </tbody>\n",
       "</table>\n",
       "</div>"
      ],
      "text/plain": [
       "        Sport   sum  count   mean\n",
       "0  Basketball   922      5  184.4\n",
       "1    Football  1213      5  242.6\n",
       "2      Hockey   858      5  171.6\n",
       "3      Tennis   809      5  161.8"
      ]
     },
     "execution_count": 11,
     "metadata": {},
     "output_type": "execute_result"
    }
   ],
   "source": [
    "athlete_group = df.groupby('Sport')['Weight'].agg(['sum','count','mean']).reset_index()\n",
    "athlete_group"
   ]
  },
  {
   "cell_type": "code",
   "execution_count": 12,
   "metadata": {},
   "outputs": [
    {
     "data": {
      "image/png": "[encoded data removed]",
      "text/plain": [
       "<Figure size 720x360 with 1 Axes>"
      ]
     },
     "metadata": {
      "needs_background": "light"
     },
     "output_type": "display_data"
    }
   ],
   "source": [
    "import pandas as pd\n",
    "import matplotlib.pyplot as plt\n",
    "import numpy as np\n",
    "\n",
    "# Jupter notebook specific\n",
    "%matplotlib inline\n",
    "\n",
    "# Adjust plot size\n",
    "plt.rcParams[\"figure.figsize\"] = (10,5)\n",
    "\n",
    "# Group Athlete data by sport and create bar graph of students per sport\n",
    "df.groupby('Sport').count().reset_index().plot(x = 'Sport', \n",
    "                                               y = 'student',\n",
    "                                               kind = 'bar',\n",
    "                                               color = 'green',\n",
    "                                               legend = False,\n",
    "                                               title = 'Students per Sport');"
   ]
  },
  {
   "cell_type": "markdown",
   "metadata": {},
   "source": [
    "## Subplots"
   ]
  },
  {
   "cell_type": "markdown",
   "metadata": {},
   "source": [
    "### Often, you will want to present multiple plots next to each other in a grid. You can do this using the subplot function."
   ]
  },
  {
   "cell_type": "code",
   "execution_count": 13,
   "metadata": {},
   "outputs": [
    {
     "data": {
      "text/plain": [
       "Text(0.5, 0, 'Sports')"
      ]
     },
     "execution_count": 13,
     "metadata": {},
     "output_type": "execute_result"
    },
    {
     "data": {
      "image/png": "[encoded data removed]",
      "text/plain": [
       "<Figure size 864x288 with 2 Axes>"
      ]
     },
     "metadata": {
      "needs_background": "light"
     },
     "output_type": "display_data"
    }
   ],
   "source": [
    "#fig, axs = plt.subplots(1, 2, figsize=(12, 4), sharey=False)  1 = number of rows of plots, 2 = number of columns of plots\n",
    "fig, axs = plt.subplots(1, 2, figsize=(12, 4), sharey=False) # sharey = false means do not share y-axis \n",
    "\n",
    "axs[0].bar(athlete_group['Sport'], athlete_group['count'])\n",
    "axs[1].bar(athlete_group['Sport'], athlete_group['mean'])\n",
    "\n",
    "fig.suptitle('Number of Students and Student Weight by Sport');\n",
    "axs[0].set_ylabel('Number Count')\n",
    "axs[1].set_ylabel('Mean Weight')\n",
    "axs[0].set_xlabel('Sports')\n",
    "axs[1].set_xlabel('Sports')"
   ]
  },
  {
   "cell_type": "code",
   "execution_count": 14,
   "metadata": {},
   "outputs": [
    {
     "data": {
      "text/plain": [
       "Text(0.5, 0, 'Sports')"
      ]
     },
     "execution_count": 14,
     "metadata": {},
     "output_type": "execute_result"
    },
    {
     "data": {
      "image/png": "[encoded data removed]",
      "text/plain": [
       "<Figure size 432x576 with 2 Axes>"
      ]
     },
     "metadata": {
      "needs_background": "light"
     },
     "output_type": "display_data"
    }
   ],
   "source": [
    "fig, axs = plt.subplots(2, 1, figsize=(6, 8), sharey=False) # sharey means do not share y-axis \n",
    "\n",
    "axs[0].bar(athlete_group['Sport'], athlete_group['count'])\n",
    "axs[1].bar(athlete_group['Sport'], athlete_group['mean'])\n",
    "\n",
    "fig.suptitle('Number of Students and Student Weight by Sport');\n",
    "axs[0].set_ylabel('Number Count')\n",
    "axs[1].set_ylabel('Mean Weight')\n",
    "axs[0].set_xlabel('Sports')\n",
    "axs[1].set_xlabel('Sports')"
   ]
  },
  {
   "cell_type": "code",
   "execution_count": 15,
   "metadata": {},
   "outputs": [
    {
     "data": {
      "image/png": "[encoded data removed]",
      "text/plain": [
       "<Figure size 720x360 with 1 Axes>"
      ]
     },
     "metadata": {
      "needs_background": "light"
     },
     "output_type": "display_data"
    }
   ],
   "source": [
    "plt.hist(df['Height'], bins = 10);"
   ]
  },
  {
   "cell_type": "markdown",
   "metadata": {},
   "source": [
    "In your subplots, you can specify the following parameters:\n",
    "\n",
    "Number of plots per row/column\n",
    "The total width/height of the combined plots\n",
    "Whether or not you want to share the x-axis or y-axis between each plot"
   ]
  },
  {
   "cell_type": "code",
   "execution_count": 16,
   "metadata": {},
   "outputs": [
    {
     "data": {
      "text/plain": [
       "Text(0.5, 0, 'Weight')"
      ]
     },
     "execution_count": 16,
     "metadata": {},
     "output_type": "execute_result"
    },
    {
     "data": {
      "image/png": "[encoded data removed]",
      "text/plain": [
       "<Figure size 1080x288 with 3 Axes>"
      ]
     },
     "metadata": {
      "needs_background": "light"
     },
     "output_type": "display_data"
    }
   ],
   "source": [
    "fig, axs = plt.subplots(1, 3, figsize=(15, 4), sharey=False, sharex = False)\n",
    "axs[0].hist(df['Fitness'], bins = 10, color = 'darkblue')\n",
    "axs[1].hist(df['Height'], bins = 10, color = 'darkred')\n",
    "axs[2].hist(df['Weight'], bins = 15, color = 'darkgreen');\n",
    "\n",
    "axs[0].set_ylabel('Number Count')\n",
    "axs[1].set_ylabel('Number Count')\n",
    "axs[2].set_ylabel('Number Count')\n",
    "axs[0].set_xlabel('Fitness')\n",
    "axs[1].set_xlabel('Height')\n",
    "axs[2].set_xlabel('Weight')"
   ]
  },
  {
   "cell_type": "markdown",
   "metadata": {},
   "source": [
    "## A Real-Life Example from the City of New  York"
   ]
  },
  {
   "cell_type": "code",
   "execution_count": 17,
   "metadata": {},
   "outputs": [
    {
     "data": {
      "text/html": [
       "<div>\n",
       "<style scoped>\n",
       "    .dataframe tbody tr th:only-of-type {\n",
       "        vertical-align: middle;\n",
       "    }\n",
       "\n",
       "    .dataframe tbody tr th {\n",
       "        vertical-align: top;\n",
       "    }\n",
       "\n",
       "    .dataframe thead th {\n",
       "        text-align: right;\n",
       "    }\n",
       "</style>\n",
       "<table border=\"1\" class=\"dataframe\">\n",
       "  <thead>\n",
       "    <tr style=\"text-align: right;\">\n",
       "      <th></th>\n",
       "      <th>created_at</th>\n",
       "      <th>tree_id</th>\n",
       "      <th>tree_dbh</th>\n",
       "      <th>stump_diam</th>\n",
       "      <th>curb_loc</th>\n",
       "      <th>status</th>\n",
       "      <th>health</th>\n",
       "      <th>spc_common</th>\n",
       "      <th>guards</th>\n",
       "      <th>user_type</th>\n",
       "      <th>root_stone</th>\n",
       "      <th>root_grate</th>\n",
       "      <th>root_other</th>\n",
       "      <th>address</th>\n",
       "      <th>zipcode</th>\n",
       "      <th>boroname</th>\n",
       "      <th>cncldist</th>\n",
       "      <th>latitude</th>\n",
       "      <th>longitude</th>\n",
       "    </tr>\n",
       "  </thead>\n",
       "  <tbody>\n",
       "    <tr>\n",
       "      <th>0</th>\n",
       "      <td>2015-08-27</td>\n",
       "      <td>180683</td>\n",
       "      <td>3</td>\n",
       "      <td>0</td>\n",
       "      <td>OnCurb</td>\n",
       "      <td>Alive</td>\n",
       "      <td>Fair</td>\n",
       "      <td>red maple</td>\n",
       "      <td>None</td>\n",
       "      <td>TreesCount Staff</td>\n",
       "      <td>No</td>\n",
       "      <td>No</td>\n",
       "      <td>No</td>\n",
       "      <td>108-005 70 AVENUE</td>\n",
       "      <td>11375</td>\n",
       "      <td>Queens</td>\n",
       "      <td>29</td>\n",
       "      <td>40.723092</td>\n",
       "      <td>-73.844215</td>\n",
       "    </tr>\n",
       "    <tr>\n",
       "      <th>1</th>\n",
       "      <td>2015-09-03</td>\n",
       "      <td>200540</td>\n",
       "      <td>21</td>\n",
       "      <td>0</td>\n",
       "      <td>OnCurb</td>\n",
       "      <td>Alive</td>\n",
       "      <td>Fair</td>\n",
       "      <td>pin oak</td>\n",
       "      <td>None</td>\n",
       "      <td>TreesCount Staff</td>\n",
       "      <td>Yes</td>\n",
       "      <td>No</td>\n",
       "      <td>No</td>\n",
       "      <td>147-074 7 AVENUE</td>\n",
       "      <td>11357</td>\n",
       "      <td>Queens</td>\n",
       "      <td>19</td>\n",
       "      <td>40.794111</td>\n",
       "      <td>-73.818679</td>\n",
       "    </tr>\n",
       "    <tr>\n",
       "      <th>2</th>\n",
       "      <td>2015-09-05</td>\n",
       "      <td>204026</td>\n",
       "      <td>3</td>\n",
       "      <td>0</td>\n",
       "      <td>OnCurb</td>\n",
       "      <td>Alive</td>\n",
       "      <td>Good</td>\n",
       "      <td>honeylocust</td>\n",
       "      <td>None</td>\n",
       "      <td>Volunteer</td>\n",
       "      <td>No</td>\n",
       "      <td>No</td>\n",
       "      <td>No</td>\n",
       "      <td>390 MORGAN AVENUE</td>\n",
       "      <td>11211</td>\n",
       "      <td>Brooklyn</td>\n",
       "      <td>34</td>\n",
       "      <td>40.717581</td>\n",
       "      <td>-73.936608</td>\n",
       "    </tr>\n",
       "    <tr>\n",
       "      <th>3</th>\n",
       "      <td>2015-09-05</td>\n",
       "      <td>204337</td>\n",
       "      <td>10</td>\n",
       "      <td>0</td>\n",
       "      <td>OnCurb</td>\n",
       "      <td>Alive</td>\n",
       "      <td>Good</td>\n",
       "      <td>honeylocust</td>\n",
       "      <td>None</td>\n",
       "      <td>Volunteer</td>\n",
       "      <td>Yes</td>\n",
       "      <td>No</td>\n",
       "      <td>No</td>\n",
       "      <td>1027 GRAND STREET</td>\n",
       "      <td>11211</td>\n",
       "      <td>Brooklyn</td>\n",
       "      <td>34</td>\n",
       "      <td>40.713537</td>\n",
       "      <td>-73.934456</td>\n",
       "    </tr>\n",
       "    <tr>\n",
       "      <th>4</th>\n",
       "      <td>2015-08-30</td>\n",
       "      <td>189565</td>\n",
       "      <td>21</td>\n",
       "      <td>0</td>\n",
       "      <td>OnCurb</td>\n",
       "      <td>Alive</td>\n",
       "      <td>Good</td>\n",
       "      <td>American linden</td>\n",
       "      <td>None</td>\n",
       "      <td>Volunteer</td>\n",
       "      <td>Yes</td>\n",
       "      <td>No</td>\n",
       "      <td>No</td>\n",
       "      <td>603 6 STREET</td>\n",
       "      <td>11215</td>\n",
       "      <td>Brooklyn</td>\n",
       "      <td>39</td>\n",
       "      <td>40.666778</td>\n",
       "      <td>-73.975979</td>\n",
       "    </tr>\n",
       "  </tbody>\n",
       "</table>\n",
       "</div>"
      ],
      "text/plain": [
       "  created_at  tree_id  tree_dbh  stump_diam curb_loc status health  \\\n",
       "0 2015-08-27   180683         3           0   OnCurb  Alive   Fair   \n",
       "1 2015-09-03   200540        21           0   OnCurb  Alive   Fair   \n",
       "2 2015-09-05   204026         3           0   OnCurb  Alive   Good   \n",
       "3 2015-09-05   204337        10           0   OnCurb  Alive   Good   \n",
       "4 2015-08-30   189565        21           0   OnCurb  Alive   Good   \n",
       "\n",
       "        spc_common guards         user_type root_stone root_grate root_other  \\\n",
       "0        red maple   None  TreesCount Staff         No         No         No   \n",
       "1          pin oak   None  TreesCount Staff        Yes         No         No   \n",
       "2      honeylocust   None         Volunteer         No         No         No   \n",
       "3      honeylocust   None         Volunteer        Yes         No         No   \n",
       "4  American linden   None         Volunteer        Yes         No         No   \n",
       "\n",
       "             address  zipcode  boroname  cncldist   latitude  longitude  \n",
       "0  108-005 70 AVENUE    11375    Queens        29  40.723092 -73.844215  \n",
       "1   147-074 7 AVENUE    11357    Queens        19  40.794111 -73.818679  \n",
       "2  390 MORGAN AVENUE    11211  Brooklyn        34  40.717581 -73.936608  \n",
       "3  1027 GRAND STREET    11211  Brooklyn        34  40.713537 -73.934456  \n",
       "4       603 6 STREET    11215  Brooklyn        39  40.666778 -73.975979  "
      ]
     },
     "execution_count": 17,
     "metadata": {},
     "output_type": "execute_result"
    }
   ],
   "source": [
    "trees = pd.read_json(\"http://data.cityofnewyork.us/resource/5rq2-4hqu.json\")\n",
    "trees = trees.drop(['zip_city', 'x_sp', 'y_sp', 'brnch_ligh', 'brnch_othe', 'brnch_shoe',\n",
    "                    'the_geom', 'trnk_light', 'trnk_other', 'trnk_wire', 'boro_ct', 'borocode',\n",
    "                    'cb_num', 'spc_latin', 'st_assem', 'st_senate', 'steward', 'state', 'sidewalk', \n",
    "                    'block_id', 'nta', 'nta_name', 'problems'], \n",
    "                    axis = 'columns')\n",
    "\n",
    "trees.head()"
   ]
  },
  {
   "cell_type": "code",
   "execution_count": 18,
   "metadata": {},
   "outputs": [
    {
     "data": {
      "image/png": "[encoded data removed]",
      "text/plain": [
       "<Figure size 720x360 with 1 Axes>"
      ]
     },
     "metadata": {
      "needs_background": "light"
     },
     "output_type": "display_data"
    }
   ],
   "source": [
    "# Adjust plot size\n",
    "plt.rcParams[\"figure.figsize\"] = (10,5)\n",
    "\n",
    "# Group trees data and create bar graph of trees per borough\n",
    "trees.groupby('boroname').count().reset_index().plot(x = 'boroname', \n",
    "                                                     y = 'tree_id', \n",
    "                                                     kind = 'bar',\n",
    "                                                     color = 'purple',\n",
    "                                                     legend = False,\n",
    "                                                     title = 'Trees per Borough');"
   ]
  },
  {
   "cell_type": "markdown",
   "metadata": {},
   "source": [
    "## Data Vizualization using Seaborn"
   ]
  },
  {
   "cell_type": "code",
   "execution_count": 19,
   "metadata": {},
   "outputs": [],
   "source": [
    "import seaborn as sns\n",
    "import pandas as pd\n",
    "import numpy as np\n",
    "%matplotlib inline\n",
    "import matplotlib.pyplot as plt"
   ]
  },
  {
   "cell_type": "code",
   "execution_count": 20,
   "metadata": {},
   "outputs": [
    {
     "data": {
      "text/html": [
       "<div>\n",
       "<style scoped>\n",
       "    .dataframe tbody tr th:only-of-type {\n",
       "        vertical-align: middle;\n",
       "    }\n",
       "\n",
       "    .dataframe tbody tr th {\n",
       "        vertical-align: top;\n",
       "    }\n",
       "\n",
       "    .dataframe thead th {\n",
       "        text-align: right;\n",
       "    }\n",
       "</style>\n",
       "<table border=\"1\" class=\"dataframe\">\n",
       "  <thead>\n",
       "    <tr style=\"text-align: right;\">\n",
       "      <th></th>\n",
       "      <th>sepal_len</th>\n",
       "      <th>sepal_wid</th>\n",
       "      <th>petal_len</th>\n",
       "      <th>petal_wid</th>\n",
       "      <th>class</th>\n",
       "    </tr>\n",
       "  </thead>\n",
       "  <tbody>\n",
       "    <tr>\n",
       "      <th>0</th>\n",
       "      <td>5.1</td>\n",
       "      <td>3.5</td>\n",
       "      <td>1.4</td>\n",
       "      <td>0.2</td>\n",
       "      <td>Iris-setosa</td>\n",
       "    </tr>\n",
       "    <tr>\n",
       "      <th>1</th>\n",
       "      <td>4.9</td>\n",
       "      <td>3.0</td>\n",
       "      <td>1.4</td>\n",
       "      <td>0.2</td>\n",
       "      <td>Iris-setosa</td>\n",
       "    </tr>\n",
       "    <tr>\n",
       "      <th>2</th>\n",
       "      <td>4.7</td>\n",
       "      <td>3.2</td>\n",
       "      <td>1.3</td>\n",
       "      <td>0.2</td>\n",
       "      <td>Iris-setosa</td>\n",
       "    </tr>\n",
       "    <tr>\n",
       "      <th>3</th>\n",
       "      <td>4.6</td>\n",
       "      <td>3.1</td>\n",
       "      <td>1.5</td>\n",
       "      <td>0.2</td>\n",
       "      <td>Iris-setosa</td>\n",
       "    </tr>\n",
       "    <tr>\n",
       "      <th>4</th>\n",
       "      <td>5.0</td>\n",
       "      <td>3.6</td>\n",
       "      <td>1.4</td>\n",
       "      <td>0.2</td>\n",
       "      <td>Iris-setosa</td>\n",
       "    </tr>\n",
       "  </tbody>\n",
       "</table>\n",
       "</div>"
      ],
      "text/plain": [
       "   sepal_len  sepal_wid  petal_len  petal_wid        class\n",
       "0        5.1        3.5        1.4        0.2  Iris-setosa\n",
       "1        4.9        3.0        1.4        0.2  Iris-setosa\n",
       "2        4.7        3.2        1.3        0.2  Iris-setosa\n",
       "3        4.6        3.1        1.5        0.2  Iris-setosa\n",
       "4        5.0        3.6        1.4        0.2  Iris-setosa"
      ]
     },
     "execution_count": 20,
     "metadata": {},
     "output_type": "execute_result"
    }
   ],
   "source": [
    "# Retrieve the CSV file from a website containing the Iris dataset\n",
    "# Use the pandas read_csv method to create a pandas dataframe called iris\n",
    "iris = pd.read_csv('http://h2o-public-test-data.s3.amazonaws.com/smalldata/iris/iris_wheader.csv')\n",
    "iris.head() # display the top five rows of the dataframe"
   ]
  },
  {
   "cell_type": "code",
   "execution_count": 21,
   "metadata": {},
   "outputs": [
    {
     "name": "stderr",
     "output_type": "stream",
     "text": [
      "C:\\Users\\gauti.sigthorsson\\Miniconda3\\envs\\shed_py39\\lib\\site-packages\\seaborn\\_decorators.py:36: FutureWarning: Pass the following variables as keyword args: x, y. From version 0.12, the only valid positional argument will be `data`, and passing other arguments without an explicit keyword will result in an error or misinterpretation.\n",
      "  warnings.warn(\n"
     ]
    },
    {
     "data": {
      "image/png": "[encoded data removed]",
      "text/plain": [
       "<Figure size 432x288 with 1 Axes>"
      ]
     },
     "metadata": {
      "needs_background": "light"
     },
     "output_type": "display_data"
    }
   ],
   "source": [
    "# Display petal length v petal width\n",
    "sns.scatterplot(iris['petal_len'], iris['petal_wid']);"
   ]
  },
  {
   "cell_type": "code",
   "execution_count": 22,
   "metadata": {},
   "outputs": [
    {
     "data": {
      "image/png": "[encoded data removed]",
      "text/plain": [
       "<Figure size 1080x288 with 2 Axes>"
      ]
     },
     "metadata": {
      "needs_background": "light"
     },
     "output_type": "display_data"
    }
   ],
   "source": [
    "# Plot side by side graphs of petal length v petal width and sepal length v sepal width showing the iris classes\n",
    "fig, axs = plt.subplots(1, 2, figsize=(15, 4))\n",
    "\n",
    "sns.scatterplot(x = iris['petal_len'], y = iris['petal_wid'], hue = iris['class'], ax=axs[0])\n",
    "sns.scatterplot(x = iris['sepal_len'], y = iris['sepal_wid'], hue = iris['class'], ax=axs[1]);"
   ]
  },
  {
   "cell_type": "code",
   "execution_count": 25,
   "metadata": {},
   "outputs": [
    {
     "data": {
      "text/plain": [
       "<seaborn.axisgrid.FacetGrid at 0x2592cfeb640>"
      ]
     },
     "execution_count": 25,
     "metadata": {},
     "output_type": "execute_result"
    },
    {
     "data": {
      "image/png": "[encoded data removed]",
      "text/plain": [
       "<Figure size 360x360 with 1 Axes>"
      ]
     },
     "metadata": {
      "needs_background": "light"
     },
     "output_type": "display_data"
    }
   ],
   "source": [
    "# Plot the distribution of petal length\n",
    "sns.displot(iris['sepal_len'])"
   ]
  },
  {
   "cell_type": "code",
   "execution_count": 26,
   "metadata": {},
   "outputs": [
    {
     "name": "stderr",
     "output_type": "stream",
     "text": [
      "C:\\Users\\gauti.sigthorsson\\Miniconda3\\envs\\shed_py39\\lib\\site-packages\\seaborn\\distributions.py:2619: FutureWarning: `distplot` is a deprecated function and will be removed in a future version. Please adapt your code to use either `displot` (a figure-level function with similar flexibility) or `histplot` (an axes-level function for histograms).\n",
      "  warnings.warn(msg, FutureWarning)\n"
     ]
    },
    {
     "data": {
      "text/plain": [
       "Text(0, 0.5, 'Frequency')"
      ]
     },
     "execution_count": 26,
     "metadata": {},
     "output_type": "execute_result"
    },
    {
     "data": {
      "image/png": "[encoded data removed]",
      "text/plain": [
       "<Figure size 432x288 with 1 Axes>"
      ]
     },
     "metadata": {
      "needs_background": "light"
     },
     "output_type": "display_data"
    }
   ],
   "source": [
    "# Plot again using more of the display variables\n",
    "sns.distplot(iris['sepal_len'], kde=False, color='blue', bins=14)\n",
    "plt.title('Sepal Length in Cms', fontsize=18)\n",
    "plt.xlabel('Sepal Length', fontsize=16)\n",
    "plt.ylabel('Frequency', fontsize=16)"
   ]
  },
  {
   "cell_type": "code",
   "execution_count": 27,
   "metadata": {},
   "outputs": [
    {
     "data": {
      "text/plain": [
       "Text(0.5, 1.0, 'Iris-senosa')"
      ]
     },
     "execution_count": 27,
     "metadata": {},
     "output_type": "execute_result"
    },
    {
     "data": {
      "image/png": "[encoded data removed]",
      "text/plain": [
       "<Figure size 432x288 with 1 Axes>"
      ]
     },
     "metadata": {
      "needs_background": "light"
     },
     "output_type": "display_data"
    }
   ],
   "source": [
    "# create a new dataframe called \n",
    "iris_class = iris[iris['class'] =='Iris-setosa']\n",
    "sns.distplot(iris_class['sepal_len'],  kde=False, color='green', label='Iris-setosa')\n",
    "plt.title('Iris-senosa', fontsize=18)"
   ]
  },
  {
   "cell_type": "code",
   "execution_count": 28,
   "metadata": {},
   "outputs": [
    {
     "data": {
      "text/plain": [
       "Text(0, 0.5, 'Frequency')"
      ]
     },
     "execution_count": 28,
     "metadata": {},
     "output_type": "execute_result"
    },
    {
     "data": {
      "image/png": "[encoded data removed]",
      "text/plain": [
       "<Figure size 432x288 with 1 Axes>"
      ]
     },
     "metadata": {
      "needs_background": "light"
     },
     "output_type": "display_data"
    }
   ],
   "source": [
    "iris_class = iris[iris['class'] =='Iris-setosa']\n",
    "sns.distplot(iris_class['sepal_len'],  kde=False, label='Iris-setosa')\n",
    "iris_class = iris[iris['class'] =='Iris-versicolor']\n",
    "sns.distplot(iris_class['sepal_len'],  kde=False, label='Iris-versicolor')\n",
    "iris_class = iris[iris['class'] =='Iris-virginica']\n",
    "sns.distplot(iris_class['sepal_len'],  kde=False, label='Iris-virginica')\n",
    "plt.legend(prop={'size': 12})\n",
    "plt.title('Sepal Length  of three classes of Iris')\n",
    "plt.xlabel('Sepal Length in Cms')\n",
    "plt.ylabel('Frequency')"
   ]
  },
  {
   "cell_type": "code",
   "execution_count": null,
   "metadata": {},
   "outputs": [],
   "source": []
  }
 ],
 "metadata": {
  "kernelspec": {
   "display_name": "Python 3.8.3 ('shed')",
   "language": "python",
   "name": "python3"
  },
  "language_info": {
   "codemirror_mode": {
    "name": "ipython",
    "version": 3
   },
   "file_extension": ".py",
   "mimetype": "text/x-python",
   "name": "python",
   "nbconvert_exporter": "python",
   "pygments_lexer": "ipython3",
   "version": "3.8.3"
  },
  "vscode": {
   "interpreter": {
    "hash": "25febdc273ee3944d7f60182e0e68095a4113921f6f97dab751113b34c91f1e3"
   }
  }
 },
 "nbformat": 4,
 "nbformat_minor": 2
}
