{
  "cells": [
    {
      "cell_type": "markdown",
      "metadata": {
        "id": "TjSnuT5uVknz"
      },
      "source": [
        "# UN population projection: Compare groupings\n",
        "Projection for selected migration variant compared for groupings of countries."
      ]
    },
    {
      "cell_type": "code",
      "execution_count": null,
      "metadata": {
        "id": "armO3RNVVYya"
      },
      "outputs": [],
      "source": [
        "# Import libraries\n",
        "import pandas as pd\n",
        "import seaborn as sns"
      ]
    },
    {
      "cell_type": "markdown",
      "metadata": {
        "id": "lvc7n_BSr4_5"
      },
      "source": [
        "Dataset: [UN World Population Prospects 2022](https://population.un.org/wpp/Download/Standard/CSV/) in CSV format. Follow the link for the full explanation of what each category (column) means. Population numbers are written in thousands (i.e., 1000 = 1 mil)."
      ]
    },
    {
      "cell_type": "code",
      "execution_count": null,
      "metadata": {
        "id": "irb6OKV4WszO"
      },
      "outputs": [],
      "source": [
        "# Load data from local file\n",
        "file_url = r'data\\WPP2022_TotalPopulationBySex.csv' # Path in Win11 format. You need to re-enter the path for Mac/Linux\n",
        "df = pd.read_csv(file_url, low_memory=False)"
      ]
    },
    {
      "cell_type": "code",
      "execution_count": null,
      "metadata": {
        "colab": {
          "base_uri": "https://localhost:8080/"
        },
        "id": "exZ0K0ortL-V",
        "outputId": "983953f8-9267-422f-e3ee-ef08e5a7d2fb"
      },
      "outputs": [],
      "source": [
        "# Unique values ('Variant')\n",
        "df['Variant'].unique()"
      ]
    },
    {
      "cell_type": "code",
      "execution_count": null,
      "metadata": {
        "colab": {
          "base_uri": "https://localhost:8080/"
        },
        "id": "B5cO4bYlADw5",
        "outputId": "f2525f0d-8fd6-4b8d-967e-553d62dfd7a8"
      },
      "outputs": [],
      "source": [
        "df['Location'].unique()"
      ]
    },
    {
      "cell_type": "markdown",
      "metadata": {
        "id": "tgu8YO9w8jyM"
      },
      "source": [
        "# Single variant, compare countries or groupings\n",
        "\n",
        "---\n",
        "\n"
      ]
    },
    {
      "cell_type": "code",
      "execution_count": null,
      "metadata": {
        "id": "yp4YSnrrvl1v"
      },
      "outputs": [],
      "source": [
        "# Select projection variant (Variant)\n",
        "df = df[df['Variant'] == 'Medium']"
      ]
    },
    {
      "cell_type": "code",
      "execution_count": null,
      "metadata": {
        "id": "gePiAklQwC1U"
      },
      "outputs": [],
      "source": [
        "# Filter by list: Countries/areas (Location)\n",
        "location_list = ['High-income countries', 'Low-income countries', 'Middle-income countries']\n",
        "df = df[df['Location'].isin(location_list)]"
      ]
    },
    {
      "cell_type": "code",
      "execution_count": null,
      "metadata": {
        "id": "YFu4XYdwwecZ"
      },
      "outputs": [],
      "source": [
        "df = df[['Time', 'Location', 'PopTotal']]"
      ]
    },
    {
      "cell_type": "code",
      "execution_count": null,
      "metadata": {
        "id": "IXXR0vbUCJka"
      },
      "outputs": [],
      "source": [
        "# Because this is a large grouping: Add column showing population in millions\n",
        "df['PopMil'] = (df['PopTotal']*1000)/1000000"
      ]
    },
    {
      "cell_type": "code",
      "execution_count": null,
      "metadata": {
        "colab": {
          "base_uri": "https://localhost:8080/",
          "height": 513
        },
        "id": "mjo6NzAx3wzy",
        "outputId": "e2c79bb4-6ab6-40a3-f6bf-42990c1767de"
      },
      "outputs": [],
      "source": [
        "sns.set_context(\"talk\") # Size preset for graph\n",
        "# Plot change in number over time for two categories:\n",
        "sns.relplot(data=df, x=\"Time\", y=\"PopMil\", hue=\"Location\", kind=\"scatter\", height=7, aspect=2)"
      ]
    },
    {
      "cell_type": "code",
      "execution_count": null,
      "metadata": {
        "id": "Z9kR37Xjx-w8"
      },
      "outputs": [],
      "source": []
    }
  ],
  "metadata": {
    "colab": {
      "collapsed_sections": [],
      "provenance": []
    },
    "kernelspec": {
      "display_name": "Python 3.10.4 ('py310')",
      "language": "python",
      "name": "python3"
    },
    "language_info": {
      "codemirror_mode": {
        "name": "ipython",
        "version": 3
      },
      "file_extension": ".py",
      "mimetype": "text/x-python",
      "name": "python",
      "nbconvert_exporter": "python",
      "pygments_lexer": "ipython3",
      "version": "3.10.4"
    },
    "vscode": {
      "interpreter": {
        "hash": "bb7e28c91e03929dce0cc87071638f3542d33abb15c82bf85f58e7b91f5666fe"
      }
    }
  },
  "nbformat": 4,
  "nbformat_minor": 0
}
