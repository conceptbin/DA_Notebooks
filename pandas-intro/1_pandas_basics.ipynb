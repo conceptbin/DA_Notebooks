{
 "cells": [
  {
   "cell_type": "markdown",
   "metadata": {
    "id": "TjSnuT5uVknz"
   },
   "source": [
    "# Intro to pandas and Seaborn"
   ]
  },
  {
   "cell_type": "code",
   "execution_count": 1,
   "metadata": {
    "id": "armO3RNVVYya"
   },
   "outputs": [],
   "source": [
    "# Import libraries\n",
    "import pandas as pd\n",
    "import seaborn as sns"
   ]
  },
  {
   "cell_type": "markdown",
   "metadata": {
    "id": "2tBBkjAANoVl"
   },
   "source": [
    "# Pandas (for data)\n",
    "An open source data analysis and manipulation tool, built on top of Python.\n",
    "\n",
    "**References:**\n",
    "\n",
    "[Pandas documentation](https://pandas.pydata.org/docs/). Dry and technical, but authoritative.\n",
    "\n",
    "[Pandas tutorial](https://www.kaggle.com/learn/pandas) on Kaggle, good for practice and reference.\n",
    "\n",
    "Soner Yildirim, \"[30 Examples to Master Pandas](https://towardsdatascience.com/30-examples-to-master-pandas-f8a2da751fa4)\" blog post on Towards Data Science (4 Nov 2020)."
   ]
  },
  {
   "cell_type": "markdown",
   "metadata": {
    "id": "i9KEJUw3N90a"
   },
   "source": [
    "## Series\n",
    "Series and DataFrames are the fundamental building blocks (data structures) in pandas.\n",
    "\n",
    "A Series is a single-column list with an index."
   ]
  },
  {
   "cell_type": "code",
   "execution_count": 4,
   "metadata": {
    "id": "-toE9jd_NFxH"
   },
   "outputs": [],
   "source": [
    "# Make a series from a list\n",
    "ser = pd.Series([5, 10, 7])"
   ]
  },
  {
   "cell_type": "code",
   "execution_count": 5,
   "metadata": {
    "colab": {
     "base_uri": "https://localhost:8080/"
    },
    "id": "PSzDtfdzUDTH",
    "outputId": "a25d5f64-d939-4c58-8dd4-3cebc4e40fb9"
   },
   "outputs": [
    {
     "data": {
      "text/plain": [
       "0     5\n",
       "1    10\n",
       "2     7\n",
       "dtype: int64"
      ]
     },
     "execution_count": 5,
     "metadata": {},
     "output_type": "execute_result"
    }
   ],
   "source": [
    "ser"
   ]
  },
  {
   "cell_type": "markdown",
   "metadata": {
    "id": "S12bYe-2QCKj"
   },
   "source": [
    "**Task 1:** Add a number to the series.\n",
    "\n",
    "**Task 2:** Make one of the numbers a float (e.g., 7.5). Then run `ser.info()`. What does it do to the data type of the series?"
   ]
  },
  {
   "cell_type": "markdown",
   "metadata": {
    "id": "BE1V-lVzNtHx"
   },
   "source": [
    "## DataFrame\n",
    "A DataFrame is a table, consisting of entries and values. Each entry corresponds to a row and column. Here we declare a dataframe using a dictionary whose keys are the column names, and the values are lists of entries."
   ]
  },
  {
   "cell_type": "code",
   "execution_count": 6,
   "metadata": {
    "id": "Bh28NG8HMPe0"
   },
   "outputs": [],
   "source": [
    "# Make a dataframe from a dictionary and lists\n",
    "df1 = pd.DataFrame({'Student': ['Bart', 'Lisa', 'Milhouse', 'Sideshow Bob'], 'Score':[5, 10, 7.5, 8.5], 'Hair colour':['Yellow', 'Yellow', 'Blue', 'Red']})"
   ]
  },
  {
   "cell_type": "code",
   "execution_count": 7,
   "metadata": {
    "colab": {
     "base_uri": "https://localhost:8080/",
     "height": 175
    },
    "id": "EtBfpiVJ6lhO",
    "outputId": "63f7c6b7-7cb1-44a7-820f-eeba2bae7300"
   },
   "outputs": [
    {
     "data": {
      "text/html": [
       "<div>\n",
       "<style scoped>\n",
       "    .dataframe tbody tr th:only-of-type {\n",
       "        vertical-align: middle;\n",
       "    }\n",
       "\n",
       "    .dataframe tbody tr th {\n",
       "        vertical-align: top;\n",
       "    }\n",
       "\n",
       "    .dataframe thead th {\n",
       "        text-align: right;\n",
       "    }\n",
       "</style>\n",
       "<table border=\"1\" class=\"dataframe\">\n",
       "  <thead>\n",
       "    <tr style=\"text-align: right;\">\n",
       "      <th></th>\n",
       "      <th>Student</th>\n",
       "      <th>Score</th>\n",
       "      <th>Hair colour</th>\n",
       "    </tr>\n",
       "  </thead>\n",
       "  <tbody>\n",
       "    <tr>\n",
       "      <th>0</th>\n",
       "      <td>Bart</td>\n",
       "      <td>5.0</td>\n",
       "      <td>Yellow</td>\n",
       "    </tr>\n",
       "    <tr>\n",
       "      <th>1</th>\n",
       "      <td>Lisa</td>\n",
       "      <td>10.0</td>\n",
       "      <td>Yellow</td>\n",
       "    </tr>\n",
       "    <tr>\n",
       "      <th>2</th>\n",
       "      <td>Milhouse</td>\n",
       "      <td>7.5</td>\n",
       "      <td>Blue</td>\n",
       "    </tr>\n",
       "    <tr>\n",
       "      <th>3</th>\n",
       "      <td>Sideshow Bob</td>\n",
       "      <td>8.5</td>\n",
       "      <td>Red</td>\n",
       "    </tr>\n",
       "  </tbody>\n",
       "</table>\n",
       "</div>"
      ],
      "text/plain": [
       "        Student  Score Hair colour\n",
       "0          Bart    5.0      Yellow\n",
       "1          Lisa   10.0      Yellow\n",
       "2      Milhouse    7.5        Blue\n",
       "3  Sideshow Bob    8.5         Red"
      ]
     },
     "execution_count": 7,
     "metadata": {},
     "output_type": "execute_result"
    }
   ],
   "source": [
    "df1"
   ]
  },
  {
   "cell_type": "markdown",
   "metadata": {
    "id": "49TnOwFeOhKV"
   },
   "source": [
    "**Task 1:** Add a student (after Sideshow Bob) and a score to the lists for 'Student' and 'Score'.\n",
    "\n",
    "**Task 2:** Add a new column to the dataframe, titled 'Hair colour' (yellow, yellow, blue and red)."
   ]
  },
  {
   "cell_type": "code",
   "execution_count": 8,
   "metadata": {
    "colab": {
     "base_uri": "https://localhost:8080/"
    },
    "id": "nfWN0pOjX3fP",
    "outputId": "af6476e3-3418-4a1b-9466-76a9aa895a7e"
   },
   "outputs": [
    {
     "name": "stdout",
     "output_type": "stream",
     "text": [
      "<class 'pandas.core.frame.DataFrame'>\n",
      "RangeIndex: 4 entries, 0 to 3\n",
      "Data columns (total 3 columns):\n",
      " #   Column       Non-Null Count  Dtype  \n",
      "---  ------       --------------  -----  \n",
      " 0   Student      4 non-null      object \n",
      " 1   Score        4 non-null      float64\n",
      " 2   Hair colour  4 non-null      object \n",
      "dtypes: float64(1), object(2)\n",
      "memory usage: 224.0+ bytes\n"
     ]
    }
   ],
   "source": [
    "df1.info()"
   ]
  },
  {
   "cell_type": "code",
   "execution_count": 9,
   "metadata": {
    "colab": {
     "base_uri": "https://localhost:8080/"
    },
    "id": "MHjPW5x_Ylvo",
    "outputId": "93864e16-08d0-41d8-be41-c55f18ded8e6"
   },
   "outputs": [
    {
     "data": {
      "text/plain": [
       "(4, 3)"
      ]
     },
     "execution_count": 9,
     "metadata": {},
     "output_type": "execute_result"
    }
   ],
   "source": [
    "df1.shape"
   ]
  },
  {
   "cell_type": "markdown",
   "metadata": {
    "id": "qer3ppTN7YrN"
   },
   "source": [
    "### Selecting rows"
   ]
  },
  {
   "cell_type": "code",
   "execution_count": 11,
   "metadata": {},
   "outputs": [
    {
     "data": {
      "text/html": [
       "<div>\n",
       "<style scoped>\n",
       "    .dataframe tbody tr th:only-of-type {\n",
       "        vertical-align: middle;\n",
       "    }\n",
       "\n",
       "    .dataframe tbody tr th {\n",
       "        vertical-align: top;\n",
       "    }\n",
       "\n",
       "    .dataframe thead th {\n",
       "        text-align: right;\n",
       "    }\n",
       "</style>\n",
       "<table border=\"1\" class=\"dataframe\">\n",
       "  <thead>\n",
       "    <tr style=\"text-align: right;\">\n",
       "      <th></th>\n",
       "      <th>Student</th>\n",
       "      <th>Score</th>\n",
       "      <th>Hair colour</th>\n",
       "    </tr>\n",
       "  </thead>\n",
       "  <tbody>\n",
       "    <tr>\n",
       "      <th>0</th>\n",
       "      <td>Bart</td>\n",
       "      <td>5.0</td>\n",
       "      <td>Yellow</td>\n",
       "    </tr>\n",
       "  </tbody>\n",
       "</table>\n",
       "</div>"
      ],
      "text/plain": [
       "  Student  Score Hair colour\n",
       "0    Bart    5.0      Yellow"
      ]
     },
     "execution_count": 11,
     "metadata": {},
     "output_type": "execute_result"
    }
   ],
   "source": [
    "# View selection\n",
    "df1[df1['Student'].str.contains('Bart')]"
   ]
  },
  {
   "cell_type": "code",
   "execution_count": 12,
   "metadata": {
    "id": "YRyK7Scx6WOM"
   },
   "outputs": [],
   "source": [
    "# Select rows based on conditions, copy to new dataframe\n",
    "df1_name = df1[df1['Student'] == 'Lisa']"
   ]
  },
  {
   "cell_type": "code",
   "execution_count": 13,
   "metadata": {
    "colab": {
     "base_uri": "https://localhost:8080/",
     "height": 81
    },
    "id": "hTDmcjLA7M3z",
    "outputId": "60871e5a-86de-46ed-8c00-8e0176140277"
   },
   "outputs": [
    {
     "data": {
      "text/html": [
       "<div>\n",
       "<style scoped>\n",
       "    .dataframe tbody tr th:only-of-type {\n",
       "        vertical-align: middle;\n",
       "    }\n",
       "\n",
       "    .dataframe tbody tr th {\n",
       "        vertical-align: top;\n",
       "    }\n",
       "\n",
       "    .dataframe thead th {\n",
       "        text-align: right;\n",
       "    }\n",
       "</style>\n",
       "<table border=\"1\" class=\"dataframe\">\n",
       "  <thead>\n",
       "    <tr style=\"text-align: right;\">\n",
       "      <th></th>\n",
       "      <th>Student</th>\n",
       "      <th>Score</th>\n",
       "      <th>Hair colour</th>\n",
       "    </tr>\n",
       "  </thead>\n",
       "  <tbody>\n",
       "    <tr>\n",
       "      <th>1</th>\n",
       "      <td>Lisa</td>\n",
       "      <td>10.0</td>\n",
       "      <td>Yellow</td>\n",
       "    </tr>\n",
       "  </tbody>\n",
       "</table>\n",
       "</div>"
      ],
      "text/plain": [
       "  Student  Score Hair colour\n",
       "1    Lisa   10.0      Yellow"
      ]
     },
     "execution_count": 13,
     "metadata": {},
     "output_type": "execute_result"
    }
   ],
   "source": [
    "df1_name"
   ]
  },
  {
   "cell_type": "code",
   "execution_count": 17,
   "metadata": {
    "id": "_eZPUZWZ6WFx"
   },
   "outputs": [],
   "source": [
    "# Select rows with query\n",
    "df1_query = df1.query('Score < 8')"
   ]
  },
  {
   "cell_type": "code",
   "execution_count": 18,
   "metadata": {
    "colab": {
     "base_uri": "https://localhost:8080/",
     "height": 112
    },
    "id": "uGCsNBdk6V-e",
    "outputId": "35784c40-d6c6-4ac5-e95c-0a09b83ca268"
   },
   "outputs": [
    {
     "data": {
      "text/html": [
       "<div>\n",
       "<style scoped>\n",
       "    .dataframe tbody tr th:only-of-type {\n",
       "        vertical-align: middle;\n",
       "    }\n",
       "\n",
       "    .dataframe tbody tr th {\n",
       "        vertical-align: top;\n",
       "    }\n",
       "\n",
       "    .dataframe thead th {\n",
       "        text-align: right;\n",
       "    }\n",
       "</style>\n",
       "<table border=\"1\" class=\"dataframe\">\n",
       "  <thead>\n",
       "    <tr style=\"text-align: right;\">\n",
       "      <th></th>\n",
       "      <th>Student</th>\n",
       "      <th>Score</th>\n",
       "      <th>Hair colour</th>\n",
       "    </tr>\n",
       "  </thead>\n",
       "  <tbody>\n",
       "    <tr>\n",
       "      <th>0</th>\n",
       "      <td>Bart</td>\n",
       "      <td>5.0</td>\n",
       "      <td>Yellow</td>\n",
       "    </tr>\n",
       "    <tr>\n",
       "      <th>2</th>\n",
       "      <td>Milhouse</td>\n",
       "      <td>7.5</td>\n",
       "      <td>Blue</td>\n",
       "    </tr>\n",
       "  </tbody>\n",
       "</table>\n",
       "</div>"
      ],
      "text/plain": [
       "    Student  Score Hair colour\n",
       "0      Bart    5.0      Yellow\n",
       "2  Milhouse    7.5        Blue"
      ]
     },
     "execution_count": 18,
     "metadata": {},
     "output_type": "execute_result"
    }
   ],
   "source": [
    "df1_query"
   ]
  },
  {
   "cell_type": "markdown",
   "metadata": {
    "id": "7LuJEEb47zgk"
   },
   "source": [
    "**Task:** In a new dataframe (df_hair), select rows based on hair colour (the column you added above)."
   ]
  },
  {
   "cell_type": "code",
   "execution_count": null,
   "metadata": {
    "id": "r4isus1WZluY"
   },
   "outputs": [],
   "source": [
    "df_hair = df1[df1['Hair colour'].str.contains('Red')] # Selected using str.contains()"
   ]
  },
  {
   "cell_type": "code",
   "execution_count": null,
   "metadata": {
    "colab": {
     "base_uri": "https://localhost:8080/",
     "height": 81
    },
    "id": "Wl_Rm3PrZlgQ",
    "outputId": "9bd5cae5-39fa-4182-e0b8-97d16971d0af"
   },
   "outputs": [],
   "source": [
    "df_hair"
   ]
  },
  {
   "cell_type": "markdown",
   "metadata": {
    "id": "NTFVh8OtQW3_"
   },
   "source": [
    "# Read data from file\n",
    "The functions `read_csv()` and `read_excel()` are the most common methods for loading data from files. Pandas can read a range of data formats, but we will focus on Excel and CSV in this session."
   ]
  },
  {
   "cell_type": "code",
   "execution_count": 19,
   "metadata": {
    "id": "Z9kR37Xjx-w8"
   },
   "outputs": [],
   "source": [
    "# Load sample data\n",
    "data_path = r'data\\Workbook (Working with Excel).xlsx'\n",
    "df2 = pd.read_excel(data_path, sheet_name=0, header=1)"
   ]
  },
  {
   "cell_type": "markdown",
   "metadata": {
    "id": "67KkaBRKQreD"
   },
   "source": [
    "**Try:** Change the header to 0, see what happens to the dataframe."
   ]
  },
  {
   "cell_type": "code",
   "execution_count": 20,
   "metadata": {
    "colab": {
     "base_uri": "https://localhost:8080/",
     "height": 426
    },
    "id": "_hVDbpYHIlzQ",
    "outputId": "11826909-4170-42f3-fa58-a3019e26fc50"
   },
   "outputs": [
    {
     "data": {
      "text/html": [
       "<div>\n",
       "<style scoped>\n",
       "    .dataframe tbody tr th:only-of-type {\n",
       "        vertical-align: middle;\n",
       "    }\n",
       "\n",
       "    .dataframe tbody tr th {\n",
       "        vertical-align: top;\n",
       "    }\n",
       "\n",
       "    .dataframe thead th {\n",
       "        text-align: right;\n",
       "    }\n",
       "</style>\n",
       "<table border=\"1\" class=\"dataframe\">\n",
       "  <thead>\n",
       "    <tr style=\"text-align: right;\">\n",
       "      <th></th>\n",
       "      <th>Month</th>\n",
       "      <th>sales (£)</th>\n",
       "    </tr>\n",
       "  </thead>\n",
       "  <tbody>\n",
       "    <tr>\n",
       "      <th>0</th>\n",
       "      <td>Jan</td>\n",
       "      <td>972</td>\n",
       "    </tr>\n",
       "    <tr>\n",
       "      <th>1</th>\n",
       "      <td>Feb</td>\n",
       "      <td>4006</td>\n",
       "    </tr>\n",
       "    <tr>\n",
       "      <th>2</th>\n",
       "      <td>Mar</td>\n",
       "      <td>1600</td>\n",
       "    </tr>\n",
       "    <tr>\n",
       "      <th>3</th>\n",
       "      <td>Apr</td>\n",
       "      <td>2138</td>\n",
       "    </tr>\n",
       "    <tr>\n",
       "      <th>4</th>\n",
       "      <td>May</td>\n",
       "      <td>1213</td>\n",
       "    </tr>\n",
       "    <tr>\n",
       "      <th>5</th>\n",
       "      <td>Jun</td>\n",
       "      <td>4289</td>\n",
       "    </tr>\n",
       "    <tr>\n",
       "      <th>6</th>\n",
       "      <td>Jul</td>\n",
       "      <td>1155</td>\n",
       "    </tr>\n",
       "    <tr>\n",
       "      <th>7</th>\n",
       "      <td>Aug</td>\n",
       "      <td>3160</td>\n",
       "    </tr>\n",
       "    <tr>\n",
       "      <th>8</th>\n",
       "      <td>Sep</td>\n",
       "      <td>2150</td>\n",
       "    </tr>\n",
       "    <tr>\n",
       "      <th>9</th>\n",
       "      <td>Oct</td>\n",
       "      <td>3966</td>\n",
       "    </tr>\n",
       "    <tr>\n",
       "      <th>10</th>\n",
       "      <td>Nov</td>\n",
       "      <td>5065</td>\n",
       "    </tr>\n",
       "    <tr>\n",
       "      <th>11</th>\n",
       "      <td>Dec</td>\n",
       "      <td>5390</td>\n",
       "    </tr>\n",
       "  </tbody>\n",
       "</table>\n",
       "</div>"
      ],
      "text/plain": [
       "   Month  sales (£)\n",
       "0    Jan        972\n",
       "1    Feb       4006\n",
       "2    Mar       1600\n",
       "3    Apr       2138\n",
       "4    May       1213\n",
       "5    Jun       4289\n",
       "6    Jul       1155\n",
       "7    Aug       3160\n",
       "8    Sep       2150\n",
       "9    Oct       3966\n",
       "10   Nov       5065\n",
       "11   Dec       5390"
      ]
     },
     "execution_count": 20,
     "metadata": {},
     "output_type": "execute_result"
    }
   ],
   "source": [
    "df2"
   ]
  },
  {
   "cell_type": "markdown",
   "metadata": {
    "id": "Vec4XJXN_pUb"
   },
   "source": [
    "Pandas offers various ways to summarise numerical data:"
   ]
  },
  {
   "cell_type": "code",
   "execution_count": 21,
   "metadata": {
    "colab": {
     "base_uri": "https://localhost:8080/"
    },
    "id": "ScsSjOPO_hFd",
    "outputId": "a8ee1bb7-41d8-46b0-fdd7-978eb9c0b481"
   },
   "outputs": [
    {
     "data": {
      "text/plain": [
       "35104"
      ]
     },
     "execution_count": 21,
     "metadata": {},
     "output_type": "execute_result"
    }
   ],
   "source": [
    "df2['sales (£)'].sum() # Add up the sales column"
   ]
  },
  {
   "cell_type": "markdown",
   "metadata": {
    "id": "NNumMqoF_2S7"
   },
   "source": [
    "**Task:** Summarise the sales using other functions: mean(), median(), min(), max()."
   ]
  },
  {
   "cell_type": "code",
   "execution_count": 22,
   "metadata": {
    "colab": {
     "base_uri": "https://localhost:8080/"
    },
    "id": "BmlJUz_5_1jY",
    "outputId": "2c9c3fe2-215d-4a9c-b13a-67c4a884c01c"
   },
   "outputs": [
    {
     "data": {
      "text/plain": [
       "2655.0"
      ]
     },
     "execution_count": 22,
     "metadata": {},
     "output_type": "execute_result"
    }
   ],
   "source": [
    "df2['sales (£)'].median()"
   ]
  },
  {
   "cell_type": "code",
   "execution_count": 27,
   "metadata": {},
   "outputs": [
    {
     "data": {
      "text/plain": [
       "count      12.00\n",
       "mean     2925.33\n",
       "std      1586.23\n",
       "min       972.00\n",
       "25%      1503.25\n",
       "50%      2655.00\n",
       "75%      4076.75\n",
       "max      5390.00\n",
       "Name: sales (£), dtype: float64"
      ]
     },
     "execution_count": 27,
     "metadata": {},
     "output_type": "execute_result"
    }
   ],
   "source": [
    "df2['sales (£)'].describe().round(2)"
   ]
  },
  {
   "cell_type": "markdown",
   "metadata": {
    "id": "dZqFUSkRRZwF"
   },
   "source": [
    "# 2. Plotting data\n",
    "Seaborn is a visualisation library for Python, built on top of Matplotlib.\n",
    "\n",
    "[Seaborn User Guide and tutorial](https://seaborn.pydata.org/tutorial.html)\n",
    "\n",
    "[Data Visualization](https://www.kaggle.com/learn/data-visualization) tutorial on Kaggle, goes into detail with examples for Seaborn data viz."
   ]
  },
  {
   "cell_type": "markdown",
   "metadata": {
    "id": "GFj2UP22U4-R"
   },
   "source": [
    "## Bar plots\n",
    "Here are the two dataframes visualised in a simple bar plot using the default settings in Seaborn."
   ]
  },
  {
   "cell_type": "markdown",
   "metadata": {
    "id": "jYRcDJxCNCDN"
   },
   "source": [
    "### Student and score"
   ]
  },
  {
   "cell_type": "code",
   "execution_count": 29,
   "metadata": {
    "colab": {
     "base_uri": "https://localhost:8080/",
     "height": 296
    },
    "id": "xyGqxcoKWYDO",
    "outputId": "4d50d0ab-2d05-4378-9e67-27bfd70e42c2"
   },
   "outputs": [
    {
     "data": {
      "text/plain": [
       "<AxesSubplot:xlabel='Student', ylabel='Score'>"
      ]
     },
     "execution_count": 29,
     "metadata": {},
     "output_type": "execute_result"
    },
    {
     "data": {
      "image/png": "[encoded data removed]",
      "text/plain": [
       "<Figure size 640x480 with 1 Axes>"
      ]
     },
     "metadata": {},
     "output_type": "display_data"
    }
   ],
   "source": [
    "sns.barplot(data=df1, x=\"Student\", y=\"Score\", color=\"blue\")"
   ]
  },
  {
   "cell_type": "markdown",
   "metadata": {
    "id": "z3LsjMIgNF-X"
   },
   "source": [
    "### Sales by month\n",
    "Bar plot of sales by month."
   ]
  },
  {
   "cell_type": "code",
   "execution_count": 30,
   "metadata": {
    "colab": {
     "base_uri": "https://localhost:8080/",
     "height": 296
    },
    "id": "N7ne4Iv9ReOt",
    "outputId": "cfddad8e-9a51-4b43-a68b-70b22cedd2a8"
   },
   "outputs": [
    {
     "data": {
      "text/plain": [
       "<AxesSubplot:xlabel='Month', ylabel='sales (£)'>"
      ]
     },
     "execution_count": 30,
     "metadata": {},
     "output_type": "execute_result"
    },
    {
     "data": {
      "image/png": "[encoded data removed]",
      "text/plain": [
       "<Figure size 640x480 with 1 Axes>"
      ]
     },
     "metadata": {},
     "output_type": "display_data"
    }
   ],
   "source": [
    "sns.barplot(data=df2, x=\"Month\", y=\"sales (£)\")"
   ]
  },
  {
   "cell_type": "markdown",
   "metadata": {},
   "source": [
    "Same barplot, now all bars in one colour:"
   ]
  },
  {
   "cell_type": "code",
   "execution_count": 31,
   "metadata": {
    "colab": {
     "base_uri": "https://localhost:8080/",
     "height": 296
    },
    "id": "LiBeElHRVQCG",
    "outputId": "7c6dffba-64bb-41ba-b112-3420467f274a"
   },
   "outputs": [
    {
     "data": {
      "text/plain": [
       "<AxesSubplot:xlabel='Month', ylabel='sales (£)'>"
      ]
     },
     "execution_count": 31,
     "metadata": {},
     "output_type": "execute_result"
    },
    {
     "data": {
      "image/png": "[encoded data removed]",
      "text/plain": [
       "<Figure size 640x480 with 1 Axes>"
      ]
     },
     "metadata": {},
     "output_type": "display_data"
    }
   ],
   "source": [
    "sns.barplot(data=df2, x=\"Month\", y=\"sales (£)\", color=\"blue\", saturation=0.4)"
   ]
  },
  {
   "cell_type": "markdown",
   "metadata": {
    "id": "vXEmTkYyNUhB"
   },
   "source": [
    "Histogram showing distribution."
   ]
  },
  {
   "cell_type": "code",
   "execution_count": 32,
   "metadata": {
    "colab": {
     "base_uri": "https://localhost:8080/",
     "height": 386
    },
    "id": "nXdp_q99VUV5",
    "outputId": "ffa77dae-0d50-4ba5-fd18-75d5dfa85492"
   },
   "outputs": [
    {
     "data": {
      "text/plain": [
       "<seaborn.axisgrid.FacetGrid at 0x23345c253a0>"
      ]
     },
     "execution_count": 32,
     "metadata": {},
     "output_type": "execute_result"
    },
    {
     "data": {
      "image/png": "[encoded data removed]",
      "text/plain": [
       "<Figure size 500x500 with 1 Axes>"
      ]
     },
     "metadata": {},
     "output_type": "display_data"
    }
   ],
   "source": [
    "# Histogram of sales-column:\n",
    "sns.displot(df2, x=\"sales (£)\")"
   ]
  },
  {
   "cell_type": "code",
   "execution_count": 37,
   "metadata": {
    "colab": {
     "base_uri": "https://localhost:8080/",
     "height": 386
    },
    "id": "jYi41GJMBCeB",
    "outputId": "35a55378-fee1-46ae-affe-b6df021fbb0f"
   },
   "outputs": [
    {
     "data": {
      "text/plain": [
       "<seaborn.axisgrid.FacetGrid at 0x23346f5f0d0>"
      ]
     },
     "execution_count": 37,
     "metadata": {},
     "output_type": "execute_result"
    },
    {
     "data": {
      "image/png": "[encoded data removed]",
      "text/plain": [
       "<Figure size 500x500 with 1 Axes>"
      ]
     },
     "metadata": {},
     "output_type": "display_data"
    }
   ],
   "source": [
    "# Same histogram, with more bins (ranges):\n",
    "sns.displot(df2, x=\"sales (£)\", bins=10)"
   ]
  },
  {
   "cell_type": "code",
   "execution_count": 34,
   "metadata": {
    "colab": {
     "base_uri": "https://localhost:8080/",
     "height": 386
    },
    "id": "L23hpdiGCUWB",
    "outputId": "9b5aa4af-9775-4298-dc44-757b386ce7dc"
   },
   "outputs": [
    {
     "data": {
      "text/plain": [
       "<seaborn.axisgrid.FacetGrid at 0x23345ae3bb0>"
      ]
     },
     "execution_count": 34,
     "metadata": {},
     "output_type": "execute_result"
    },
    {
     "data": {
      "image/png": "[encoded data removed]",
      "text/plain": [
       "<Figure size 500x500 with 1 Axes>"
      ]
     },
     "metadata": {},
     "output_type": "display_data"
    }
   ],
   "source": [
    "# Again, same histogram, with a gap between columns\n",
    "sns.displot(df2, x=\"sales (£)\", bins=10, shrink=.8)"
   ]
  },
  {
   "cell_type": "code",
   "execution_count": null,
   "metadata": {},
   "outputs": [],
   "source": []
  }
 ],
 "metadata": {
  "colab": {
   "collapsed_sections": [],
   "provenance": [],
   "toc_visible": true
  },
  "kernelspec": {
   "display_name": "Python 3",
   "language": "python",
   "name": "python3"
  },
  "language_info": {
   "codemirror_mode": {
    "name": "ipython",
    "version": 3
   },
   "file_extension": ".py",
   "mimetype": "text/x-python",
   "name": "python",
   "nbconvert_exporter": "python",
   "pygments_lexer": "ipython3",
   "version": "3.9.5"
  },
  "vscode": {
   "interpreter": {
    "hash": "c97e556b2123b92f5d28ca63fa8445826cb82f9f2ab925961a94fd4b4dde06e6"
   }
  }
 },
 "nbformat": 4,
 "nbformat_minor": 1
}
