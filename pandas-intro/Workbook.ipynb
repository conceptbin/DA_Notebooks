{
 "cells": [
  {
   "cell_type": "markdown",
   "metadata": {},
   "source": [
    "# Practice notebook\n",
    "Please enter the necessary code in the cells below. Follow the instructions in the comment for each cell#, they tell you what the code should _do_ but not _how_ to do it. This is called **pseudocode**: Step-by-step instructions for what the code should do, leaving it up to you to write the executable code."
   ]
  },
  {
   "cell_type": "code",
   "execution_count": 9,
   "metadata": {},
   "outputs": [],
   "source": [
    "# Import pandas and seaborn with the abbreviations pd and sns\n"
   ]
  },
  {
   "cell_type": "markdown",
   "metadata": {},
   "source": [
    "Try loading a single sheet from the workbook students.xlsx"
   ]
  },
  {
   "cell_type": "code",
   "execution_count": 10,
   "metadata": {},
   "outputs": [],
   "source": [
    "# Load the students.xlsx spreadsheet from the data-subfolder (look on GitHub)\n",
    "# When loading the dataframe:\n",
    "#  Specify the header-row\n",
    "#  Specify which sheet you're loading (there are three)"
   ]
  },
  {
   "cell_type": "code",
   "execution_count": 11,
   "metadata": {},
   "outputs": [],
   "source": [
    "# display the first few rows of your dataframe"
   ]
  },
  {
   "cell_type": "markdown",
   "metadata": {},
   "source": [
    "Now, load all of the sheets and use concat() to join them together so that you get all three years of test scores in one table. Here's a great, simple guide for how to [combine multiple Excel worksheets in a Pandas dataframe](https://pbpython.com/pandas-excel-tabs.html)."
   ]
  },
  {
   "cell_type": "code",
   "execution_count": 12,
   "metadata": {},
   "outputs": [],
   "source": [
    "# Load all the sheets into one dataframe, using concat()\n"
   ]
  },
  {
   "cell_type": "code",
   "execution_count": 14,
   "metadata": {},
   "outputs": [],
   "source": [
    "# The Score-row in the dataset contains letter-values. \n",
    "# Use replace() to convert the letter-values into numeric values.\n",
    "# Hint: replace() allows you to use a dictionary to replace systematically (e.g, {'A':5, 'B':4, etc.})\n"
   ]
  },
  {
   "cell_type": "code",
   "execution_count": null,
   "metadata": {},
   "outputs": [],
   "source": [
    "# Separate columns by subject:\n",
    "# Declare a separate dataframe. Use pivot_table() \n",
    "# to spread the Subject-column into separate columns, and calculate the average for each subject\n"
   ]
  },
  {
   "cell_type": "code",
   "execution_count": null,
   "metadata": {},
   "outputs": [],
   "source": [
    "# Separate column by year:\n",
    "# Declare a new dataframe. Spread the Year-column into separate columns.\n",
    "# Sort the dataframe by student name and subject, using sort_values()\n"
   ]
  },
  {
   "cell_type": "markdown",
   "metadata": {},
   "source": [
    "# Visualisations\n",
    "For visualising categorical data (e.g., by year, subject, student) see this [Seaborn tutorial](https://seaborn.pydata.org/tutorial/categorical.html)"
   ]
  },
  {
   "cell_type": "code",
   "execution_count": null,
   "metadata": {},
   "outputs": [],
   "source": [
    "# Use sns.catplot() to visualise scores by student and/or by year"
   ]
  }
 ],
 "metadata": {
  "kernelspec": {
   "display_name": "Python 3.8.3 ('shed')",
   "language": "python",
   "name": "python3"
  },
  "language_info": {
   "codemirror_mode": {
    "name": "ipython",
    "version": 3
   },
   "file_extension": ".py",
   "mimetype": "text/x-python",
   "name": "python",
   "nbconvert_exporter": "python",
   "pygments_lexer": "ipython3",
   "version": "3.8.3"
  },
  "orig_nbformat": 4,
  "vscode": {
   "interpreter": {
    "hash": "25febdc273ee3944d7f60182e0e68095a4113921f6f97dab751113b34c91f1e3"
   }
  }
 },
 "nbformat": 4,
 "nbformat_minor": 2
}
