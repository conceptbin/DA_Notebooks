{
 "cells": [
  {
   "cell_type": "markdown",
   "metadata": {
    "id": "aSgjAeSIrjy1"
   },
   "source": [
    "# Exploring, filtering, grouping and viewing data in [pandas](https://pandas.pydata.org/)\n",
    "Demonstration notebook, using UK Police data on street-level crime in the London Metropolitan region, from https://data.police.uk/\n"
   ]
  },
  {
   "cell_type": "code",
   "execution_count": 1,
   "metadata": {
    "id": "ik10e7DErb9z"
   },
   "outputs": [],
   "source": [
    "import pandas as pd\n",
    "import seaborn as sns\n",
    "#Set max row and max column for display in Jupyter Notebook\n",
    "pd.set_option('display.max_row', 150)\n",
    "pd.set_option('display.max_columns', 20)"
   ]
  },
  {
   "cell_type": "code",
   "execution_count": 2,
   "metadata": {
    "id": "nKdI4OshGebs"
   },
   "outputs": [],
   "source": [
    "# Set Seaborn styling parameters for plots\n",
    "sns.set(rc={'figure.figsize':(15,10)}) # Set figure size for all plots\n",
    "sns.set_context(\"notebook\") # Set how plots are displayed"
   ]
  },
  {
   "cell_type": "markdown",
   "metadata": {
    "id": "6j3aCr3JxWaB"
   },
   "source": [
    "# Read and inspect data\n",
    "The sample data here is Metropolitan Police cases recorded for Feb 2022, in CSV format. We use `read_csv()` to load the file."
   ]
  },
  {
   "cell_type": "code",
   "execution_count": 3,
   "metadata": {
    "id": "fhfnFG98rzV8"
   },
   "outputs": [],
   "source": [
    "# File path\n",
    "file = r'data\\2022-02-metropolitan-street.csv'\n",
    "# Create dataframe (df)\n",
    "df = pd.read_csv(file)"
   ]
  },
  {
   "cell_type": "markdown",
   "metadata": {
    "id": "Z-rl9Fdl7vWl"
   },
   "source": [
    "## Dimensions of the dataframe"
   ]
  },
  {
   "cell_type": "code",
   "execution_count": 4,
   "metadata": {
    "colab": {
     "base_uri": "https://localhost:8080/",
     "height": 565
    },
    "id": "PjiyaSjfm9ZP",
    "outputId": "7664c1b2-4848-427e-f36d-1acb10da2ca8"
   },
   "outputs": [
    {
     "data": {
      "text/html": [
       "<div>\n",
       "<style scoped>\n",
       "    .dataframe tbody tr th:only-of-type {\n",
       "        vertical-align: middle;\n",
       "    }\n",
       "\n",
       "    .dataframe tbody tr th {\n",
       "        vertical-align: top;\n",
       "    }\n",
       "\n",
       "    .dataframe thead th {\n",
       "        text-align: right;\n",
       "    }\n",
       "</style>\n",
       "<table border=\"1\" class=\"dataframe\">\n",
       "  <thead>\n",
       "    <tr style=\"text-align: right;\">\n",
       "      <th></th>\n",
       "      <th>Crime ID</th>\n",
       "      <th>Month</th>\n",
       "      <th>Reported by</th>\n",
       "      <th>Falls within</th>\n",
       "      <th>Longitude</th>\n",
       "      <th>Latitude</th>\n",
       "      <th>Location</th>\n",
       "      <th>LSOA code</th>\n",
       "      <th>LSOA name</th>\n",
       "      <th>Crime type</th>\n",
       "      <th>Last outcome category</th>\n",
       "      <th>Context</th>\n",
       "    </tr>\n",
       "  </thead>\n",
       "  <tbody>\n",
       "    <tr>\n",
       "      <th>0</th>\n",
       "      <td>86dcb4e75aee5e4f85faba482ae99f4b45d5ee7f694464...</td>\n",
       "      <td>2022-02</td>\n",
       "      <td>Metropolitan Police Service</td>\n",
       "      <td>Metropolitan Police Service</td>\n",
       "      <td>0.882064</td>\n",
       "      <td>51.173592</td>\n",
       "      <td>On or near Goat Lees Lane</td>\n",
       "      <td>E01032810</td>\n",
       "      <td>Ashford 001F</td>\n",
       "      <td>Violence and sexual offences</td>\n",
       "      <td>Under investigation</td>\n",
       "      <td>NaN</td>\n",
       "    </tr>\n",
       "    <tr>\n",
       "      <th>1</th>\n",
       "      <td>a8a306e3f41d1ef9b5601f0ee3f31b9bbfdbe41a64e3dc...</td>\n",
       "      <td>2022-02</td>\n",
       "      <td>Metropolitan Police Service</td>\n",
       "      <td>Metropolitan Police Service</td>\n",
       "      <td>0.875087</td>\n",
       "      <td>51.151602</td>\n",
       "      <td>On or near Hardinge Road</td>\n",
       "      <td>E01024021</td>\n",
       "      <td>Ashford 004G</td>\n",
       "      <td>Violence and sexual offences</td>\n",
       "      <td>Under investigation</td>\n",
       "      <td>NaN</td>\n",
       "    </tr>\n",
       "    <tr>\n",
       "      <th>2</th>\n",
       "      <td>ea3405ba86a84efdc8c67421ec725550e88f31be484be3...</td>\n",
       "      <td>2022-02</td>\n",
       "      <td>Metropolitan Police Service</td>\n",
       "      <td>Metropolitan Police Service</td>\n",
       "      <td>-0.972477</td>\n",
       "      <td>51.996811</td>\n",
       "      <td>On or near Jarman Close</td>\n",
       "      <td>E01017644</td>\n",
       "      <td>Aylesbury Vale 002A</td>\n",
       "      <td>Theft from the person</td>\n",
       "      <td>Investigation complete; no suspect identified</td>\n",
       "      <td>NaN</td>\n",
       "    </tr>\n",
       "    <tr>\n",
       "      <th>3</th>\n",
       "      <td>70b5893bdb519eb2613e3bb932f9b7a9a3462a76e9d6df...</td>\n",
       "      <td>2022-02</td>\n",
       "      <td>Metropolitan Police Service</td>\n",
       "      <td>Metropolitan Police Service</td>\n",
       "      <td>-0.804674</td>\n",
       "      <td>51.823998</td>\n",
       "      <td>On or near Rainborough Gardens</td>\n",
       "      <td>E01017662</td>\n",
       "      <td>Aylesbury Vale 015C</td>\n",
       "      <td>Violence and sexual offences</td>\n",
       "      <td>Under investigation</td>\n",
       "      <td>NaN</td>\n",
       "    </tr>\n",
       "    <tr>\n",
       "      <th>4</th>\n",
       "      <td>NaN</td>\n",
       "      <td>2022-02</td>\n",
       "      <td>Metropolitan Police Service</td>\n",
       "      <td>Metropolitan Police Service</td>\n",
       "      <td>0.137065</td>\n",
       "      <td>51.583672</td>\n",
       "      <td>On or near Police Station</td>\n",
       "      <td>E01000027</td>\n",
       "      <td>Barking and Dagenham 001A</td>\n",
       "      <td>Anti-social behaviour</td>\n",
       "      <td>NaN</td>\n",
       "      <td>NaN</td>\n",
       "    </tr>\n",
       "  </tbody>\n",
       "</table>\n",
       "</div>"
      ],
      "text/plain": [
       "                                            Crime ID    Month  \\\n",
       "0  86dcb4e75aee5e4f85faba482ae99f4b45d5ee7f694464...  2022-02   \n",
       "1  a8a306e3f41d1ef9b5601f0ee3f31b9bbfdbe41a64e3dc...  2022-02   \n",
       "2  ea3405ba86a84efdc8c67421ec725550e88f31be484be3...  2022-02   \n",
       "3  70b5893bdb519eb2613e3bb932f9b7a9a3462a76e9d6df...  2022-02   \n",
       "4                                                NaN  2022-02   \n",
       "\n",
       "                   Reported by                 Falls within  Longitude  \\\n",
       "0  Metropolitan Police Service  Metropolitan Police Service   0.882064   \n",
       "1  Metropolitan Police Service  Metropolitan Police Service   0.875087   \n",
       "2  Metropolitan Police Service  Metropolitan Police Service  -0.972477   \n",
       "3  Metropolitan Police Service  Metropolitan Police Service  -0.804674   \n",
       "4  Metropolitan Police Service  Metropolitan Police Service   0.137065   \n",
       "\n",
       "    Latitude                        Location  LSOA code  \\\n",
       "0  51.173592       On or near Goat Lees Lane  E01032810   \n",
       "1  51.151602        On or near Hardinge Road  E01024021   \n",
       "2  51.996811         On or near Jarman Close  E01017644   \n",
       "3  51.823998  On or near Rainborough Gardens  E01017662   \n",
       "4  51.583672       On or near Police Station  E01000027   \n",
       "\n",
       "                   LSOA name                    Crime type  \\\n",
       "0               Ashford 001F  Violence and sexual offences   \n",
       "1               Ashford 004G  Violence and sexual offences   \n",
       "2        Aylesbury Vale 002A         Theft from the person   \n",
       "3        Aylesbury Vale 015C  Violence and sexual offences   \n",
       "4  Barking and Dagenham 001A         Anti-social behaviour   \n",
       "\n",
       "                           Last outcome category  Context  \n",
       "0                            Under investigation      NaN  \n",
       "1                            Under investigation      NaN  \n",
       "2  Investigation complete; no suspect identified      NaN  \n",
       "3                            Under investigation      NaN  \n",
       "4                                            NaN      NaN  "
      ]
     },
     "execution_count": 4,
     "metadata": {},
     "output_type": "execute_result"
    }
   ],
   "source": [
    "# Show the top rows\n",
    "df.head()"
   ]
  },
  {
   "cell_type": "markdown",
   "metadata": {
    "id": "8oTAMY2E7shk"
   },
   "source": [
    "List the column headings for the dataframe. Handy for selecting columns"
   ]
  },
  {
   "cell_type": "code",
   "execution_count": 5,
   "metadata": {
    "colab": {
     "base_uri": "https://localhost:8080/"
    },
    "id": "y1Hv3qNIPmYi",
    "outputId": "80b7ae3e-62fd-415e-e3b0-dc6c839ea9f4"
   },
   "outputs": [
    {
     "data": {
      "text/plain": [
       "Index(['Crime ID', 'Month', 'Reported by', 'Falls within', 'Longitude',\n",
       "       'Latitude', 'Location', 'LSOA code', 'LSOA name', 'Crime type',\n",
       "       'Last outcome category', 'Context'],\n",
       "      dtype='object')"
      ]
     },
     "execution_count": 5,
     "metadata": {},
     "output_type": "execute_result"
    }
   ],
   "source": [
    "df.columns"
   ]
  },
  {
   "cell_type": "code",
   "execution_count": 6,
   "metadata": {
    "colab": {
     "base_uri": "https://localhost:8080/"
    },
    "id": "f826k4xArzRi",
    "outputId": "c7e2c763-8883-489b-c501-7e8ec4c4f1af"
   },
   "outputs": [
    {
     "data": {
      "text/plain": [
       "(80278, 12)"
      ]
     },
     "execution_count": 6,
     "metadata": {},
     "output_type": "execute_result"
    }
   ],
   "source": [
    "# Size of the dataframe (count of rows and columns):\n",
    "df.shape"
   ]
  },
  {
   "cell_type": "markdown",
   "metadata": {
    "id": "3gcEKVNBIOjz"
   },
   "source": [
    "## Handling empty values with isna() and dropna()"
   ]
  },
  {
   "cell_type": "code",
   "execution_count": 7,
   "metadata": {
    "colab": {
     "base_uri": "https://localhost:8080/"
    },
    "id": "Bgisgy6H33MU",
    "outputId": "79f38e78-f981-4014-d617-c3d0380c20a1"
   },
   "outputs": [
    {
     "data": {
      "text/plain": [
       "Crime ID                 15589\n",
       "Month                        0\n",
       "Reported by                  0\n",
       "Falls within                 0\n",
       "Longitude                 1894\n",
       "Latitude                  1894\n",
       "Location                     0\n",
       "LSOA code                 1894\n",
       "LSOA name                 1894\n",
       "Crime type                   0\n",
       "Last outcome category    15589\n",
       "Context                  80278\n",
       "dtype: int64"
      ]
     },
     "execution_count": 7,
     "metadata": {},
     "output_type": "execute_result"
    }
   ],
   "source": [
    "# Summarise the empty values in df by column\n",
    "df.isna().sum()"
   ]
  },
  {
   "cell_type": "code",
   "execution_count": null,
   "metadata": {
    "id": "GXcjktPrlVcs"
   },
   "outputs": [],
   "source": [
    "# Remove rows with empty values (NaN) in the 'LSOA name' column:\n",
    "df = df.dropna(subset=['LSOA code'])"
   ]
  },
  {
   "cell_type": "code",
   "execution_count": null,
   "metadata": {
    "colab": {
     "base_uri": "https://localhost:8080/"
    },
    "id": "YhNeAsRw_Pd6",
    "outputId": "76051d2d-7fab-427d-f8ce-303e2ef85009"
   },
   "outputs": [],
   "source": [
    "#Check if the NaN values have been dropped from df\n",
    "df.isna().sum()"
   ]
  },
  {
   "cell_type": "code",
   "execution_count": 8,
   "metadata": {
    "colab": {
     "base_uri": "https://localhost:8080/"
    },
    "id": "o2QeqBxAoOTE",
    "outputId": "c9e3ff9f-aa06-48c2-d950-80edbacfa535"
   },
   "outputs": [
    {
     "name": "stdout",
     "output_type": "stream",
     "text": [
      "<class 'pandas.core.frame.DataFrame'>\n",
      "RangeIndex: 80278 entries, 0 to 80277\n",
      "Data columns (total 12 columns):\n",
      " #   Column                 Non-Null Count  Dtype  \n",
      "---  ------                 --------------  -----  \n",
      " 0   Crime ID               64689 non-null  object \n",
      " 1   Month                  80278 non-null  object \n",
      " 2   Reported by            80278 non-null  object \n",
      " 3   Falls within           80278 non-null  object \n",
      " 4   Longitude              78384 non-null  float64\n",
      " 5   Latitude               78384 non-null  float64\n",
      " 6   Location               80278 non-null  object \n",
      " 7   LSOA code              78384 non-null  object \n",
      " 8   LSOA name              78384 non-null  object \n",
      " 9   Crime type             80278 non-null  object \n",
      " 10  Last outcome category  64689 non-null  object \n",
      " 11  Context                0 non-null      float64\n",
      "dtypes: float64(3), object(9)\n",
      "memory usage: 7.3+ MB\n"
     ]
    }
   ],
   "source": [
    "df.info()"
   ]
  },
  {
   "cell_type": "markdown",
   "metadata": {
    "id": "nxG1zDyj3P9k"
   },
   "source": [
    "## Show head, tail or slice\n",
    "`df.head()`, last rows:` df.tail()`. Show slice by index number: `df[:5]` (shows first five rows). \n",
    "\n",
    "For large dataframes, the name of the dataframe will display the head and tail, omitting the middle."
   ]
  },
  {
   "cell_type": "code",
   "execution_count": null,
   "metadata": {
    "colab": {
     "base_uri": "https://localhost:8080/",
     "height": 565
    },
    "id": "HmTNNWlenCiW",
    "outputId": "d9a24446-5ee4-426f-db23-b5275cea22e5"
   },
   "outputs": [],
   "source": [
    "df.head()"
   ]
  },
  {
   "cell_type": "code",
   "execution_count": null,
   "metadata": {
    "colab": {
     "base_uri": "https://localhost:8080/",
     "height": 513
    },
    "id": "5_lPtnI1cfbc",
    "outputId": "12f65b7b-876d-4745-f609-466663ca9dd8"
   },
   "outputs": [],
   "source": [
    "df.tail()"
   ]
  },
  {
   "cell_type": "code",
   "execution_count": null,
   "metadata": {
    "colab": {
     "base_uri": "https://localhost:8080/",
     "height": 565
    },
    "id": "aKY00vzj0iS9",
    "outputId": "cb0fb46a-87b3-40c2-f7d6-57d83cfc8641"
   },
   "outputs": [],
   "source": [
    "#Show a slice of the rows by index\n",
    "df[200:205]"
   ]
  },
  {
   "cell_type": "markdown",
   "metadata": {
    "id": "oQ3kKper9KIw"
   },
   "source": [
    "## value_counts()\n",
    "For categorical data, show the number of occurrences. In this case, number of incidents for each 'Crime type' category:"
   ]
  },
  {
   "cell_type": "code",
   "execution_count": 9,
   "metadata": {
    "colab": {
     "base_uri": "https://localhost:8080/"
    },
    "id": "4kya96uV675h",
    "outputId": "5080e79f-2a7a-4f41-dd38-6dd7f352f902"
   },
   "outputs": [
    {
     "data": {
      "text/plain": [
       "Violence and sexual offences    19808\n",
       "Anti-social behaviour           15589\n",
       "Other theft                      8897\n",
       "Vehicle crime                    8235\n",
       "Theft from the person            4360\n",
       "Burglary                         4333\n",
       "Public order                     4222\n",
       "Criminal damage and arson        3967\n",
       "Drugs                            3660\n",
       "Shoplifting                      2839\n",
       "Robbery                          1971\n",
       "Bicycle theft                    1126\n",
       "Other crime                       863\n",
       "Possession of weapons             408\n",
       "Name: Crime type, dtype: int64"
      ]
     },
     "execution_count": 9,
     "metadata": {},
     "output_type": "execute_result"
    }
   ],
   "source": [
    "df['Crime type'].value_counts()"
   ]
  },
  {
   "cell_type": "markdown",
   "metadata": {
    "id": "UX8c8XgyEZef"
   },
   "source": [
    "## info()"
   ]
  },
  {
   "cell_type": "code",
   "execution_count": null,
   "metadata": {
    "colab": {
     "base_uri": "https://localhost:8080/"
    },
    "id": "wfy87Ry9ETeX",
    "outputId": "260eb4a2-8084-46f3-f1e2-3490ac537a7a"
   },
   "outputs": [],
   "source": [
    "df.info()"
   ]
  },
  {
   "cell_type": "markdown",
   "metadata": {
    "id": "Ky4vgUY9Gyt-"
   },
   "source": [
    "# Selecting and filtering data"
   ]
  },
  {
   "cell_type": "markdown",
   "metadata": {},
   "source": [
    "Select only columns containing categorical data ('object' type) with `select_dtypes()` and summarise with `describe()`"
   ]
  },
  {
   "cell_type": "code",
   "execution_count": 10,
   "metadata": {},
   "outputs": [
    {
     "data": {
      "text/html": [
       "<div>\n",
       "<style scoped>\n",
       "    .dataframe tbody tr th:only-of-type {\n",
       "        vertical-align: middle;\n",
       "    }\n",
       "\n",
       "    .dataframe tbody tr th {\n",
       "        vertical-align: top;\n",
       "    }\n",
       "\n",
       "    .dataframe thead th {\n",
       "        text-align: right;\n",
       "    }\n",
       "</style>\n",
       "<table border=\"1\" class=\"dataframe\">\n",
       "  <thead>\n",
       "    <tr style=\"text-align: right;\">\n",
       "      <th></th>\n",
       "      <th>Crime ID</th>\n",
       "      <th>Month</th>\n",
       "      <th>Reported by</th>\n",
       "      <th>Falls within</th>\n",
       "      <th>Location</th>\n",
       "      <th>LSOA code</th>\n",
       "      <th>LSOA name</th>\n",
       "      <th>Crime type</th>\n",
       "      <th>Last outcome category</th>\n",
       "    </tr>\n",
       "  </thead>\n",
       "  <tbody>\n",
       "    <tr>\n",
       "      <th>count</th>\n",
       "      <td>64689</td>\n",
       "      <td>80278</td>\n",
       "      <td>80278</td>\n",
       "      <td>80278</td>\n",
       "      <td>80278</td>\n",
       "      <td>78384</td>\n",
       "      <td>78384</td>\n",
       "      <td>80278</td>\n",
       "      <td>64689</td>\n",
       "    </tr>\n",
       "    <tr>\n",
       "      <th>unique</th>\n",
       "      <td>61577</td>\n",
       "      <td>1</td>\n",
       "      <td>1</td>\n",
       "      <td>1</td>\n",
       "      <td>20012</td>\n",
       "      <td>5154</td>\n",
       "      <td>5154</td>\n",
       "      <td>14</td>\n",
       "      <td>8</td>\n",
       "    </tr>\n",
       "    <tr>\n",
       "      <th>top</th>\n",
       "      <td>3e67647b2d8da64aa0b00be0628a58cbebe42fc9208c56...</td>\n",
       "      <td>2022-02</td>\n",
       "      <td>Metropolitan Police Service</td>\n",
       "      <td>Metropolitan Police Service</td>\n",
       "      <td>On or near Supermarket</td>\n",
       "      <td>E01033595</td>\n",
       "      <td>Westminster 013E</td>\n",
       "      <td>Violence and sexual offences</td>\n",
       "      <td>Under investigation</td>\n",
       "    </tr>\n",
       "    <tr>\n",
       "      <th>freq</th>\n",
       "      <td>7</td>\n",
       "      <td>80278</td>\n",
       "      <td>80278</td>\n",
       "      <td>80278</td>\n",
       "      <td>2986</td>\n",
       "      <td>824</td>\n",
       "      <td>824</td>\n",
       "      <td>19808</td>\n",
       "      <td>46570</td>\n",
       "    </tr>\n",
       "  </tbody>\n",
       "</table>\n",
       "</div>"
      ],
      "text/plain": [
       "                                                 Crime ID    Month  \\\n",
       "count                                               64689    80278   \n",
       "unique                                              61577        1   \n",
       "top     3e67647b2d8da64aa0b00be0628a58cbebe42fc9208c56...  2022-02   \n",
       "freq                                                    7    80278   \n",
       "\n",
       "                        Reported by                 Falls within  \\\n",
       "count                         80278                        80278   \n",
       "unique                            1                            1   \n",
       "top     Metropolitan Police Service  Metropolitan Police Service   \n",
       "freq                          80278                        80278   \n",
       "\n",
       "                      Location  LSOA code         LSOA name  \\\n",
       "count                    80278      78384             78384   \n",
       "unique                   20012       5154              5154   \n",
       "top     On or near Supermarket  E01033595  Westminster 013E   \n",
       "freq                      2986        824               824   \n",
       "\n",
       "                          Crime type Last outcome category  \n",
       "count                          80278                 64689  \n",
       "unique                            14                     8  \n",
       "top     Violence and sexual offences   Under investigation  \n",
       "freq                           19808                 46570  "
      ]
     },
     "execution_count": 10,
     "metadata": {},
     "output_type": "execute_result"
    }
   ],
   "source": [
    "(df.select_dtypes(include=['object'])).describe()"
   ]
  },
  {
   "cell_type": "markdown",
   "metadata": {
    "id": "1bDFjquXUBny"
   },
   "source": [
    "## Slice string\n",
    "Create a new column with the Borough name, so that we can select rows by borough. The `slice` function returns a defined segment of the text (or *string*) in the \"LSOA name\" column and copies it to a new column."
   ]
  },
  {
   "cell_type": "code",
   "execution_count": null,
   "metadata": {
    "id": "_OOZW_Ej9Gw7"
   },
   "outputs": [],
   "source": [
    "#Create a Borough-column:\n",
    "df['Borough'] = df['LSOA name'].str.slice(0, -5)"
   ]
  },
  {
   "cell_type": "markdown",
   "metadata": {
    "id": "zOLIQSdtiOg2"
   },
   "source": [
    "## List unique values by column"
   ]
  },
  {
   "cell_type": "code",
   "execution_count": null,
   "metadata": {
    "colab": {
     "base_uri": "https://localhost:8080/"
    },
    "id": "upx4BRlWB509",
    "outputId": "4ff7b81a-1005-466c-958c-93c6d887cb04"
   },
   "outputs": [],
   "source": [
    "df['Borough'].unique()"
   ]
  },
  {
   "cell_type": "markdown",
   "metadata": {
    "id": "zdBhRo-DCPPc"
   },
   "source": [
    "Now that we know that the dataset includes incidents that took place outside of London, let's select only the London Boroughs in the dataset (just as we would use a filter in Excel)."
   ]
  },
  {
   "cell_type": "markdown",
   "metadata": {
    "id": "NLAHvaNsHX1v"
   },
   "source": [
    "## Select with contains()\n",
    "Select with a keyword. Good for single-keyword filtering, or stringing conditions together with & or | ('or')"
   ]
  },
  {
   "cell_type": "code",
   "execution_count": null,
   "metadata": {
    "id": "DvFhjMbAHdYP"
   },
   "outputs": [],
   "source": [
    "#Create separate dataframe for selected borough using part of the name\n",
    "df_select = df[df['LSOA name'].str.contains('Carmarthenshire')]"
   ]
  },
  {
   "cell_type": "code",
   "execution_count": null,
   "metadata": {
    "colab": {
     "base_uri": "https://localhost:8080/"
    },
    "id": "QeRZZbr-IZkT",
    "outputId": "673b7b33-10a5-49a1-cea0-de955ac6594d"
   },
   "outputs": [],
   "source": [
    "#Check the shape of df_select. This shows us how many cases (rows) the borough has\n",
    "df_select.shape"
   ]
  },
  {
   "cell_type": "markdown",
   "metadata": {
    "id": "21LADbQbG-I6"
   },
   "source": [
    "## Select with isin()\n",
    "Select rows using a list of values."
   ]
  },
  {
   "cell_type": "code",
   "execution_count": null,
   "metadata": {
    "id": "6tpzkqdnCeaJ"
   },
   "outputs": [],
   "source": [
    "#List of London Boroughs, plus City of London\n",
    "LB_list = ['Barking and Dagenham', 'Barnet', 'Bexley', 'Brent', 'Bromley','Camden', 'City of London', 'Croydon', 'Ealing', 'Enfield', 'Greenwich', 'Hackney', 'Hammersmith and Fulham', 'Haringey',\n",
    "       'Harrow', 'Havering', 'Hillingdon', 'Hounslow', 'Islington', 'Kensington and Chelsea', 'Kingston upon Thames', 'Lambeth',\n",
    "       'Lewisham','Merton', 'Newham', 'Redbridge', 'Richmond upon Thames', 'Southwark', 'Sutton',\n",
    "       'Tower Hamlets', 'Waltham Forest', 'Wandsworth', 'Westminster']\n",
    "# Filter the dataframe to include only names in the list:\n",
    "df = df[df['Borough'].isin(LB_list)]"
   ]
  },
  {
   "cell_type": "code",
   "execution_count": null,
   "metadata": {
    "colab": {
     "base_uri": "https://localhost:8080/"
    },
    "id": "eKcivs-kFP6H",
    "outputId": "0df980d8-c953-4afe-e6dd-86d362db367a"
   },
   "outputs": [],
   "source": [
    "#Check which Boroughs are left in the df now:\n",
    "df['Borough'].unique()"
   ]
  },
  {
   "cell_type": "markdown",
   "metadata": {
    "id": "C3vYq-75I5bD"
   },
   "source": [
    "# Group and aggregate\n",
    "Functions: `groupby()`, `agg()`."
   ]
  },
  {
   "cell_type": "markdown",
   "metadata": {
    "id": "d6F-TkhAJBmB"
   },
   "source": [
    "Let's compare the boroughs by how many incidents are recorded for each."
   ]
  },
  {
   "cell_type": "code",
   "execution_count": null,
   "metadata": {
    "colab": {
     "base_uri": "https://localhost:8080/"
    },
    "id": "Gmdvcg58v3ij",
    "outputId": "27353245-fb01-49cb-af35-e2e1f4e87170"
   },
   "outputs": [],
   "source": [
    "df.keys() # Same as columns() above."
   ]
  },
  {
   "cell_type": "markdown",
   "metadata": {
    "id": "_PHgmlJ-dLwa"
   },
   "source": [
    "## groupby()\n",
    "Which borough has the most crime? We group the data by the \"Borough\" column, and sum up the total number of cases."
   ]
  },
  {
   "cell_type": "code",
   "execution_count": null,
   "metadata": {
    "id": "-4zCqgXautIP"
   },
   "outputs": [],
   "source": [
    "# Group by Borough, count total number of incidents, sort from highest to lowest\n",
    "df_grouped = df.groupby(['Borough'])['Crime type'].agg('count').reset_index().sort_values(by=['Crime type'], ascending=False)"
   ]
  },
  {
   "cell_type": "code",
   "execution_count": null,
   "metadata": {
    "colab": {
     "base_uri": "https://localhost:8080/",
     "height": 1000
    },
    "id": "CZALiteKvpf0",
    "outputId": "89c6999d-f30c-46c6-f05b-5820ac58df3e"
   },
   "outputs": [],
   "source": [
    "# Show first 10 rows of grouped dataframe\n",
    "df_grouped"
   ]
  },
  {
   "cell_type": "markdown",
   "metadata": {
    "id": "YOzUUCLlGbWB"
   },
   "source": [
    "**Task:** Can this data be grouped differently? Experiment with a separate dataframe for comparison (df_grouped2)."
   ]
  },
  {
   "cell_type": "markdown",
   "metadata": {
    "id": "sF_3q5bl8IG5"
   },
   "source": [
    "### Simple bar chart comparing the number of cases by borough."
   ]
  },
  {
   "cell_type": "code",
   "execution_count": null,
   "metadata": {
    "colab": {
     "base_uri": "https://localhost:8080/",
     "height": 565
    },
    "id": "VdjsKTfyfBFj",
    "outputId": "943d0d67-360a-4924-a90c-42bb4b3758e8"
   },
   "outputs": [],
   "source": [
    "sns.barplot(data=df_grouped, x=\"Crime type\", y=\"Borough\")"
   ]
  },
  {
   "cell_type": "markdown",
   "metadata": {
    "id": "8r8nASb6xmfN"
   },
   "source": [
    "## Crosstab\n",
    "Compare data across categories with `crosstab()`. A a cross-tabulation table shows the frequency with which certain groups of data appear. \n",
    "\n",
    "The Practical Business Python blog has a good summary of Pandas' crosstab function: [Pandas Crosstab Explained](https://pbpython.com/pandas-crosstab.html)"
   ]
  },
  {
   "cell_type": "markdown",
   "metadata": {
    "id": "c6DhgRlJGZfV"
   },
   "source": [
    "### Simple crosstab\n",
    "Crime types broken down by Borough."
   ]
  },
  {
   "cell_type": "code",
   "execution_count": null,
   "metadata": {
    "id": "z6FaxWa3wtp6"
   },
   "outputs": [],
   "source": [
    "df_crossed = pd.crosstab(df['Borough'], df['Crime type']).sort_values(by=['Borough'], ascending=True)"
   ]
  },
  {
   "cell_type": "markdown",
   "metadata": {
    "id": "GNwpyBz9tGHM"
   },
   "source": [
    "#### Heatmap of crosstab"
   ]
  },
  {
   "cell_type": "code",
   "execution_count": null,
   "metadata": {
    "colab": {
     "base_uri": "https://localhost:8080/",
     "height": 742
    },
    "id": "UMq_d-owroMh",
    "outputId": "d6401a69-a711-4145-bb4c-a52daccd0694"
   },
   "outputs": [],
   "source": [
    "sns.heatmap(df_crossed)"
   ]
  },
  {
   "cell_type": "markdown",
   "metadata": {
    "id": "DYsbBRb2jkRl"
   },
   "source": [
    "**Task:** Would it make sense to show only specific columns? Which ones?"
   ]
  },
  {
   "cell_type": "markdown",
   "metadata": {
    "id": "gGN0rA5vtDYt"
   },
   "source": [
    "#### Histogram of selected crime type\n",
    "Shows distribution by crime category."
   ]
  },
  {
   "cell_type": "code",
   "execution_count": null,
   "metadata": {
    "colab": {
     "base_uri": "https://localhost:8080/",
     "height": 383
    },
    "id": "_8sG3koPqIDg",
    "outputId": "8d8ffc4c-f245-45c3-d3d2-ade1185085f3"
   },
   "outputs": [],
   "source": [
    "sns.displot(df_crossed, x=\"Violence and sexual offences\")"
   ]
  },
  {
   "cell_type": "markdown",
   "metadata": {},
   "source": [
    "#### Histogram of multiple categories\n",
    "Here we select multiple columns and instruct Seaborn to display the multiple categories as \"stack\"."
   ]
  },
  {
   "cell_type": "code",
   "execution_count": null,
   "metadata": {
    "colab": {
     "base_uri": "https://localhost:8080/",
     "height": 383
    },
    "id": "GZrLMlBOtsv7",
    "outputId": "d6ad424c-874e-4d5c-ed86-dd87ea2b9f4f"
   },
   "outputs": [],
   "source": [
    "sns.displot(\n",
    "    df_crossed[['Anti-social behaviour','Other theft', 'Violence and sexual offences']],\n",
    "    multiple=\"stack\"\n",
    "    )"
   ]
  },
  {
   "cell_type": "markdown",
   "metadata": {},
   "source": [
    "#### Compare frequency of selected crime category across boroughs\n",
    "First we transform the crosstab dataframe (reindex, sort), and then plot the result:"
   ]
  },
  {
   "cell_type": "code",
   "execution_count": null,
   "metadata": {},
   "outputs": [],
   "source": [
    "# Transformation:\n",
    "# Reset the index for df_crossed to flatten the dataframe\n",
    "df_crossed.reset_index(inplace=True)\n",
    "# Name of category to compare (allows us to change category quickly)\n",
    "crime_category = \"Bicycle theft\"\n",
    "# Sort the dataframe by the selected category\n",
    "df_crossed.sort_values(by=[f'{crime_category}'], ascending=False, inplace=True)"
   ]
  },
  {
   "cell_type": "markdown",
   "metadata": {},
   "source": [
    "Here's the head() showing the top 5 rows for the selected columns (Borough, crime_category):"
   ]
  },
  {
   "cell_type": "code",
   "execution_count": null,
   "metadata": {},
   "outputs": [],
   "source": [
    "df_crossed[['Borough', f'{crime_category}']].head()"
   ]
  },
  {
   "cell_type": "code",
   "execution_count": null,
   "metadata": {},
   "outputs": [],
   "source": [
    "# Display bar plot:\n",
    "sns.barplot(data=df_crossed, x=f\"{crime_category}\", y=\"Borough\")"
   ]
  },
  {
   "cell_type": "markdown",
   "metadata": {},
   "source": [
    "**Task:** Change the crime_cateogory variable above and run the cells again to see how the plot changes."
   ]
  },
  {
   "cell_type": "markdown",
   "metadata": {
    "id": "wgyXIIOCGb7F"
   },
   "source": [
    "### Crosstab with margins\n",
    "The `margins` parameter adds a row at the bottom and column at the end summarising each. The name can be specified with `margins_name`."
   ]
  },
  {
   "cell_type": "code",
   "execution_count": null,
   "metadata": {
    "id": "l1W4NxF0gkMv"
   },
   "outputs": [],
   "source": [
    "df_crossed_margins = pd.crosstab(df['Borough'], df['Crime type'], margins=True, margins_name='Crimes total').reset_index()"
   ]
  },
  {
   "cell_type": "code",
   "execution_count": null,
   "metadata": {
    "colab": {
     "base_uri": "https://localhost:8080/",
     "height": 1000
    },
    "id": "LShucA8lgsyV",
    "outputId": "b73e06eb-95a7-457a-8363-984e9b2044cc"
   },
   "outputs": [],
   "source": [
    "df_crossed_margins"
   ]
  },
  {
   "cell_type": "markdown",
   "metadata": {
    "id": "TYr8TFX1HXTj"
   },
   "source": [
    "### Normalise\n",
    "We can instruct `crosstab()` to show proportions, rather than absolute numbers with the `normalize` parameter."
   ]
  },
  {
   "cell_type": "code",
   "execution_count": null,
   "metadata": {
    "id": "YI_vR4FQHv-w"
   },
   "outputs": [],
   "source": [
    "# Crosstabl normalised by column, rounding numbers to 2 decimal places\n",
    "df_cross_pct_cols = pd.crosstab(df['Borough'], df['Crime type'], normalize='columns').round(2)"
   ]
  },
  {
   "cell_type": "code",
   "execution_count": null,
   "metadata": {},
   "outputs": [],
   "source": [
    "df_cross_pct_cols"
   ]
  },
  {
   "cell_type": "code",
   "execution_count": null,
   "metadata": {
    "id": "Nt7wkb-IHvkN"
   },
   "outputs": [],
   "source": [
    "# Normalised by rows\n",
    "df_cross_pct_rows = pd.crosstab(df['Borough'], df['Crime type'], normalize='index').round(2)"
   ]
  },
  {
   "cell_type": "code",
   "execution_count": null,
   "metadata": {
    "colab": {
     "base_uri": "https://localhost:8080/",
     "height": 1000
    },
    "id": "43qhyqFtyPK5",
    "outputId": "66a63a4d-4069-4a04-aae0-35bdec495118"
   },
   "outputs": [],
   "source": [
    "df_cross_pct_rows"
   ]
  },
  {
   "cell_type": "markdown",
   "metadata": {
    "id": "IyvHIQTWzgWw"
   },
   "source": [
    "#### Histogram of normalised crime types"
   ]
  },
  {
   "cell_type": "code",
   "execution_count": null,
   "metadata": {
    "colab": {
     "base_uri": "https://localhost:8080/",
     "height": 383
    },
    "id": "V6I8GYw_yIhV",
    "outputId": "e9265b9c-ec2f-4b59-a270-2c55c3711b3e"
   },
   "outputs": [],
   "source": [
    "sns.displot(df_cross_pct_rows[['Other theft', 'Violence and sexual offences']], element=\"step\")"
   ]
  },
  {
   "cell_type": "markdown",
   "metadata": {
    "id": "XdNaznwWnSRE"
   },
   "source": [
    "#### Proportion of crime types by Borough\n",
    "Heatmap of most frequent crime types for each borough. This enables us to identify \"hot spots\" within the dataset. The colour palette can be adjusted with the `cmap` parameter (see [Seaborn colour palettes documentation](https://seaborn.pydata.org/tutorial/color_palettes.html))."
   ]
  },
  {
   "cell_type": "code",
   "execution_count": null,
   "metadata": {
    "colab": {
     "base_uri": "https://localhost:8080/",
     "height": 745
    },
    "id": "tg0eJzrUkNBM",
    "outputId": "57dff898-5ec2-40b1-f95d-e88d314c4187"
   },
   "outputs": [],
   "source": [
    "sns.heatmap(df_cross_pct_rows, cmap=\"mako\")"
   ]
  },
  {
   "cell_type": "markdown",
   "metadata": {
    "id": "pCOd2Xh9LZvl"
   },
   "source": [
    "**Task:** Add `margins` to the normalised dataframes, to see proportional distribution between crime types."
   ]
  },
  {
   "cell_type": "markdown",
   "metadata": {
    "id": "_33rUzsqWrv8"
   },
   "source": [
    "# Output\n",
    "You can save a dataframe in various formats. The most-used methods for writing to file are `to_excel()` and `to_csv()`, and (more simply) copying to clipboard for pasting into Excel or similar software using `to_clipboard()`."
   ]
  },
  {
   "cell_type": "markdown",
   "metadata": {},
   "source": [
    "First, list your dataframes, using the `%who_ls` magic method."
   ]
  },
  {
   "cell_type": "code",
   "execution_count": null,
   "metadata": {},
   "outputs": [],
   "source": [
    "# List all the dataframes in the notebook\n",
    "%who_ls DataFrame"
   ]
  },
  {
   "cell_type": "markdown",
   "metadata": {
    "id": "ejDDFjWVZi3N"
   },
   "source": [
    "## Copy to clipboard\n",
    "The commonly used to_clipboard() method is good for copy/pasting small datasets into Excel (or other spreadsheet software) on the fly."
   ]
  },
  {
   "cell_type": "code",
   "execution_count": null,
   "metadata": {
    "colab": {
     "base_uri": "https://localhost:8080/",
     "height": 394
    },
    "id": "EARsEvWMZIan",
    "outputId": "b434e390-9ecb-4ec7-a6b4-2917efeba1ab"
   },
   "outputs": [],
   "source": [
    "# Copy to clipboard\n",
    "df_cross_pct_rows.to_clipboard()"
   ]
  },
  {
   "cell_type": "code",
   "execution_count": null,
   "metadata": {
    "id": "nI7sLe1lZx3V"
   },
   "outputs": [],
   "source": []
  }
 ],
 "metadata": {
  "colab": {
   "collapsed_sections": [],
   "provenance": []
  },
  "kernelspec": {
   "display_name": "Python 3",
   "language": "python",
   "name": "python3"
  },
  "language_info": {
   "codemirror_mode": {
    "name": "ipython",
    "version": 3
   },
   "file_extension": ".py",
   "mimetype": "text/x-python",
   "name": "python",
   "nbconvert_exporter": "python",
   "pygments_lexer": "ipython3",
   "version": "3.8.3"
  },
  "vscode": {
   "interpreter": {
    "hash": "25febdc273ee3944d7f60182e0e68095a4113921f6f97dab751113b34c91f1e3"
   }
  }
 },
 "nbformat": 4,
 "nbformat_minor": 1
}
