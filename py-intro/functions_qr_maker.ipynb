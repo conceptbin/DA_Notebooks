{
 "cells": [
  {
   "cell_type": "code",
   "execution_count": 1,
   "metadata": {},
   "outputs": [],
   "source": [
    "import qrcode"
   ]
  },
  {
   "cell_type": "markdown",
   "metadata": {},
   "source": [
    "# Define the function\n",
    "Here's [qrcode on GitHub](https://github.com/lincolnloop/python-qrcode). Here's also [That Data Bloke's Medium article](https://towardsdatascience.com/generate-qrcode-with-python-in-5-lines-42eda283f325) showing it in use.\n",
    "\n",
    "The output of this function is a file containing a QR code, saved to the outputs folder."
   ]
  },
  {
   "cell_type": "code",
   "execution_count": 2,
   "metadata": {},
   "outputs": [],
   "source": [
    "def makeQR(user_url, file_path):\n",
    "    img = qrcode.make(user_url)\n",
    "    type(img)  # qrcode.image.pil.PilImage\n",
    "    img.save(f\"{file_path}.png\")"
   ]
  },
  {
   "cell_type": "markdown",
   "metadata": {},
   "source": [
    "# Run the function\n",
    "Pass arguments to the function."
   ]
  },
  {
   "cell_type": "code",
   "execution_count": 3,
   "metadata": {},
   "outputs": [],
   "source": [
    "# Pass URL to the makeQR function\n",
    "user_url = 'https://outlook.office365.com/owa/calendar/UniversityofRoehampton811595@roehamptonprod.onmicrosoft.com/bookings/'\n",
    "file_path = 'outputs\\GS_meeting_qr'\n",
    "\n",
    "# Pass the variables to the function\n",
    "makeQR(user_url, file_path)"
   ]
  },
  {
   "cell_type": "code",
   "execution_count": null,
   "metadata": {},
   "outputs": [],
   "source": []
  }
 ],
 "metadata": {
  "kernelspec": {
   "display_name": "Python 3.9.5 ('shed_py39')",
   "language": "python",
   "name": "python3"
  },
  "language_info": {
   "codemirror_mode": {
    "name": "ipython",
    "version": 3
   },
   "file_extension": ".py",
   "mimetype": "text/x-python",
   "name": "python",
   "nbconvert_exporter": "python",
   "pygments_lexer": "ipython3",
   "version": "3.9.5"
  },
  "orig_nbformat": 4,
  "vscode": {
   "interpreter": {
    "hash": "c97e556b2123b92f5d28ca63fa8445826cb82f9f2ab925961a94fd4b4dde06e6"
   }
  }
 },
 "nbformat": 4,
 "nbformat_minor": 2
}
