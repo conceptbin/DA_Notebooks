{
  "cells": [
    {
      "cell_type": "markdown",
      "metadata": {
        "id": "view-in-github",
        "colab_type": "text"
      },
      "source": [
        "<a href=\"https://colab.research.google.com/github/conceptbin/DA_Notebooks/blob/master/py-intro/Intro_Python_2_dicts.ipynb\" target=\"_parent\"><img src=\"https://colab.research.google.com/assets/colab-badge.svg\" alt=\"Open In Colab\"/></a>"
      ]
    },
    {
      "cell_type": "markdown",
      "metadata": {
        "id": "lB00AoRb4IIj"
      },
      "source": [
        "# Simple dictionary\n",
        "Dictionaries are one of the main data structures in Python. They are expressed as key-value pairs. Values are accessed using the keys."
      ]
    },
    {
      "cell_type": "code",
      "execution_count": null,
      "metadata": {
        "id": "w3zHi4bJ4IIm"
      },
      "outputs": [],
      "source": [
        "dict1 = {'dog':'bark', 'cat':'meow'}"
      ]
    },
    {
      "cell_type": "code",
      "execution_count": null,
      "metadata": {
        "id": "sPHlhn1O4IIn",
        "outputId": "8ef40e73-2df7-4978-a693-393c11df359a"
      },
      "outputs": [
        {
          "data": {
            "text/plain": [
              "'bark'"
            ]
          },
          "execution_count": 2,
          "metadata": {},
          "output_type": "execute_result"
        }
      ],
      "source": [
        "# Access the value with the key:\n",
        "dict1['dog']"
      ]
    },
    {
      "cell_type": "markdown",
      "metadata": {
        "id": "TPCTQsUj4IIo"
      },
      "source": [
        "# Dictionary with values as lists\n",
        "Here, the keys are \"Parents\" and \"Children\" and the values are their names (as lists)"
      ]
    },
    {
      "cell_type": "code",
      "execution_count": null,
      "metadata": {
        "id": "cukdV2cQ4IIo",
        "outputId": "f7e26821-961b-464f-8115-3fc6f39ca1ff"
      },
      "outputs": [
        {
          "name": "stdout",
          "output_type": "stream",
          "text": [
            "{'Parents': ['Homer', 'Marge'], 'Children': ['Lisa', 'Bart', 'Maggie']}\n"
          ]
        }
      ],
      "source": [
        "simpsons = {'Parents':['Homer', 'Marge'], 'Children':['Lisa', 'Bart', 'Maggie']}\n",
        "print(simpsons)"
      ]
    },
    {
      "cell_type": "code",
      "execution_count": null,
      "metadata": {
        "id": "Wa9XlAVo4IIo",
        "outputId": "c2984423-a236-4cee-d0d5-733ffdee0450"
      },
      "outputs": [
        {
          "data": {
            "text/plain": [
              "dict_keys(['Parents', 'Children'])"
            ]
          },
          "execution_count": 4,
          "metadata": {},
          "output_type": "execute_result"
        }
      ],
      "source": [
        "simpsons.keys()"
      ]
    },
    {
      "cell_type": "code",
      "execution_count": null,
      "metadata": {
        "id": "I-xeaxt_4IIp",
        "outputId": "570ea72d-4825-48e1-859a-a9ee1a1938ae"
      },
      "outputs": [
        {
          "data": {
            "text/plain": [
              "dict_values([['Homer', 'Marge'], ['Lisa', 'Bart', 'Maggie']])"
            ]
          },
          "execution_count": 5,
          "metadata": {},
          "output_type": "execute_result"
        }
      ],
      "source": [
        "simpsons.values()"
      ]
    },
    {
      "cell_type": "code",
      "execution_count": null,
      "metadata": {
        "id": "KrRNVKli4IIp",
        "outputId": "a9574b17-52b8-4fdc-fc82-3fcb005d7572"
      },
      "outputs": [
        {
          "data": {
            "text/plain": [
              "dict_items([('Parents', ['Homer', 'Marge']), ('Children', ['Lisa', 'Bart', 'Maggie'])])"
            ]
          },
          "execution_count": 6,
          "metadata": {},
          "output_type": "execute_result"
        }
      ],
      "source": [
        "simpsons.items()"
      ]
    },
    {
      "cell_type": "code",
      "execution_count": null,
      "metadata": {
        "id": "vTI5Sce34IIp",
        "outputId": "ab4b2276-6d52-4ba3-fae4-e96dff234eca"
      },
      "outputs": [
        {
          "data": {
            "text/plain": [
              "['Homer', 'Marge']"
            ]
          },
          "execution_count": 7,
          "metadata": {},
          "output_type": "execute_result"
        }
      ],
      "source": [
        "# Access the values of a key\n",
        "simpsons['Parents']"
      ]
    },
    {
      "cell_type": "code",
      "execution_count": null,
      "metadata": {
        "id": "-zQI6Cxu4IIp",
        "outputId": "401bd840-0a35-41ef-bb69-61a71d7332b9"
      },
      "outputs": [
        {
          "data": {
            "text/plain": [
              "'Marge'"
            ]
          },
          "execution_count": 8,
          "metadata": {},
          "output_type": "execute_result"
        }
      ],
      "source": [
        "# Access the values of a key by index\n",
        "simpsons['Parents'][1]"
      ]
    },
    {
      "cell_type": "markdown",
      "metadata": {
        "id": "rhgJ8SyE4IIq"
      },
      "source": [
        "# Merge with update()\n",
        "You can merge dictionaries."
      ]
    },
    {
      "cell_type": "code",
      "execution_count": null,
      "metadata": {
        "id": "ZKWkF-Dz4IIq"
      },
      "outputs": [],
      "source": [
        "simpsons.update(dict1)"
      ]
    },
    {
      "cell_type": "code",
      "execution_count": null,
      "metadata": {
        "id": "Y93Q-NUn4IIq",
        "outputId": "1befb566-4ad7-47c6-b6e9-28f95888dd68"
      },
      "outputs": [
        {
          "data": {
            "text/plain": [
              "dict_items([('Parents', ['Homer', 'Marge']), ('Children', ['Lisa', 'Bart', 'Maggie']), ('dog', 'bark'), ('cat', 'meow')])"
            ]
          },
          "execution_count": 10,
          "metadata": {},
          "output_type": "execute_result"
        }
      ],
      "source": [
        "simpsons.items()"
      ]
    },
    {
      "cell_type": "code",
      "execution_count": null,
      "metadata": {
        "id": "kWcoHjXQ4IIq"
      },
      "outputs": [],
      "source": []
    }
  ],
  "metadata": {
    "kernelspec": {
      "display_name": "Python 3",
      "language": "python",
      "name": "python3"
    },
    "language_info": {
      "codemirror_mode": {
        "name": "ipython",
        "version": 3
      },
      "file_extension": ".py",
      "mimetype": "text/x-python",
      "name": "python",
      "nbconvert_exporter": "python",
      "pygments_lexer": "ipython3",
      "version": "3.9.5"
    },
    "vscode": {
      "interpreter": {
        "hash": "c97e556b2123b92f5d28ca63fa8445826cb82f9f2ab925961a94fd4b4dde06e6"
      }
    },
    "colab": {
      "provenance": [],
      "include_colab_link": true
    }
  },
  "nbformat": 4,
  "nbformat_minor": 0
}