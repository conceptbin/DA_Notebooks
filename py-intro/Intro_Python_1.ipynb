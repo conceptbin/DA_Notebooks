{
  "cells": [
    {
      "cell_type": "markdown",
      "metadata": {
        "id": "yOwPcxey20s4"
      },
      "source": [
        "# Workshop 1\n",
        "After this workshop you will be able to...\n",
        "* Use a notebook in a programming environment to write and run Python code. \n",
        "* Write basic statements using Python syntax. \n",
        "* Define, print and update variables. \n",
        "* Use Python for arithmetic operations. \n",
        "* Read a data file into a Python environment. \n"
      ]
    },
    {
      "cell_type": "markdown",
      "metadata": {
        "id": "pdNBz8umyYJn"
      },
      "source": [
        "## To start with...\n",
        "Python is a \"high level\" programming language (the lower the level, the closer to machine code it is), relatively close to recognisable English (for a programming language).\n",
        "\n",
        "Its great strength is the size and variety of the \"ecosystem\" of practitioners using the language, and the large pool of *libraries* (software) available to extend the functionality of Python code. Some of these libraries are powerful software in themselves (e.g., [pandas](https://pandas.pydata.org/) for data analysis).\n",
        "\n",
        "Jupyter Notebooks (also available in VS Code and Google Colab): An interactive coding environment where you can execute code in individual cells. This allows you to write your code in short blocks that can be run sequentially.\n",
        "\n",
        "Notebooks also allow for annotation, using text-formatted blocks (such as this one)."
      ]
    },
    {
      "cell_type": "code",
      "execution_count": null,
      "metadata": {
        "colab": {
          "base_uri": "https://localhost:8080/"
        },
        "id": "ijt8qg7KyZ67",
        "outputId": "59de883f-2621-4b1a-8bde-72bc79b75851"
      },
      "outputs": [],
      "source": [
        "# This is a comment within a code block.\n",
        "print('Welcome to Python!')\n",
        "# Run this code either by pressing the \"play\" button or pressing Shift-Enter"
      ]
    },
    {
      "cell_type": "markdown",
      "metadata": {
        "id": "oHB7-cmd4Bf6"
      },
      "source": [
        "## How to use this notebook\n",
        "*   Make your own copy of this notebook (and the other ones we use in our workshops)\n",
        "*   Shift-Enter to run a cell.\n",
        "*   Click in cells to edit\n",
        "*   Make or edit notes in text format (Markup)"
      ]
    },
    {
      "cell_type": "code",
      "execution_count": null,
      "metadata": {
        "id": "5SEZLqIF1Nb-"
      },
      "outputs": [],
      "source": [
        "# Putting a ! at the start of a line allows you to run terminal commands within the notebook.\n",
        "# This command shows which version of Python is in the current environment.\n",
        "!python --version"
      ]
    },
    {
      "cell_type": "code",
      "execution_count": null,
      "metadata": {
        "colab": {
          "base_uri": "https://localhost:8080/"
        },
        "id": "JMxzy9YS1dA_",
        "outputId": "b98918e1-7fe8-4f18-b7fb-442035238228"
      },
      "outputs": [],
      "source": [
        "# ...and this tells us the libraries available in this environment\n",
        "!conda list"
      ]
    },
    {
      "cell_type": "markdown",
      "metadata": {
        "id": "UE3Ddqs55XRg"
      },
      "source": [
        "## Define, print, update variables"
      ]
    },
    {
      "cell_type": "code",
      "execution_count": null,
      "metadata": {
        "colab": {
          "base_uri": "https://localhost:8080/"
        },
        "id": "V9s8kA9M7ERp",
        "outputId": "300eb615-23c2-4a36-e502-99fd92ecf675"
      },
      "outputs": [],
      "source": [
        "# This is a string variable\n",
        "kid1 = 'Bart'\n",
        "kid2 = 'Lisa'\n",
        "\n",
        "# String variable in text \n",
        "print(kid1+' is sibling of '+kid2)"
      ]
    },
    {
      "cell_type": "code",
      "execution_count": null,
      "metadata": {},
      "outputs": [],
      "source": [
        "# F-string, embedding variables in text\n",
        "print(f'{kid1} is related to {kid2}.')"
      ]
    },
    {
      "cell_type": "markdown",
      "metadata": {
        "id": "KKK9G4lD4WMO"
      },
      "source": [
        "Can you edit the above so that Lisa appears first?"
      ]
    },
    {
      "cell_type": "code",
      "execution_count": null,
      "metadata": {
        "colab": {
          "base_uri": "https://localhost:8080/"
        },
        "id": "LqmcePJw4OJB",
        "outputId": "9b05eb00-4543-4ed0-9f87-3cf05aba49b4"
      },
      "outputs": [],
      "source": [
        "# Join two strings\n",
        "print(kid1+kid2)"
      ]
    },
    {
      "cell_type": "markdown",
      "metadata": {
        "id": "MQqJSd-Q5esI"
      },
      "source": [
        "## Arithmetic operations\n",
        "You can do calculations directly in Python. Here's a list of [arithmetic operators](https://www.w3schools.com/python/gloss_python_arithmetic_operators.asp)."
      ]
    },
    {
      "cell_type": "code",
      "execution_count": null,
      "metadata": {
        "colab": {
          "base_uri": "https://localhost:8080/"
        },
        "id": "wHUZbIGx5dTO",
        "outputId": "17039ba9-6064-4494-ff00-6dbfa8dd2c42"
      },
      "outputs": [],
      "source": [
        "# Enter numbers to perform basic arithmetic\n",
        "2 + 1"
      ]
    },
    {
      "cell_type": "code",
      "execution_count": null,
      "metadata": {
        "id": "onm__s3w5g6Y"
      },
      "outputs": [],
      "source": [
        "# Or use variables\n",
        "var1 = 5\n",
        "var2 = 2\n",
        "var1 * var2"
      ]
    },
    {
      "cell_type": "markdown",
      "metadata": {},
      "source": [
        "## User input"
      ]
    },
    {
      "cell_type": "code",
      "execution_count": 1,
      "metadata": {},
      "outputs": [],
      "source": [
        "# User input variable\n",
        "var_in = input('Please enter a name: ')"
      ]
    },
    {
      "cell_type": "code",
      "execution_count": 2,
      "metadata": {},
      "outputs": [
        {
          "name": "stdout",
          "output_type": "stream",
          "text": [
            "The name is: Anaxagoras.\n"
          ]
        }
      ],
      "source": [
        "# Print what you entered\n",
        "print(f'The name is: {var_in}.')"
      ]
    },
    {
      "cell_type": "code",
      "execution_count": 3,
      "metadata": {},
      "outputs": [
        {
          "name": "stdout",
          "output_type": "stream",
          "text": [
            "the name is: anaxagoras.\n"
          ]
        }
      ],
      "source": [
        "# Print the name in uppercase or lowercase\n",
        "print(f'The name is: {var_in}.'.lower())"
      ]
    },
    {
      "cell_type": "markdown",
      "metadata": {},
      "source": [
        "Task: Edit the cell above to try all the available methods for changing case: lower(), upper(), capitalize(), title() and swapcase()"
      ]
    },
    {
      "cell_type": "markdown",
      "metadata": {
        "id": "maMDQgDH5hvY"
      },
      "source": [
        "## Read a file into Python"
      ]
    },
    {
      "cell_type": "code",
      "execution_count": null,
      "metadata": {
        "id": "sUo_DpAh5mCG"
      },
      "outputs": [],
      "source": [
        "file = open(\"data\\sample_text.txt\")\n",
        "sample_txt = file.read()\n",
        "print(sample_txt)"
      ]
    },
    {
      "cell_type": "code",
      "execution_count": null,
      "metadata": {},
      "outputs": [],
      "source": [
        "# String slice\n",
        "sample_txt[0:4]"
      ]
    },
    {
      "cell_type": "code",
      "execution_count": null,
      "metadata": {},
      "outputs": [],
      "source": []
    }
  ],
  "metadata": {
    "colab": {
      "provenance": [],
      "toc_visible": true
    },
    "kernelspec": {
      "display_name": "Python 3.9.5 ('shed_py39')",
      "language": "python",
      "name": "python3"
    },
    "language_info": {
      "codemirror_mode": {
        "name": "ipython",
        "version": 3
      },
      "file_extension": ".py",
      "mimetype": "text/x-python",
      "name": "python",
      "nbconvert_exporter": "python",
      "pygments_lexer": "ipython3",
      "version": "3.9.5"
    },
    "vscode": {
      "interpreter": {
        "hash": "c97e556b2123b92f5d28ca63fa8445826cb82f9f2ab925961a94fd4b4dde06e6"
      }
    }
  },
  "nbformat": 4,
  "nbformat_minor": 0
}
