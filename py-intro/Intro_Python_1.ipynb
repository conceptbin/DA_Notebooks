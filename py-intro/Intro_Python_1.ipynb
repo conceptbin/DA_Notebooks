{
 "cells": [
  {
   "cell_type": "markdown",
   "metadata": {
    "id": "yOwPcxey20s4"
   },
   "source": [
    "# Workshop 1\n",
    "After this workshop you will be able to...\n",
    "* Use a notebook in a programming environment to write and run Python code. \n",
    "* Write basic statements using Python syntax. \n",
    "* Define, print and update variables. \n",
    "* Use Python for arithmetic operations. \n",
    "* Read a data file into a Python environment. \n"
   ]
  },
  {
   "cell_type": "markdown",
   "metadata": {
    "id": "pdNBz8umyYJn"
   },
   "source": [
    "## To start with...\n",
    "Python is a \"high level\" programming language (the lower the level, the closer to machine code it is), relatively close to recognisable English (for a programming language).\n",
    "\n",
    "Its great strength is the size and variety of the \"ecosystem\" of practitioners using the language, and the large pool of *libraries* (software) available to extend the functionality of Python code. Some of these libraries are powerful software in themselves (e.g., [pandas](https://pandas.pydata.org/) for data analysis).\n",
    "\n",
    "Jupyter Notebooks (also available in VS Code and Google Colab): An interactive coding environment where you can execute code in individual cells. This allows you to write your code in short blocks that can be run sequentially.\n",
    "\n",
    "Notebooks also allow for annotation, using text-formatted blocks (such as this one)."
   ]
  },
  {
   "cell_type": "code",
   "execution_count": 1,
   "metadata": {
    "colab": {
     "base_uri": "https://localhost:8080/"
    },
    "id": "ijt8qg7KyZ67",
    "outputId": "59de883f-2621-4b1a-8bde-72bc79b75851"
   },
   "outputs": [
    {
     "name": "stdout",
     "output_type": "stream",
     "text": [
      "Welcome to Python!\n"
     ]
    }
   ],
   "source": [
    "# This is a comment within a code block.\n",
    "print('Welcome to Python!')\n",
    "# Run this code either by pressing the \"play\" button or pressing Shift-Enter"
   ]
  },
  {
   "cell_type": "markdown",
   "metadata": {
    "id": "oHB7-cmd4Bf6"
   },
   "source": [
    "## How to use this notebook\n",
    "*   Make your own copy of this notebook (and the other ones we use in our workshops)\n",
    "*   Shift-Enter to run a cell.\n",
    "*   Click in cells to edit\n",
    "*   Make or edit notes in text format (Markup)"
   ]
  },
  {
   "cell_type": "code",
   "execution_count": 2,
   "metadata": {
    "id": "5SEZLqIF1Nb-"
   },
   "outputs": [
    {
     "name": "stdout",
     "output_type": "stream",
     "text": [
      "Python 3.9.5\n"
     ]
    }
   ],
   "source": [
    "# Putting a ! at the start of a line allows you to run terminal commands within the notebook.\n",
    "# This command shows which version of Python is in the current environment.\n",
    "!python --version"
   ]
  },
  {
   "cell_type": "code",
   "execution_count": 3,
   "metadata": {
    "colab": {
     "base_uri": "https://localhost:8080/"
    },
    "id": "JMxzy9YS1dA_",
    "outputId": "b98918e1-7fe8-4f18-b7fb-442035238228"
   },
   "outputs": [
    {
     "name": "stdout",
     "output_type": "stream",
     "text": [
      "# packages in environment at C:\\Users\\gauti.sigthorsson\\Miniconda3\\envs\\shed_py39:\n",
      "#\n",
      "# Name                    Version                   Build  Channel\n",
      "affine                    2.3.0              pyhd3eb1b0_0  \n",
      "altair                    4.1.0                      py_1  \n",
      "altgraph                  0.17               pyhd3eb1b0_0  \n",
      "anyio                     3.5.0            py39haa95532_0  \n",
      "argon2-cffi               21.3.0             pyhd3eb1b0_0  \n",
      "argon2-cffi-bindings      21.2.0           py39h2bbff1b_0  \n",
      "asttokens                 2.0.5              pyhd3eb1b0_0  \n",
      "attrs                     21.4.0             pyhd3eb1b0_0  \n",
      "babel                     2.9.1              pyhd3eb1b0_0  \n",
      "backcall                  0.2.0              pyhd3eb1b0_0  \n",
      "beautifulsoup4            4.11.1           py39haa95532_0  \n",
      "blas                      1.0                         mkl  \n",
      "bleach                    4.1.0              pyhd3eb1b0_0  \n",
      "bottleneck                1.3.5            py39h080aedc_0  \n",
      "branca                    0.4.2              pyhd8ed1ab_0    conda-forge\n",
      "brotli                    1.0.9                h2bbff1b_7  \n",
      "brotli-bin                1.0.9                h2bbff1b_7  \n",
      "brotlipy                  0.7.0           py39h2bbff1b_1003  \n",
      "bs4                       4.11.1               hd3eb1b0_0  \n",
      "bzip2                     1.0.8                he774522_0  \n",
      "ca-certificates           2022.07.19           haa95532_0  \n",
      "cairo                     1.16.0            hd28d34b_1006    conda-forge\n",
      "certifi                   2022.9.24        py39haa95532_0  \n",
      "cffi                      1.15.1           py39h2bbff1b_0  \n",
      "cfitsio                   3.470                h2bbff1b_7  \n",
      "chardet                   4.0.0           py39haa95532_1003  \n",
      "click                     7.1.2              pyhd3eb1b0_0  \n",
      "click-plugins             1.1.1              pyhd3eb1b0_0  \n",
      "cligj                     0.7.2            py39haa95532_0  \n",
      "colorama                  0.4.5            py39haa95532_0  \n",
      "confuse                   1.5.0              pyhd3eb1b0_0  \n",
      "contextily                1.2.0              pyhd8ed1ab_0    conda-forge\n",
      "cryptography              37.0.1           py39h21b164f_0  \n",
      "curl                      7.84.0               h2bbff1b_0  \n",
      "cycler                    0.11.0             pyhd3eb1b0_0  \n",
      "debugpy                   1.5.1            py39hd77b12b_0  \n",
      "decorator                 5.1.1              pyhd3eb1b0_0  \n",
      "defusedxml                0.7.1              pyhd3eb1b0_0  \n",
      "deprecated                1.2.13           py39haa95532_0  \n",
      "descartes                 1.1.0              pyhd3eb1b0_4  \n",
      "empath                    0.89                       py_1    conda-forge\n",
      "entrypoints               0.4              py39haa95532_0  \n",
      "et_xmlfile                1.1.0            py39haa95532_0  \n",
      "executing                 0.8.3              pyhd3eb1b0_0  \n",
      "expat                     2.2.10               h39d44d4_0    conda-forge\n",
      "fftw                      3.3.9                h2bbff1b_1  \n",
      "fiona                     1.8.17           py39h6119223_1    conda-forge\n",
      "folium                    0.12.0             pyhd8ed1ab_0    conda-forge\n",
      "fontconfig                2.13.1            h1989441_1004    conda-forge\n",
      "fonttools                 4.25.0             pyhd3eb1b0_0  \n",
      "freetype                  2.10.4               hd328e21_0  \n",
      "freexl                    1.0.6                h2bbff1b_0  \n",
      "future                    0.18.2           py39haa95532_1  \n",
      "gdal                      3.1.4            py39hda8168b_0    conda-forge\n",
      "geographiclib             1.50                       py_0    conda-forge\n",
      "geopandas                 0.9.0                      py_1  \n",
      "geopandas-base            0.9.0                      py_1  \n",
      "geopy                     2.1.0              pyhd3deb0d_0    conda-forge\n",
      "geos                      3.8.1                he025d50_0    conda-forge\n",
      "geotiff                   1.6.0                h8884d1a_3    conda-forge\n",
      "gettext                   0.19.8.1          h1a89ca6_1005    conda-forge\n",
      "git                       2.34.1               haa95532_0  \n",
      "hdf4                      4.2.13               h712560f_2  \n",
      "hdf5                      1.10.6          nompi_h5268f04_1114    conda-forge\n",
      "htmlmin                   0.1.12             pyhd3eb1b0_1  \n",
      "icc_rt                    2022.1.0             h6049295_2  \n",
      "icu                       67.1                 h33f27b4_0    conda-forge\n",
      "idna                      2.10               pyhd3eb1b0_0  \n",
      "imagehash                 4.2.1              pyhd3eb1b0_0  \n",
      "importlib-metadata        4.11.3           py39haa95532_0  \n",
      "intel-openmp              2021.4.0          haa95532_3556  \n",
      "ipykernel                 6.15.2           py39haa95532_0  \n",
      "ipython                   8.4.0            py39haa95532_0  \n",
      "ipython_genutils          0.2.0              pyhd3eb1b0_1  \n",
      "ipywidgets                7.6.5              pyhd3eb1b0_1  \n",
      "iso3166                   1.0.1              pyh9f0ad1d_0    conda-forge\n",
      "jdcal                     1.4.1              pyhd3eb1b0_0  \n",
      "jedi                      0.18.1           py39haa95532_1  \n",
      "jinja2                    3.0.3              pyhd3eb1b0_0  \n",
      "joblib                    1.1.0              pyhd3eb1b0_0  \n",
      "jpeg                      9e                   h2bbff1b_0  \n",
      "json5                     0.9.6              pyhd3eb1b0_0  \n",
      "jsonschema                4.16.0           py39haa95532_0  \n",
      "jupyter                   1.0.0            py39haa95532_8  \n",
      "jupyter_client            7.3.5            py39haa95532_0  \n",
      "jupyter_console           6.4.3              pyhd3eb1b0_0  \n",
      "jupyter_core              4.11.1           py39haa95532_0  \n",
      "jupyter_server            1.18.1           py39haa95532_0  \n",
      "jupyterlab                3.0.7              pyhd8ed1ab_0    conda-forge\n",
      "jupyterlab_pygments       0.1.2                      py_0  \n",
      "jupyterlab_server         2.15.2           py39haa95532_0  \n",
      "jupyterlab_widgets        1.0.0              pyhd3eb1b0_1  \n",
      "kealib                    1.4.14               hde4a422_1  \n",
      "kiwisolver                1.4.2            py39hd77b12b_0  \n",
      "krb5                      1.19.2               h5b6d351_0  \n",
      "lerc                      3.0                  hd77b12b_0  \n",
      "libboost                  1.73.0              h6c2663c_11  \n",
      "libbrotlicommon           1.0.9                h2bbff1b_7  \n",
      "libbrotlidec              1.0.9                h2bbff1b_7  \n",
      "libbrotlienc              1.0.9                h2bbff1b_7  \n",
      "libclang                  10.0.1          default_hf44288c_1    conda-forge\n",
      "libcurl                   7.84.0               h86230a5_0  \n",
      "libdeflate                1.8                  h2bbff1b_5  \n",
      "libffi                    3.3                  h0e60522_2    conda-forge\n",
      "libgdal                   3.1.4                h0e5aa5a_0    conda-forge\n",
      "libglib                   2.66.7               h8c8e623_0    conda-forge\n",
      "libiconv                  1.16                 h2bbff1b_2  \n",
      "libkml                    1.3.0                hd124aa8_5  \n",
      "libnetcdf                 4.7.4           nompi_h3a9aa94_107    conda-forge\n",
      "libpng                    1.6.37               h2a8f88b_0  \n",
      "libpq                     12.9                 hb652d5d_3  \n",
      "libpysal                  4.4.0              pyhd8ed1ab_0    conda-forge\n",
      "libsodium                 1.0.18               h62dcd97_0  \n",
      "libspatialindex           1.9.3                h6c2663c_0  \n",
      "libspatialite             5.0.0                hf693123_0    conda-forge\n",
      "libssh2                   1.10.0               hcd4344a_0  \n",
      "libtiff                   4.4.0                h8a3f274_0  \n",
      "libwebp                   1.2.2                h2bbff1b_0  \n",
      "libwebp-base              1.2.2                h2bbff1b_0  \n",
      "libxml2                   2.9.14               h0ad7f3c_0  \n",
      "llvmlite                  0.38.0           py39h23ce68f_0  \n",
      "lux-api                   0.3.2              pyhd8ed1ab_0    conda-forge\n",
      "lux-widget                0.1.7              pyhd8ed1ab_0    conda-forge\n",
      "lz4-c                     1.9.3                h2bbff1b_1  \n",
      "macholib                  1.14               pyhd3eb1b0_1  \n",
      "mapclassify               2.4.3              pyhd3eb1b0_0  \n",
      "markupsafe                2.1.1            py39h2bbff1b_0  \n",
      "matplotlib                3.5.2            py39haa95532_0  \n",
      "matplotlib-base           3.5.2            py39hd77b12b_0  \n",
      "matplotlib-inline         0.1.6            py39haa95532_0  \n",
      "mercantile                1.2.1              pyhd8ed1ab_0    conda-forge\n",
      "missingno                 0.4.2              pyhd3eb1b0_1  \n",
      "mistune                   0.8.4           py39h2bbff1b_1000  \n",
      "mkl                       2021.4.0           haa95532_640  \n",
      "mkl-service               2.4.0            py39h2bbff1b_0  \n",
      "mkl_fft                   1.3.1            py39h277e83a_0  \n",
      "mkl_random                1.2.2            py39hf11a4ad_0  \n",
      "multimethod               1.4                pyhd3eb1b0_0  \n",
      "munch                     2.5.0              pyhd3eb1b0_0  \n",
      "munkres                   1.1.4                      py_0  \n",
      "nbclassic                 0.2.6              pyhd3eb1b0_0  \n",
      "nbclient                  0.5.13           py39haa95532_0  \n",
      "nbconvert                 6.4.4            py39haa95532_0  \n",
      "nbformat                  5.5.0            py39haa95532_0  \n",
      "nest-asyncio              1.5.5            py39haa95532_0  \n",
      "networkx                  2.8.4            py39haa95532_0  \n",
      "notebook                  6.4.12           py39haa95532_0  \n",
      "numba                     0.55.1           py39hf11a4ad_0  \n",
      "numexpr                   2.8.3            py39hb80d3ca_0  \n",
      "numpy                     1.21.5           py39h7a0a035_3  \n",
      "numpy-base                1.21.5           py39hca35cd5_3  \n",
      "openjpeg                  2.3.1                h48faf41_3    conda-forge\n",
      "openpyxl                  3.0.7              pyhd8ed1ab_0    conda-forge\n",
      "openssl                   1.1.1q               h2bbff1b_0  \n",
      "packaging                 21.3               pyhd3eb1b0_0  \n",
      "palettable                3.3.0              pyhd3eb1b0_0  \n",
      "pandas                    1.2.5            py39hd77b12b_0  \n",
      "pandas-profiling          3.0.0              pyhd8ed1ab_0    conda-forge\n",
      "pandocfilters             1.5.0              pyhd3eb1b0_0  \n",
      "parso                     0.8.3              pyhd3eb1b0_0  \n",
      "patsy                     0.5.2            py39haa95532_1  \n",
      "pcre                      8.45                 hd77b12b_0  \n",
      "pefile                    2019.4.18                  py_0  \n",
      "phik                      0.11.2             pyhd3eb1b0_1  \n",
      "pickleshare               0.7.5           pyhd3eb1b0_1003  \n",
      "pillow                    9.2.0            py39hdc2b20a_1  \n",
      "pip                       22.2.2           py39haa95532_0  \n",
      "pixman                    0.40.0               h2bbff1b_1  \n",
      "poppler                   0.89.0               h7c6e155_3    conda-forge\n",
      "poppler-data              0.4.10                        0    conda-forge\n",
      "postgresql                12.9                 hb652d5d_3  \n",
      "proj                      7.1.1                h7d85306_3    conda-forge\n",
      "prometheus_client         0.14.1           py39haa95532_0  \n",
      "prompt-toolkit            3.0.20             pyhd3eb1b0_0  \n",
      "prompt_toolkit            3.0.20               hd3eb1b0_0  \n",
      "psutil                    5.9.0            py39h2bbff1b_0  \n",
      "pure_eval                 0.2.2              pyhd3eb1b0_0  \n",
      "pycparser                 2.21               pyhd3eb1b0_0  \n",
      "pycryptodome              3.15.0           py39h2bbff1b_0  \n",
      "pydantic                  1.9.0            py39h2bbff1b_1  \n",
      "pygments                  2.11.2             pyhd3eb1b0_0  \n",
      "pyinstaller               4.8              py39h8cc25b3_0  \n",
      "pyopenssl                 22.0.0             pyhd3eb1b0_0  \n",
      "pyparsing                 3.0.9            py39haa95532_0  \n",
      "pyproj                    2.6.1.post1      py39hd2b018c_3    conda-forge\n",
      "pyqt                      5.12.3           py39hcbf5309_7    conda-forge\n",
      "pyqt-impl                 5.12.3           py39h415ef7b_7    conda-forge\n",
      "pyqt5-sip                 4.19.18          py39h415ef7b_7    conda-forge\n",
      "pyqtchart                 5.12             py39h415ef7b_7    conda-forge\n",
      "pyqtwebengine             5.12.1           py39h415ef7b_7    conda-forge\n",
      "pyrsistent                0.18.0           py39h196d8e1_0  \n",
      "pysal                     2.1.0                      py_0    conda-forge\n",
      "pysocks                   1.7.1            py39haa95532_0  \n",
      "python                    3.9.5                h6244533_3  \n",
      "python-dateutil           2.8.2              pyhd3eb1b0_0  \n",
      "python-fastjsonschema     2.16.2           py39haa95532_0  \n",
      "python_abi                3.9                      1_cp39    conda-forge\n",
      "pytz                      2022.1           py39haa95532_0  \n",
      "pywavelets                1.3.0            py39h2bbff1b_0  \n",
      "pywin32                   302              py39h2bbff1b_2  \n",
      "pywin32-ctypes            0.2.0           py39haa95532_1000  \n",
      "pywinpty                  2.0.2            py39h5da7b33_0  \n",
      "pyyaml                    6.0              py39h2bbff1b_1  \n",
      "pyzmq                     23.2.0           py39hd77b12b_0  \n",
      "qrcode                    7.3.1              pyhd8ed1ab_0    conda-forge\n",
      "qt                        5.12.9               hb2cf2c5_0    conda-forge\n",
      "qtconsole                 5.3.2            py39haa95532_0  \n",
      "qtpy                      2.2.0            py39haa95532_0  \n",
      "rasterio                  1.2.1            py39hfec4536_0    conda-forge\n",
      "requests                  2.25.1             pyhd3eb1b0_0  \n",
      "rtree                     0.9.7            py39h2eaa2aa_1  \n",
      "scikit-learn              1.1.1            py39hd77b12b_0  \n",
      "scipy                     1.9.1            py39he11b74f_0  \n",
      "seaborn                   0.11.2             pyhd3eb1b0_0  \n",
      "seaborn-base              0.11.2             pyhd8ed1ab_0    conda-forge\n",
      "send2trash                1.8.0              pyhd3eb1b0_1  \n",
      "setuptools                63.4.1           py39haa95532_0  \n",
      "shapely                   1.7.1            py39hdfdf89f_1    conda-forge\n",
      "six                       1.16.0             pyhd3eb1b0_1  \n",
      "sniffio                   1.2.0            py39haa95532_1  \n",
      "snuggs                    1.4.7              pyhd3eb1b0_0  \n",
      "soupsieve                 2.3.1              pyhd3eb1b0_0  \n",
      "sqlite                    3.39.3               h2bbff1b_0  \n",
      "stack_data                0.2.0              pyhd3eb1b0_0  \n",
      "statsmodels               0.13.0           py39h5d4886f_0    conda-forge\n",
      "tabulate                  0.8.9              pyhd8ed1ab_0    conda-forge\n",
      "tangled-up-in-unicode     0.1.0              pyhd3eb1b0_0  \n",
      "tbb                       2021.6.0             h59b6b97_0  \n",
      "terminado                 0.13.1           py39haa95532_0  \n",
      "testpath                  0.6.0            py39haa95532_0  \n",
      "threadpoolctl             2.2.0              pyh0d69192_0  \n",
      "tiledb                    2.1.6                hf84e3da_1    conda-forge\n",
      "tk                        8.6.12               h2bbff1b_0  \n",
      "toolz                     0.11.2             pyhd3eb1b0_0  \n",
      "tornado                   6.2              py39h2bbff1b_0  \n",
      "tqdm                      4.64.1           py39haa95532_0  \n",
      "traitlets                 5.1.1              pyhd3eb1b0_0  \n",
      "typing-extensions         4.3.0            py39haa95532_0  \n",
      "typing_extensions         4.3.0            py39haa95532_0  \n",
      "tzdata                    2022c                h04d1e81_0  \n",
      "urllib3                   1.26.11          py39haa95532_0  \n",
      "vc                        14.2                 h21ff451_1  \n",
      "visions                   0.7.1              pyhd8ed1ab_0    conda-forge\n",
      "vs2015_runtime            14.27.29016          h5e58377_2  \n",
      "wcwidth                   0.2.5              pyhd3eb1b0_0  \n",
      "webencodings              0.5.1            py39haa95532_1  \n",
      "websocket-client          0.58.0           py39haa95532_4  \n",
      "wheel                     0.37.1             pyhd3eb1b0_0  \n",
      "widgetsnbextension        3.5.2            py39haa95532_0  \n",
      "win_inet_pton             1.1.0            py39haa95532_0  \n",
      "wincertstore              0.2              py39haa95532_2  \n",
      "winpty                    0.4.3                         4  \n",
      "wrapt                     1.14.1           py39h2bbff1b_0  \n",
      "xerces-c                  3.2.3                ha925a31_0  \n",
      "xlrd                      2.0.1              pyhd8ed1ab_3    conda-forge\n",
      "xlsxwriter                3.0.1              pyhd8ed1ab_0    conda-forge\n",
      "xyzservices               2022.1.1           pyhd8ed1ab_0    conda-forge\n",
      "xz                        5.2.6                h8cc25b3_0  \n",
      "yaml                      0.2.5                he774522_0  \n",
      "zeromq                    4.3.4                hd77b12b_0  \n",
      "zipp                      3.8.0            py39haa95532_0  \n",
      "zlib                      1.2.12               h8cc25b3_3  \n",
      "zstd                      1.4.9                h19a0ad4_0  \n"
     ]
    }
   ],
   "source": [
    "# ...and this tells us the libraries available in this environment\n",
    "!conda list"
   ]
  },
  {
   "cell_type": "markdown",
   "metadata": {
    "id": "UE3Ddqs55XRg"
   },
   "source": [
    "## Define, print, update variables"
   ]
  },
  {
   "cell_type": "code",
   "execution_count": 4,
   "metadata": {
    "colab": {
     "base_uri": "https://localhost:8080/"
    },
    "id": "V9s8kA9M7ERp",
    "outputId": "300eb615-23c2-4a36-e502-99fd92ecf675"
   },
   "outputs": [
    {
     "name": "stdout",
     "output_type": "stream",
     "text": [
      "Bart is sibling of Lisa\n"
     ]
    }
   ],
   "source": [
    "# This is a string variable\n",
    "kid1 = 'Bart'\n",
    "kid2 = 'Lisa'\n",
    "\n",
    "# String variable in text \n",
    "print(kid1+' is sibling of '+kid2)"
   ]
  },
  {
   "cell_type": "code",
   "execution_count": 5,
   "metadata": {},
   "outputs": [
    {
     "name": "stdout",
     "output_type": "stream",
     "text": [
      "Bart is related to Lisa.\n"
     ]
    }
   ],
   "source": [
    "# F-string, embedding variables in text\n",
    "print(f'{kid1} is related to {kid2}.')"
   ]
  },
  {
   "cell_type": "markdown",
   "metadata": {
    "id": "KKK9G4lD4WMO"
   },
   "source": [
    "Can you edit the above so that Lisa appears first?"
   ]
  },
  {
   "cell_type": "code",
   "execution_count": 6,
   "metadata": {
    "colab": {
     "base_uri": "https://localhost:8080/"
    },
    "id": "LqmcePJw4OJB",
    "outputId": "9b05eb00-4543-4ed0-9f87-3cf05aba49b4"
   },
   "outputs": [
    {
     "name": "stdout",
     "output_type": "stream",
     "text": [
      "BartLisa\n"
     ]
    }
   ],
   "source": [
    "# Join two strings\n",
    "print(kid1+kid2)"
   ]
  },
  {
   "cell_type": "code",
   "execution_count": 9,
   "metadata": {},
   "outputs": [
    {
     "data": {
      "text/plain": [
       "'Ba'"
      ]
     },
     "execution_count": 9,
     "metadata": {},
     "output_type": "execute_result"
    }
   ],
   "source": [
    "kid1[0:2]"
   ]
  },
  {
   "cell_type": "markdown",
   "metadata": {
    "id": "MQqJSd-Q5esI"
   },
   "source": [
    "## Arithmetic operations\n",
    "You can do calculations directly in Python. Here's a list of [arithmetic operators](https://www.w3schools.com/python/gloss_python_arithmetic_operators.asp)."
   ]
  },
  {
   "cell_type": "code",
   "execution_count": 10,
   "metadata": {
    "colab": {
     "base_uri": "https://localhost:8080/"
    },
    "id": "wHUZbIGx5dTO",
    "outputId": "17039ba9-6064-4494-ff00-6dbfa8dd2c42"
   },
   "outputs": [
    {
     "data": {
      "text/plain": [
       "3"
      ]
     },
     "execution_count": 10,
     "metadata": {},
     "output_type": "execute_result"
    }
   ],
   "source": [
    "# Enter numbers to perform basic arithmetic\n",
    "2 + 1"
   ]
  },
  {
   "cell_type": "code",
   "execution_count": 11,
   "metadata": {
    "id": "onm__s3w5g6Y"
   },
   "outputs": [
    {
     "data": {
      "text/plain": [
       "10"
      ]
     },
     "execution_count": 11,
     "metadata": {},
     "output_type": "execute_result"
    }
   ],
   "source": [
    "# Or use variables\n",
    "var1 = 5\n",
    "var2 = 2\n",
    "var1 * var2"
   ]
  },
  {
   "cell_type": "markdown",
   "metadata": {},
   "source": [
    "## User input"
   ]
  },
  {
   "cell_type": "code",
   "execution_count": 15,
   "metadata": {},
   "outputs": [
    {
     "name": "stdout",
     "output_type": "stream",
     "text": [
      "Please enter a name: Athanasios\n"
     ]
    }
   ],
   "source": [
    "# User input variable\n",
    "var_in = input('Please enter a name: ')"
   ]
  },
  {
   "cell_type": "code",
   "execution_count": 16,
   "metadata": {},
   "outputs": [
    {
     "name": "stdout",
     "output_type": "stream",
     "text": [
      "The name is: Athanasios.\n"
     ]
    }
   ],
   "source": [
    "# Print what you entered\n",
    "print(f'The name is: {var_in}.')"
   ]
  },
  {
   "cell_type": "code",
   "execution_count": 19,
   "metadata": {},
   "outputs": [
    {
     "name": "stdout",
     "output_type": "stream",
     "text": [
      "The name is: athanasios.\n"
     ]
    }
   ],
   "source": [
    "# Print the name in uppercase or lowercase\n",
    "print(f'The name is: {var_in}.'.capitalize())"
   ]
  },
  {
   "cell_type": "markdown",
   "metadata": {},
   "source": [
    "Task: Edit the cell above to try all the available methods for changing case: lower(), upper(), capitalize(), title() and swapcase()"
   ]
  },
  {
   "cell_type": "markdown",
   "metadata": {
    "id": "maMDQgDH5hvY"
   },
   "source": [
    "## Read a file into Python"
   ]
  },
  {
   "cell_type": "code",
   "execution_count": 20,
   "metadata": {
    "id": "sUo_DpAh5mCG"
   },
   "outputs": [
    {
     "name": "stdout",
     "output_type": "stream",
     "text": [
      "This is a sample text file for loading and messing around with.\n"
     ]
    }
   ],
   "source": [
    "file = open(\"data\\sample_text.txt\")\n",
    "sample_txt = file.read()\n",
    "print(sample_txt)"
   ]
  },
  {
   "cell_type": "code",
   "execution_count": 21,
   "metadata": {},
   "outputs": [
    {
     "data": {
      "text/plain": [
       "'This'"
      ]
     },
     "execution_count": 21,
     "metadata": {},
     "output_type": "execute_result"
    }
   ],
   "source": [
    "# String slice\n",
    "sample_txt[0:4]"
   ]
  },
  {
   "cell_type": "code",
   "execution_count": 25,
   "metadata": {},
   "outputs": [
    {
     "data": {
      "text/plain": [
       "'with.'"
      ]
     },
     "execution_count": 25,
     "metadata": {},
     "output_type": "execute_result"
    }
   ],
   "source": [
    "sample_txt[-5:]"
   ]
  },
  {
   "cell_type": "code",
   "execution_count": null,
   "metadata": {},
   "outputs": [],
   "source": []
  }
 ],
 "metadata": {
  "colab": {
   "provenance": [],
   "toc_visible": true
  },
  "kernelspec": {
   "display_name": "Python 3",
   "language": "python",
   "name": "python3"
  },
  "language_info": {
   "codemirror_mode": {
    "name": "ipython",
    "version": 3
   },
   "file_extension": ".py",
   "mimetype": "text/x-python",
   "name": "python",
   "nbconvert_exporter": "python",
   "pygments_lexer": "ipython3",
   "version": "3.9.5"
  },
  "vscode": {
   "interpreter": {
    "hash": "c97e556b2123b92f5d28ca63fa8445826cb82f9f2ab925961a94fd4b4dde06e6"
   }
  }
 },
 "nbformat": 4,
 "nbformat_minor": 1
}
