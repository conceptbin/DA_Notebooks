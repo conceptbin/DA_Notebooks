{
  "cells": [
    {
      "cell_type": "markdown",
      "metadata": {
        "id": "view-in-github",
        "colab_type": "text"
      },
      "source": [
        "<a href=\"https://colab.research.google.com/github/conceptbin/DA_Notebooks/blob/master/Pivot_group_demo.ipynb\" target=\"_parent\"><img src=\"https://colab.research.google.com/assets/colab-badge.svg\" alt=\"Open In Colab\"/></a>"
      ]
    },
    {
      "cell_type": "markdown",
      "metadata": {
        "id": "w0b6PNJvIOBh"
      },
      "source": [
        "# Grouping in pandas"
      ]
    },
    {
      "cell_type": "code",
      "execution_count": 1,
      "metadata": {
        "id": "81SyVivjIOBk"
      },
      "outputs": [],
      "source": [
        "import pandas as pd"
      ]
    },
    {
      "cell_type": "markdown",
      "metadata": {
        "id": "TxDOOfwOIOBm"
      },
      "source": [
        "First, load the data."
      ]
    },
    {
      "cell_type": "code",
      "execution_count": 2,
      "metadata": {
        "id": "DcKAJFxHIOBm"
      },
      "outputs": [],
      "source": [
        "# File path\n",
        "file = r'https://github.com/conceptbin/DA_Notebooks/raw/master/pandas-intro/data/2023-08-metropolitan-street.csv'\n",
        "# Create dataframe (df)\n",
        "df = pd.read_csv(file)"
      ]
    },
    {
      "cell_type": "markdown",
      "metadata": {
        "id": "RWODlUa1IOBm"
      },
      "source": [
        "Create a Local_Authority column from LSOA_name."
      ]
    },
    {
      "cell_type": "code",
      "execution_count": 3,
      "metadata": {
        "id": "Uo9Me5ylIOBn"
      },
      "outputs": [],
      "source": [
        "#Create a new column:\n",
        "df['Local_Authority'] = df['LSOA name'].str.slice(0, -5)"
      ]
    },
    {
      "cell_type": "markdown",
      "metadata": {
        "id": "GsRf38egIOBn"
      },
      "source": [
        "# Group and aggregate\n",
        "Functions: `groupby()`. Group by Local Authority, count total number of crime reports for each."
      ]
    },
    {
      "cell_type": "code",
      "source": [
        "df.keys()"
      ],
      "metadata": {
        "colab": {
          "base_uri": "https://localhost:8080/"
        },
        "id": "7lRTGYmpR38H",
        "outputId": "6269fa8b-3999-48f2-d1bc-da40cbb696ea"
      },
      "execution_count": 4,
      "outputs": [
        {
          "output_type": "execute_result",
          "data": {
            "text/plain": [
              "Index(['Crime ID', 'Month', 'Reported by', 'Falls within', 'Longitude',\n",
              "       'Latitude', 'Location', 'LSOA code', 'LSOA name', 'Crime type',\n",
              "       'Last outcome category', 'Context', 'Local_Authority'],\n",
              "      dtype='object')"
            ]
          },
          "metadata": {},
          "execution_count": 4
        }
      ]
    },
    {
      "cell_type": "code",
      "source": [
        "df_grouped = df.groupby(['Local_Authority'])['Crime type'].agg('count')"
      ],
      "metadata": {
        "id": "fyxUFe_0JIzK"
      },
      "execution_count": 6,
      "outputs": []
    },
    {
      "cell_type": "code",
      "source": [
        "df_grouped"
      ],
      "metadata": {
        "colab": {
          "base_uri": "https://localhost:8080/"
        },
        "id": "WmuOVPd1JIwC",
        "outputId": "8578e032-5a53-4998-c360-c1bbd009270f"
      },
      "execution_count": 7,
      "outputs": [
        {
          "output_type": "execute_result",
          "data": {
            "text/plain": [
              "Local_Authority\n",
              "Arun                       4\n",
              "Ashford                    2\n",
              "Barking and Dagenham    2138\n",
              "Barnet                  2851\n",
              "Basildon                   5\n",
              "                        ... \n",
              "Woking                     1\n",
              "Wokingham                  3\n",
              "Worthing                   2\n",
              "Wrexham                    1\n",
              "Wychavon                   2\n",
              "Name: Crime type, Length: 169, dtype: int64"
            ]
          },
          "metadata": {},
          "execution_count": 7
        }
      ]
    },
    {
      "cell_type": "code",
      "source": [],
      "metadata": {
        "id": "4bOqh8sfJItc"
      },
      "execution_count": null,
      "outputs": []
    },
    {
      "cell_type": "markdown",
      "source": [
        "# Mess below"
      ],
      "metadata": {
        "id": "ilMv2IIfSiDc"
      }
    },
    {
      "cell_type": "markdown",
      "metadata": {
        "id": "ErPWXl6yIOBn"
      },
      "source": [
        "## crosstab()\n",
        "A basic crosstab of crime types broken down by borough."
      ]
    },
    {
      "cell_type": "code",
      "execution_count": null,
      "metadata": {
        "id": "HS7tDehvIOBo",
        "outputId": "bb0bdc8e-994e-4d38-a923-0c3d3e7db796"
      },
      "outputs": [
        {
          "data": {
            "text/plain": [
              "Index(['Crime ID', 'Month', 'Reported by', 'Falls within', 'Longitude',\n",
              "       'Latitude', 'Location', 'LSOA code', 'LSOA name', 'Crime type',\n",
              "       'Last outcome category', 'Context', 'Local_Authority'],\n",
              "      dtype='object')"
            ]
          },
          "execution_count": 4,
          "metadata": {},
          "output_type": "execute_result"
        }
      ],
      "source": [
        "df.keys()"
      ]
    },
    {
      "cell_type": "code",
      "execution_count": null,
      "metadata": {
        "id": "XRvCyYH0IOBp"
      },
      "outputs": [],
      "source": [
        "# Count of incidents by borough and crime type:\n",
        "df_cross = pd.crosstab(df['Local_Authority'], df['Crime type'])"
      ]
    },
    {
      "cell_type": "code",
      "execution_count": null,
      "metadata": {
        "id": "zQJLH6CNIOBp",
        "outputId": "8c1726a4-d20d-43c1-c037-47aa37c5e923"
      },
      "outputs": [
        {
          "data": {
            "text/html": [
              "<div>\n",
              "<style scoped>\n",
              "    .dataframe tbody tr th:only-of-type {\n",
              "        vertical-align: middle;\n",
              "    }\n",
              "\n",
              "    .dataframe tbody tr th {\n",
              "        vertical-align: top;\n",
              "    }\n",
              "\n",
              "    .dataframe thead th {\n",
              "        text-align: right;\n",
              "    }\n",
              "</style>\n",
              "<table border=\"1\" class=\"dataframe\">\n",
              "  <thead>\n",
              "    <tr style=\"text-align: right;\">\n",
              "      <th>Crime type</th>\n",
              "      <th>Anti-social behaviour</th>\n",
              "      <th>Bicycle theft</th>\n",
              "      <th>Burglary</th>\n",
              "      <th>Criminal damage and arson</th>\n",
              "      <th>Drugs</th>\n",
              "      <th>Other crime</th>\n",
              "      <th>Other theft</th>\n",
              "      <th>Possession of weapons</th>\n",
              "      <th>Public order</th>\n",
              "      <th>Robbery</th>\n",
              "      <th>Shoplifting</th>\n",
              "      <th>Theft from the person</th>\n",
              "      <th>Vehicle crime</th>\n",
              "      <th>Violence and sexual offences</th>\n",
              "    </tr>\n",
              "    <tr>\n",
              "      <th>Local_Authority</th>\n",
              "      <th></th>\n",
              "      <th></th>\n",
              "      <th></th>\n",
              "      <th></th>\n",
              "      <th></th>\n",
              "      <th></th>\n",
              "      <th></th>\n",
              "      <th></th>\n",
              "      <th></th>\n",
              "      <th></th>\n",
              "      <th></th>\n",
              "      <th></th>\n",
              "      <th></th>\n",
              "      <th></th>\n",
              "    </tr>\n",
              "  </thead>\n",
              "  <tbody>\n",
              "    <tr>\n",
              "      <th>Arun</th>\n",
              "      <td>0</td>\n",
              "      <td>0</td>\n",
              "      <td>0</td>\n",
              "      <td>0</td>\n",
              "      <td>0</td>\n",
              "      <td>0</td>\n",
              "      <td>0</td>\n",
              "      <td>0</td>\n",
              "      <td>0</td>\n",
              "      <td>0</td>\n",
              "      <td>0</td>\n",
              "      <td>0</td>\n",
              "      <td>0</td>\n",
              "      <td>4</td>\n",
              "    </tr>\n",
              "    <tr>\n",
              "      <th>Ashford</th>\n",
              "      <td>0</td>\n",
              "      <td>0</td>\n",
              "      <td>0</td>\n",
              "      <td>0</td>\n",
              "      <td>0</td>\n",
              "      <td>0</td>\n",
              "      <td>0</td>\n",
              "      <td>0</td>\n",
              "      <td>0</td>\n",
              "      <td>0</td>\n",
              "      <td>0</td>\n",
              "      <td>0</td>\n",
              "      <td>0</td>\n",
              "      <td>2</td>\n",
              "    </tr>\n",
              "    <tr>\n",
              "      <th>Barking and Dagenham</th>\n",
              "      <td>416</td>\n",
              "      <td>15</td>\n",
              "      <td>105</td>\n",
              "      <td>117</td>\n",
              "      <td>89</td>\n",
              "      <td>14</td>\n",
              "      <td>173</td>\n",
              "      <td>14</td>\n",
              "      <td>125</td>\n",
              "      <td>77</td>\n",
              "      <td>124</td>\n",
              "      <td>34</td>\n",
              "      <td>204</td>\n",
              "      <td>631</td>\n",
              "    </tr>\n",
              "    <tr>\n",
              "      <th>Barnet</th>\n",
              "      <td>668</td>\n",
              "      <td>18</td>\n",
              "      <td>181</td>\n",
              "      <td>163</td>\n",
              "      <td>88</td>\n",
              "      <td>32</td>\n",
              "      <td>266</td>\n",
              "      <td>12</td>\n",
              "      <td>128</td>\n",
              "      <td>57</td>\n",
              "      <td>161</td>\n",
              "      <td>56</td>\n",
              "      <td>338</td>\n",
              "      <td>683</td>\n",
              "    </tr>\n",
              "    <tr>\n",
              "      <th>Basildon</th>\n",
              "      <td>0</td>\n",
              "      <td>0</td>\n",
              "      <td>0</td>\n",
              "      <td>0</td>\n",
              "      <td>0</td>\n",
              "      <td>0</td>\n",
              "      <td>0</td>\n",
              "      <td>0</td>\n",
              "      <td>0</td>\n",
              "      <td>0</td>\n",
              "      <td>0</td>\n",
              "      <td>0</td>\n",
              "      <td>1</td>\n",
              "      <td>4</td>\n",
              "    </tr>\n",
              "    <tr>\n",
              "      <th>...</th>\n",
              "      <td>...</td>\n",
              "      <td>...</td>\n",
              "      <td>...</td>\n",
              "      <td>...</td>\n",
              "      <td>...</td>\n",
              "      <td>...</td>\n",
              "      <td>...</td>\n",
              "      <td>...</td>\n",
              "      <td>...</td>\n",
              "      <td>...</td>\n",
              "      <td>...</td>\n",
              "      <td>...</td>\n",
              "      <td>...</td>\n",
              "      <td>...</td>\n",
              "    </tr>\n",
              "    <tr>\n",
              "      <th>Woking</th>\n",
              "      <td>0</td>\n",
              "      <td>0</td>\n",
              "      <td>0</td>\n",
              "      <td>0</td>\n",
              "      <td>0</td>\n",
              "      <td>1</td>\n",
              "      <td>0</td>\n",
              "      <td>0</td>\n",
              "      <td>0</td>\n",
              "      <td>0</td>\n",
              "      <td>0</td>\n",
              "      <td>0</td>\n",
              "      <td>0</td>\n",
              "      <td>0</td>\n",
              "    </tr>\n",
              "    <tr>\n",
              "      <th>Wokingham</th>\n",
              "      <td>0</td>\n",
              "      <td>0</td>\n",
              "      <td>0</td>\n",
              "      <td>0</td>\n",
              "      <td>0</td>\n",
              "      <td>0</td>\n",
              "      <td>1</td>\n",
              "      <td>0</td>\n",
              "      <td>0</td>\n",
              "      <td>0</td>\n",
              "      <td>0</td>\n",
              "      <td>0</td>\n",
              "      <td>0</td>\n",
              "      <td>2</td>\n",
              "    </tr>\n",
              "    <tr>\n",
              "      <th>Worthing</th>\n",
              "      <td>0</td>\n",
              "      <td>0</td>\n",
              "      <td>0</td>\n",
              "      <td>0</td>\n",
              "      <td>0</td>\n",
              "      <td>1</td>\n",
              "      <td>0</td>\n",
              "      <td>0</td>\n",
              "      <td>0</td>\n",
              "      <td>0</td>\n",
              "      <td>0</td>\n",
              "      <td>0</td>\n",
              "      <td>0</td>\n",
              "      <td>1</td>\n",
              "    </tr>\n",
              "    <tr>\n",
              "      <th>Wrexham</th>\n",
              "      <td>0</td>\n",
              "      <td>0</td>\n",
              "      <td>0</td>\n",
              "      <td>0</td>\n",
              "      <td>0</td>\n",
              "      <td>0</td>\n",
              "      <td>0</td>\n",
              "      <td>0</td>\n",
              "      <td>0</td>\n",
              "      <td>0</td>\n",
              "      <td>0</td>\n",
              "      <td>0</td>\n",
              "      <td>0</td>\n",
              "      <td>1</td>\n",
              "    </tr>\n",
              "    <tr>\n",
              "      <th>Wychavon</th>\n",
              "      <td>0</td>\n",
              "      <td>0</td>\n",
              "      <td>0</td>\n",
              "      <td>0</td>\n",
              "      <td>0</td>\n",
              "      <td>0</td>\n",
              "      <td>0</td>\n",
              "      <td>0</td>\n",
              "      <td>0</td>\n",
              "      <td>0</td>\n",
              "      <td>0</td>\n",
              "      <td>0</td>\n",
              "      <td>0</td>\n",
              "      <td>2</td>\n",
              "    </tr>\n",
              "  </tbody>\n",
              "</table>\n",
              "<p>169 rows × 14 columns</p>\n",
              "</div>"
            ],
            "text/plain": [
              "Crime type            Anti-social behaviour  Bicycle theft  Burglary  \\\n",
              "Local_Authority                                                        \n",
              "Arun                                      0              0         0   \n",
              "Ashford                                   0              0         0   \n",
              "Barking and Dagenham                    416             15       105   \n",
              "Barnet                                  668             18       181   \n",
              "Basildon                                  0              0         0   \n",
              "...                                     ...            ...       ...   \n",
              "Woking                                    0              0         0   \n",
              "Wokingham                                 0              0         0   \n",
              "Worthing                                  0              0         0   \n",
              "Wrexham                                   0              0         0   \n",
              "Wychavon                                  0              0         0   \n",
              "\n",
              "Crime type            Criminal damage and arson  Drugs  Other crime  \\\n",
              "Local_Authority                                                       \n",
              "Arun                                          0      0            0   \n",
              "Ashford                                       0      0            0   \n",
              "Barking and Dagenham                        117     89           14   \n",
              "Barnet                                      163     88           32   \n",
              "Basildon                                      0      0            0   \n",
              "...                                         ...    ...          ...   \n",
              "Woking                                        0      0            1   \n",
              "Wokingham                                     0      0            0   \n",
              "Worthing                                      0      0            1   \n",
              "Wrexham                                       0      0            0   \n",
              "Wychavon                                      0      0            0   \n",
              "\n",
              "Crime type            Other theft  Possession of weapons  Public order  \\\n",
              "Local_Authority                                                          \n",
              "Arun                            0                      0             0   \n",
              "Ashford                         0                      0             0   \n",
              "Barking and Dagenham          173                     14           125   \n",
              "Barnet                        266                     12           128   \n",
              "Basildon                        0                      0             0   \n",
              "...                           ...                    ...           ...   \n",
              "Woking                          0                      0             0   \n",
              "Wokingham                       1                      0             0   \n",
              "Worthing                        0                      0             0   \n",
              "Wrexham                         0                      0             0   \n",
              "Wychavon                        0                      0             0   \n",
              "\n",
              "Crime type            Robbery  Shoplifting  Theft from the person  \\\n",
              "Local_Authority                                                     \n",
              "Arun                        0            0                      0   \n",
              "Ashford                     0            0                      0   \n",
              "Barking and Dagenham       77          124                     34   \n",
              "Barnet                     57          161                     56   \n",
              "Basildon                    0            0                      0   \n",
              "...                       ...          ...                    ...   \n",
              "Woking                      0            0                      0   \n",
              "Wokingham                   0            0                      0   \n",
              "Worthing                    0            0                      0   \n",
              "Wrexham                     0            0                      0   \n",
              "Wychavon                    0            0                      0   \n",
              "\n",
              "Crime type            Vehicle crime  Violence and sexual offences  \n",
              "Local_Authority                                                    \n",
              "Arun                              0                             4  \n",
              "Ashford                           0                             2  \n",
              "Barking and Dagenham            204                           631  \n",
              "Barnet                          338                           683  \n",
              "Basildon                          1                             4  \n",
              "...                             ...                           ...  \n",
              "Woking                            0                             0  \n",
              "Wokingham                         0                             2  \n",
              "Worthing                          0                             1  \n",
              "Wrexham                           0                             1  \n",
              "Wychavon                          0                             2  \n",
              "\n",
              "[169 rows x 14 columns]"
            ]
          },
          "execution_count": 6,
          "metadata": {},
          "output_type": "execute_result"
        }
      ],
      "source": [
        "df_cross"
      ]
    },
    {
      "cell_type": "markdown",
      "metadata": {
        "id": "6WbNU1hGIOBp"
      },
      "source": [
        "## Working with the crosstab dataframe\n",
        "If we reset the index, we can filter and sort the crosstabbed dataframe:"
      ]
    },
    {
      "cell_type": "code",
      "execution_count": null,
      "metadata": {
        "id": "2WrKOX58IOBq"
      },
      "outputs": [],
      "source": [
        "df_cross.reset_index(inplace=True)"
      ]
    },
    {
      "cell_type": "markdown",
      "metadata": {
        "id": "GQ8LvqIxIOBq"
      },
      "source": [
        "Here we select a few boroughs to compare, using a list of keywords. By using the \"or\" separator | we specify which keywords to include."
      ]
    },
    {
      "cell_type": "code",
      "execution_count": null,
      "metadata": {
        "id": "HjkLp4ZYIOBq"
      },
      "outputs": [],
      "source": [
        "la_keywords = 'Wandsworth|Hammersmith|Lambeth|Richmond'\n",
        "df_cross = df_cross[df_cross['Local_Authority'].str.contains(la_keywords)]"
      ]
    },
    {
      "cell_type": "code",
      "execution_count": null,
      "metadata": {
        "id": "H3LN5VNPIOBq",
        "outputId": "04961531-4265-4d4e-90bb-039590d51e1d"
      },
      "outputs": [
        {
          "data": {
            "text/html": [
              "<div>\n",
              "<style scoped>\n",
              "    .dataframe tbody tr th:only-of-type {\n",
              "        vertical-align: middle;\n",
              "    }\n",
              "\n",
              "    .dataframe tbody tr th {\n",
              "        vertical-align: top;\n",
              "    }\n",
              "\n",
              "    .dataframe thead th {\n",
              "        text-align: right;\n",
              "    }\n",
              "</style>\n",
              "<table border=\"1\" class=\"dataframe\">\n",
              "  <thead>\n",
              "    <tr style=\"text-align: right;\">\n",
              "      <th>Crime type</th>\n",
              "      <th>Local_Authority</th>\n",
              "      <th>Anti-social behaviour</th>\n",
              "      <th>Bicycle theft</th>\n",
              "      <th>Burglary</th>\n",
              "      <th>Criminal damage and arson</th>\n",
              "      <th>Drugs</th>\n",
              "      <th>Other crime</th>\n",
              "      <th>Other theft</th>\n",
              "      <th>Possession of weapons</th>\n",
              "      <th>Public order</th>\n",
              "      <th>Robbery</th>\n",
              "      <th>Shoplifting</th>\n",
              "      <th>Theft from the person</th>\n",
              "      <th>Vehicle crime</th>\n",
              "      <th>Violence and sexual offences</th>\n",
              "    </tr>\n",
              "  </thead>\n",
              "  <tbody>\n",
              "    <tr>\n",
              "      <th>60</th>\n",
              "      <td>Hammersmith and Fulham</td>\n",
              "      <td>468</td>\n",
              "      <td>89</td>\n",
              "      <td>128</td>\n",
              "      <td>111</td>\n",
              "      <td>105</td>\n",
              "      <td>15</td>\n",
              "      <td>243</td>\n",
              "      <td>4</td>\n",
              "      <td>129</td>\n",
              "      <td>39</td>\n",
              "      <td>137</td>\n",
              "      <td>61</td>\n",
              "      <td>225</td>\n",
              "      <td>493</td>\n",
              "    </tr>\n",
              "    <tr>\n",
              "      <th>78</th>\n",
              "      <td>Lambeth</td>\n",
              "      <td>782</td>\n",
              "      <td>76</td>\n",
              "      <td>195</td>\n",
              "      <td>181</td>\n",
              "      <td>118</td>\n",
              "      <td>34</td>\n",
              "      <td>459</td>\n",
              "      <td>21</td>\n",
              "      <td>210</td>\n",
              "      <td>158</td>\n",
              "      <td>181</td>\n",
              "      <td>226</td>\n",
              "      <td>254</td>\n",
              "      <td>844</td>\n",
              "    </tr>\n",
              "    <tr>\n",
              "      <th>111</th>\n",
              "      <td>Richmond upon Thames</td>\n",
              "      <td>264</td>\n",
              "      <td>77</td>\n",
              "      <td>89</td>\n",
              "      <td>96</td>\n",
              "      <td>23</td>\n",
              "      <td>12</td>\n",
              "      <td>110</td>\n",
              "      <td>4</td>\n",
              "      <td>74</td>\n",
              "      <td>12</td>\n",
              "      <td>102</td>\n",
              "      <td>25</td>\n",
              "      <td>194</td>\n",
              "      <td>247</td>\n",
              "    </tr>\n",
              "    <tr>\n",
              "      <th>151</th>\n",
              "      <td>Wandsworth</td>\n",
              "      <td>640</td>\n",
              "      <td>79</td>\n",
              "      <td>187</td>\n",
              "      <td>182</td>\n",
              "      <td>60</td>\n",
              "      <td>24</td>\n",
              "      <td>282</td>\n",
              "      <td>11</td>\n",
              "      <td>128</td>\n",
              "      <td>53</td>\n",
              "      <td>167</td>\n",
              "      <td>77</td>\n",
              "      <td>292</td>\n",
              "      <td>608</td>\n",
              "    </tr>\n",
              "  </tbody>\n",
              "</table>\n",
              "</div>"
            ],
            "text/plain": [
              "Crime type         Local_Authority  Anti-social behaviour  Bicycle theft  \\\n",
              "60          Hammersmith and Fulham                    468             89   \n",
              "78                         Lambeth                    782             76   \n",
              "111           Richmond upon Thames                    264             77   \n",
              "151                     Wandsworth                    640             79   \n",
              "\n",
              "Crime type  Burglary  Criminal damage and arson  Drugs  Other crime  \\\n",
              "60               128                        111    105           15   \n",
              "78               195                        181    118           34   \n",
              "111               89                         96     23           12   \n",
              "151              187                        182     60           24   \n",
              "\n",
              "Crime type  Other theft  Possession of weapons  Public order  Robbery  \\\n",
              "60                  243                      4           129       39   \n",
              "78                  459                     21           210      158   \n",
              "111                 110                      4            74       12   \n",
              "151                 282                     11           128       53   \n",
              "\n",
              "Crime type  Shoplifting  Theft from the person  Vehicle crime  \\\n",
              "60                  137                     61            225   \n",
              "78                  181                    226            254   \n",
              "111                 102                     25            194   \n",
              "151                 167                     77            292   \n",
              "\n",
              "Crime type  Violence and sexual offences  \n",
              "60                                   493  \n",
              "78                                   844  \n",
              "111                                  247  \n",
              "151                                  608  "
            ]
          },
          "execution_count": 10,
          "metadata": {},
          "output_type": "execute_result"
        }
      ],
      "source": [
        "df_cross"
      ]
    },
    {
      "cell_type": "code",
      "execution_count": null,
      "metadata": {
        "id": "4f6N7EToIOBr"
      },
      "outputs": [],
      "source": []
    }
  ],
  "metadata": {
    "kernelspec": {
      "display_name": "py310",
      "language": "python",
      "name": "python3"
    },
    "language_info": {
      "codemirror_mode": {
        "name": "ipython",
        "version": 3
      },
      "file_extension": ".py",
      "mimetype": "text/x-python",
      "name": "python",
      "nbconvert_exporter": "python",
      "pygments_lexer": "ipython3",
      "version": "3.10.4"
    },
    "colab": {
      "provenance": [],
      "include_colab_link": true
    }
  },
  "nbformat": 4,
  "nbformat_minor": 0
}