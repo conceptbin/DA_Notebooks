{
  "cells": [
    {
      "cell_type": "markdown",
      "metadata": {
        "id": "aSgjAeSIrjy1"
      },
      "source": [
        "# Exploring, filtering, grouping and viewing data in pandas (Python)\n",
        "Demonstration notebook, using UK Police data on street-level crime in the London Metropolitan region, from https://data.police.uk/\n"
      ]
    },
    {
      "cell_type": "code",
      "execution_count": null,
      "metadata": {
        "id": "ik10e7DErb9z"
      },
      "outputs": [],
      "source": [
        "import pandas as pd\n",
        "import geopandas as gpd"
      ]
    },
    {
      "cell_type": "markdown",
      "metadata": {
        "id": "6j3aCr3JxWaB"
      },
      "source": [
        "# Read and inspect data\n",
        "You can read in data in a variety of formats, from Excel, CSV, JSON, SQL, and more. The sample data here is Metropolitan Police cases recorded for Feb 2022, in CSV format."
      ]
    },
    {
      "cell_type": "code",
      "execution_count": null,
      "metadata": {
        "id": "fhfnFG98rzV8"
      },
      "outputs": [],
      "source": [
        "# File URL\n",
        "file = 'data/2022-09-metropolitan-street.csv'\n",
        "# Create dataframe (df)\n",
        "df = pd.read_csv(file)"
      ]
    },
    {
      "cell_type": "code",
      "execution_count": null,
      "metadata": {},
      "outputs": [],
      "source": [
        "df.info()"
      ]
    },
    {
      "cell_type": "markdown",
      "metadata": {
        "id": "Ky4vgUY9Gyt-"
      },
      "source": [
        "# Selecting and filtering data"
      ]
    },
    {
      "cell_type": "markdown",
      "metadata": {
        "id": "1bDFjquXUBny"
      },
      "source": [
        "Create a new column with the Borough name, so that we can select rows by borough. This slices the name of the borough from the Lower Super Output Area (LSOA) column."
      ]
    },
    {
      "cell_type": "code",
      "execution_count": null,
      "metadata": {
        "id": "_OOZW_Ej9Gw7"
      },
      "outputs": [],
      "source": [
        "#Create a Borough-column by slicing the number (last 5 characters) off the end of the LSOA name:\n",
        "df['Borough'] = df['LSOA name'].str.slice(0, -5)"
      ]
    },
    {
      "cell_type": "markdown",
      "metadata": {
        "id": "zdBhRo-DCPPc"
      },
      "source": [
        "Now that we know that the dataset includes incidents that took place outside of London, let's create a **filter** to select only the London Boroughs in the dataset."
      ]
    },
    {
      "cell_type": "markdown",
      "metadata": {
        "id": "21LADbQbG-I6"
      },
      "source": [
        "### Select with isin()\n",
        "Select rows using a list of values to include."
      ]
    },
    {
      "cell_type": "code",
      "execution_count": null,
      "metadata": {
        "id": "6tpzkqdnCeaJ"
      },
      "outputs": [],
      "source": [
        "#List of London Boroughs, plus City of London\n",
        "LB_list = ['Barking and Dagenham', 'Barnet', 'Bexley', 'Brent', 'Bromley','Camden', 'City of London', 'Croydon', 'Ealing', 'Enfield', 'Greenwich', 'Hackney', 'Hammersmith and Fulham', 'Haringey',\n",
        "       'Harrow', 'Havering', 'Hillingdon', 'Hounslow', 'Islington', 'Kensington and Chelsea', 'Kingston upon Thames', 'Lambeth',\n",
        "       'Lewisham','Merton', 'Newham', 'Redbridge', 'Richmond upon Thames', 'Southwark', 'Sutton',\n",
        "       'Tower Hamlets', 'Waltham Forest', 'Wandsworth', 'Westminster']\n",
        "# Filter the dataframe to include only names in the list:\n",
        "df = df[df['Borough'].isin(LB_list)]"
      ]
    },
    {
      "cell_type": "code",
      "execution_count": null,
      "metadata": {},
      "outputs": [],
      "source": [
        "# Filter by Borough\n",
        "#df = df[df['Borough'] == 'Westminster']"
      ]
    },
    {
      "cell_type": "code",
      "execution_count": null,
      "metadata": {},
      "outputs": [],
      "source": [
        "df['Crime type'].unique()"
      ]
    },
    {
      "cell_type": "code",
      "execution_count": null,
      "metadata": {},
      "outputs": [],
      "source": [
        "# Filter by crime type\n",
        "df = df[df['Crime type'].str.contains('robbery|violence|theft', case=False)]"
      ]
    },
    {
      "cell_type": "markdown",
      "metadata": {
        "id": "Ett1BVrJ-8YP"
      },
      "source": [
        "# Map with geopandas"
      ]
    },
    {
      "cell_type": "code",
      "execution_count": null,
      "metadata": {
        "id": "1hVRQvTP_sFL"
      },
      "outputs": [],
      "source": [
        "# Drop rows with no location data\n",
        "df.dropna(subset=['Longitude'], inplace=True)"
      ]
    },
    {
      "cell_type": "code",
      "execution_count": null,
      "metadata": {},
      "outputs": [],
      "source": [
        "df.shape"
      ]
    },
    {
      "cell_type": "code",
      "execution_count": null,
      "metadata": {
        "id": "VdDesxbg-5Yr"
      },
      "outputs": [],
      "source": [
        "# Convert df into a geodataframe\n",
        "gdf = gpd.GeoDataFrame(df, geometry=gpd.points_from_xy(df['Longitude'], df['Latitude']))"
      ]
    },
    {
      "cell_type": "code",
      "execution_count": null,
      "metadata": {
        "id": "B0XHdfa9_jQP"
      },
      "outputs": [],
      "source": [
        "# Set projection\n",
        "gdf = gdf.set_crs(epsg=4326)"
      ]
    },
    {
      "cell_type": "code",
      "execution_count": null,
      "metadata": {},
      "outputs": [],
      "source": [
        "gdf.keys()"
      ]
    },
    {
      "cell_type": "code",
      "execution_count": null,
      "metadata": {},
      "outputs": [],
      "source": [
        "gdf.explore(tiles=\"CartoDB positron\")"
      ]
    },
    {
      "cell_type": "code",
      "execution_count": null,
      "metadata": {
        "colab": {
          "base_uri": "https://localhost:8080/",
          "height": 358
        },
        "id": "_abKynLjAjfG",
        "outputId": "ea7d47ab-edae-49ee-fbe1-c6dffc679cc0"
      },
      "outputs": [],
      "source": [
        "#gdf.explore('Crime type', cmap='tab20', tiles=\"CartoDB positron\")"
      ]
    }
  ],
  "metadata": {
    "colab": {
      "collapsed_sections": [],
      "name": "Police Data bonus geo.ipynb",
      "provenance": []
    },
    "interpreter": {
      "hash": "bb7e28c91e03929dce0cc87071638f3542d33abb15c82bf85f58e7b91f5666fe"
    },
    "kernelspec": {
      "display_name": "Python 3.10.0 ('py310')",
      "language": "python",
      "name": "python3"
    },
    "language_info": {
      "codemirror_mode": {
        "name": "ipython",
        "version": 3
      },
      "file_extension": ".py",
      "mimetype": "text/x-python",
      "name": "python",
      "nbconvert_exporter": "python",
      "pygments_lexer": "ipython3",
      "version": "3.10.4"
    }
  },
  "nbformat": 4,
  "nbformat_minor": 0
}
