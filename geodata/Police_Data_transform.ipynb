{
 "cells": [
  {
   "cell_type": "markdown",
   "metadata": {
    "id": "aSgjAeSIrjy1"
   },
   "source": [
    "# Exploring, filtering, grouping and viewing data in [pandas](https://pandas.pydata.org/)\n",
    "Demonstration notebook, using UK Police data on street-level crime in the London Metropolitan region, from https://data.police.uk/\n"
   ]
  },
  {
   "cell_type": "code",
   "execution_count": 1,
   "metadata": {
    "id": "ik10e7DErb9z"
   },
   "outputs": [],
   "source": [
    "import pandas as pd\n",
    "import seaborn as sns\n",
    "#Set max row and max column for display in Jupyter Notebook\n",
    "pd.set_option('display.max_row', 150)\n",
    "pd.set_option('display.max_columns', 20)"
   ]
  },
  {
   "cell_type": "code",
   "execution_count": 2,
   "metadata": {
    "id": "nKdI4OshGebs"
   },
   "outputs": [],
   "source": [
    "# Set Seaborn styling parameters for plots\n",
    "sns.set(rc={'figure.figsize':(15,10)}) # Set figure size for all plots\n",
    "sns.set_context(\"notebook\") # Set how plots are displayed"
   ]
  },
  {
   "cell_type": "markdown",
   "metadata": {
    "id": "6j3aCr3JxWaB"
   },
   "source": [
    "# Read and inspect data\n",
    "The sample data here is Metropolitan Police cases recorded for Feb 2022, in CSV format. We use `read_csv()` to load the file."
   ]
  },
  {
   "cell_type": "code",
   "execution_count": 3,
   "metadata": {
    "id": "fhfnFG98rzV8"
   },
   "outputs": [],
   "source": [
    "# File path\n",
    "file = r'data\\2022-09-metropolitan-street.csv'\n",
    "# Create dataframe (df)\n",
    "df = pd.read_csv(file)"
   ]
  },
  {
   "cell_type": "markdown",
   "metadata": {
    "id": "Z-rl9Fdl7vWl"
   },
   "source": [
    "## Dimensions of the dataframe"
   ]
  },
  {
   "cell_type": "code",
   "execution_count": 4,
   "metadata": {
    "colab": {
     "base_uri": "https://localhost:8080/"
    },
    "id": "f826k4xArzRi",
    "outputId": "c7e2c763-8883-489b-c501-7e8ec4c4f1af"
   },
   "outputs": [
    {
     "data": {
      "text/plain": [
       "(85828, 12)"
      ]
     },
     "execution_count": 4,
     "metadata": {},
     "output_type": "execute_result"
    }
   ],
   "source": [
    "# Size of the dataframe (count of rows and columns):\n",
    "df.shape"
   ]
  },
  {
   "cell_type": "code",
   "execution_count": 5,
   "metadata": {
    "colab": {
     "base_uri": "https://localhost:8080/"
    },
    "id": "o2QeqBxAoOTE",
    "outputId": "c9e3ff9f-aa06-48c2-d950-80edbacfa535"
   },
   "outputs": [
    {
     "name": "stdout",
     "output_type": "stream",
     "text": [
      "<class 'pandas.core.frame.DataFrame'>\n",
      "RangeIndex: 85828 entries, 0 to 85827\n",
      "Data columns (total 12 columns):\n",
      " #   Column                 Non-Null Count  Dtype  \n",
      "---  ------                 --------------  -----  \n",
      " 0   Crime ID               68416 non-null  object \n",
      " 1   Month                  85828 non-null  object \n",
      " 2   Reported by            85828 non-null  object \n",
      " 3   Falls within           85828 non-null  object \n",
      " 4   Longitude              83712 non-null  float64\n",
      " 5   Latitude               83712 non-null  float64\n",
      " 6   Location               85828 non-null  object \n",
      " 7   LSOA code              83712 non-null  object \n",
      " 8   LSOA name              83712 non-null  object \n",
      " 9   Crime type             85828 non-null  object \n",
      " 10  Last outcome category  68416 non-null  object \n",
      " 11  Context                0 non-null      float64\n",
      "dtypes: float64(3), object(9)\n",
      "memory usage: 7.9+ MB\n"
     ]
    }
   ],
   "source": [
    "df.info()"
   ]
  },
  {
   "cell_type": "code",
   "execution_count": 35,
   "metadata": {},
   "outputs": [
    {
     "data": {
      "text/html": [
       "<div>\n",
       "<style scoped>\n",
       "    .dataframe tbody tr th:only-of-type {\n",
       "        vertical-align: middle;\n",
       "    }\n",
       "\n",
       "    .dataframe tbody tr th {\n",
       "        vertical-align: top;\n",
       "    }\n",
       "\n",
       "    .dataframe thead th {\n",
       "        text-align: right;\n",
       "    }\n",
       "</style>\n",
       "<table border=\"1\" class=\"dataframe\">\n",
       "  <thead>\n",
       "    <tr style=\"text-align: right;\">\n",
       "      <th></th>\n",
       "      <th>Crime ID</th>\n",
       "      <th>Month</th>\n",
       "      <th>Reported by</th>\n",
       "      <th>Falls within</th>\n",
       "      <th>Longitude</th>\n",
       "      <th>Latitude</th>\n",
       "      <th>Location</th>\n",
       "      <th>LSOA code</th>\n",
       "      <th>LSOA name</th>\n",
       "      <th>Crime type</th>\n",
       "      <th>Last outcome category</th>\n",
       "      <th>Context</th>\n",
       "      <th>Borough</th>\n",
       "    </tr>\n",
       "  </thead>\n",
       "  <tbody>\n",
       "    <tr>\n",
       "      <th>8</th>\n",
       "      <td>NaN</td>\n",
       "      <td>2022-09</td>\n",
       "      <td>Metropolitan Police Service</td>\n",
       "      <td>Metropolitan Police Service</td>\n",
       "      <td>0.138830</td>\n",
       "      <td>51.583433</td>\n",
       "      <td>On or near Thatches Grove</td>\n",
       "      <td>E01000027</td>\n",
       "      <td>Barking and Dagenham 001A</td>\n",
       "      <td>Anti-social behaviour</td>\n",
       "      <td>NaN</td>\n",
       "      <td>NaN</td>\n",
       "      <td>Barking and Dagenham</td>\n",
       "    </tr>\n",
       "    <tr>\n",
       "      <th>9</th>\n",
       "      <td>NaN</td>\n",
       "      <td>2022-09</td>\n",
       "      <td>Metropolitan Police Service</td>\n",
       "      <td>Metropolitan Police Service</td>\n",
       "      <td>0.140576</td>\n",
       "      <td>51.583419</td>\n",
       "      <td>On or near Rams Grove</td>\n",
       "      <td>E01000027</td>\n",
       "      <td>Barking and Dagenham 001A</td>\n",
       "      <td>Anti-social behaviour</td>\n",
       "      <td>NaN</td>\n",
       "      <td>NaN</td>\n",
       "      <td>Barking and Dagenham</td>\n",
       "    </tr>\n",
       "    <tr>\n",
       "      <th>10</th>\n",
       "      <td>NaN</td>\n",
       "      <td>2022-09</td>\n",
       "      <td>Metropolitan Police Service</td>\n",
       "      <td>Metropolitan Police Service</td>\n",
       "      <td>0.140194</td>\n",
       "      <td>51.582356</td>\n",
       "      <td>On or near Hatch Grove</td>\n",
       "      <td>E01000027</td>\n",
       "      <td>Barking and Dagenham 001A</td>\n",
       "      <td>Anti-social behaviour</td>\n",
       "      <td>NaN</td>\n",
       "      <td>NaN</td>\n",
       "      <td>Barking and Dagenham</td>\n",
       "    </tr>\n",
       "    <tr>\n",
       "      <th>11</th>\n",
       "      <td>NaN</td>\n",
       "      <td>2022-09</td>\n",
       "      <td>Metropolitan Police Service</td>\n",
       "      <td>Metropolitan Police Service</td>\n",
       "      <td>0.135924</td>\n",
       "      <td>51.587353</td>\n",
       "      <td>On or near Gibbfield Close</td>\n",
       "      <td>E01000027</td>\n",
       "      <td>Barking and Dagenham 001A</td>\n",
       "      <td>Anti-social behaviour</td>\n",
       "      <td>NaN</td>\n",
       "      <td>NaN</td>\n",
       "      <td>Barking and Dagenham</td>\n",
       "    </tr>\n",
       "    <tr>\n",
       "      <th>12</th>\n",
       "      <td>0c7e2cca757761a4fc0a50df4f1044295aa117f358027c...</td>\n",
       "      <td>2022-09</td>\n",
       "      <td>Metropolitan Police Service</td>\n",
       "      <td>Metropolitan Police Service</td>\n",
       "      <td>0.140194</td>\n",
       "      <td>51.582356</td>\n",
       "      <td>On or near Hatch Grove</td>\n",
       "      <td>E01000027</td>\n",
       "      <td>Barking and Dagenham 001A</td>\n",
       "      <td>Criminal damage and arson</td>\n",
       "      <td>Investigation complete; no suspect identified</td>\n",
       "      <td>NaN</td>\n",
       "      <td>Barking and Dagenham</td>\n",
       "    </tr>\n",
       "  </tbody>\n",
       "</table>\n",
       "</div>"
      ],
      "text/plain": [
       "                                             Crime ID    Month  \\\n",
       "8                                                 NaN  2022-09   \n",
       "9                                                 NaN  2022-09   \n",
       "10                                                NaN  2022-09   \n",
       "11                                                NaN  2022-09   \n",
       "12  0c7e2cca757761a4fc0a50df4f1044295aa117f358027c...  2022-09   \n",
       "\n",
       "                    Reported by                 Falls within  Longitude  \\\n",
       "8   Metropolitan Police Service  Metropolitan Police Service   0.138830   \n",
       "9   Metropolitan Police Service  Metropolitan Police Service   0.140576   \n",
       "10  Metropolitan Police Service  Metropolitan Police Service   0.140194   \n",
       "11  Metropolitan Police Service  Metropolitan Police Service   0.135924   \n",
       "12  Metropolitan Police Service  Metropolitan Police Service   0.140194   \n",
       "\n",
       "     Latitude                    Location  LSOA code  \\\n",
       "8   51.583433   On or near Thatches Grove  E01000027   \n",
       "9   51.583419       On or near Rams Grove  E01000027   \n",
       "10  51.582356      On or near Hatch Grove  E01000027   \n",
       "11  51.587353  On or near Gibbfield Close  E01000027   \n",
       "12  51.582356      On or near Hatch Grove  E01000027   \n",
       "\n",
       "                    LSOA name                 Crime type  \\\n",
       "8   Barking and Dagenham 001A      Anti-social behaviour   \n",
       "9   Barking and Dagenham 001A      Anti-social behaviour   \n",
       "10  Barking and Dagenham 001A      Anti-social behaviour   \n",
       "11  Barking and Dagenham 001A      Anti-social behaviour   \n",
       "12  Barking and Dagenham 001A  Criminal damage and arson   \n",
       "\n",
       "                            Last outcome category  Context  \\\n",
       "8                                             NaN      NaN   \n",
       "9                                             NaN      NaN   \n",
       "10                                            NaN      NaN   \n",
       "11                                            NaN      NaN   \n",
       "12  Investigation complete; no suspect identified      NaN   \n",
       "\n",
       "                 Borough  \n",
       "8   Barking and Dagenham  \n",
       "9   Barking and Dagenham  \n",
       "10  Barking and Dagenham  \n",
       "11  Barking and Dagenham  \n",
       "12  Barking and Dagenham  "
      ]
     },
     "execution_count": 35,
     "metadata": {},
     "output_type": "execute_result"
    }
   ],
   "source": [
    "df.head()"
   ]
  },
  {
   "cell_type": "markdown",
   "metadata": {
    "id": "3gcEKVNBIOjz"
   },
   "source": [
    "## Handling empty values with isna() and dropna()"
   ]
  },
  {
   "cell_type": "code",
   "execution_count": 6,
   "metadata": {
    "colab": {
     "base_uri": "https://localhost:8080/"
    },
    "id": "Bgisgy6H33MU",
    "outputId": "79f38e78-f981-4014-d617-c3d0380c20a1"
   },
   "outputs": [
    {
     "data": {
      "text/plain": [
       "Crime ID                 17412\n",
       "Month                        0\n",
       "Reported by                  0\n",
       "Falls within                 0\n",
       "Longitude                 2116\n",
       "Latitude                  2116\n",
       "Location                     0\n",
       "LSOA code                 2116\n",
       "LSOA name                 2116\n",
       "Crime type                   0\n",
       "Last outcome category    17412\n",
       "Context                  85828\n",
       "dtype: int64"
      ]
     },
     "execution_count": 6,
     "metadata": {},
     "output_type": "execute_result"
    }
   ],
   "source": [
    "# Summarise the empty values in df by column\n",
    "df.isna().sum()"
   ]
  },
  {
   "cell_type": "code",
   "execution_count": 7,
   "metadata": {
    "id": "GXcjktPrlVcs"
   },
   "outputs": [],
   "source": [
    "# Remove rows with empty values (NaN) in the 'LSOA name' column:\n",
    "df = df.dropna(subset=['LSOA code'])"
   ]
  },
  {
   "cell_type": "code",
   "execution_count": 8,
   "metadata": {
    "colab": {
     "base_uri": "https://localhost:8080/"
    },
    "id": "YhNeAsRw_Pd6",
    "outputId": "76051d2d-7fab-427d-f8ce-303e2ef85009"
   },
   "outputs": [
    {
     "data": {
      "text/plain": [
       "Crime ID                 17410\n",
       "Month                        0\n",
       "Reported by                  0\n",
       "Falls within                 0\n",
       "Longitude                    0\n",
       "Latitude                     0\n",
       "Location                     0\n",
       "LSOA code                    0\n",
       "LSOA name                    0\n",
       "Crime type                   0\n",
       "Last outcome category    17410\n",
       "Context                  83712\n",
       "dtype: int64"
      ]
     },
     "execution_count": 8,
     "metadata": {},
     "output_type": "execute_result"
    }
   ],
   "source": [
    "#Check if the NaN values have been dropped from df\n",
    "df.isna().sum()"
   ]
  },
  {
   "cell_type": "markdown",
   "metadata": {
    "id": "nxG1zDyj3P9k"
   },
   "source": [
    "## Show head, tail or slice\n",
    "`df.head()`, last rows:` df.tail()`. Show slice by index number: `df[:5]` (shows first five rows). \n",
    "\n",
    "For large dataframes, the name of the dataframe will display the head and tail, omitting the middle."
   ]
  },
  {
   "cell_type": "code",
   "execution_count": 9,
   "metadata": {
    "colab": {
     "base_uri": "https://localhost:8080/",
     "height": 565
    },
    "id": "aKY00vzj0iS9",
    "outputId": "cb0fb46a-87b3-40c2-f7d6-57d83cfc8641"
   },
   "outputs": [
    {
     "data": {
      "text/html": [
       "<div>\n",
       "<style scoped>\n",
       "    .dataframe tbody tr th:only-of-type {\n",
       "        vertical-align: middle;\n",
       "    }\n",
       "\n",
       "    .dataframe tbody tr th {\n",
       "        vertical-align: top;\n",
       "    }\n",
       "\n",
       "    .dataframe thead th {\n",
       "        text-align: right;\n",
       "    }\n",
       "</style>\n",
       "<table border=\"1\" class=\"dataframe\">\n",
       "  <thead>\n",
       "    <tr style=\"text-align: right;\">\n",
       "      <th></th>\n",
       "      <th>Crime ID</th>\n",
       "      <th>Month</th>\n",
       "      <th>Reported by</th>\n",
       "      <th>Falls within</th>\n",
       "      <th>Longitude</th>\n",
       "      <th>Latitude</th>\n",
       "      <th>Location</th>\n",
       "      <th>LSOA code</th>\n",
       "      <th>LSOA name</th>\n",
       "      <th>Crime type</th>\n",
       "      <th>Last outcome category</th>\n",
       "      <th>Context</th>\n",
       "    </tr>\n",
       "  </thead>\n",
       "  <tbody>\n",
       "    <tr>\n",
       "      <th>0</th>\n",
       "      <td>dffa1420f0cd2370252db6f825b893c59f4692abf52615...</td>\n",
       "      <td>2022-09</td>\n",
       "      <td>Metropolitan Police Service</td>\n",
       "      <td>Metropolitan Police Service</td>\n",
       "      <td>-3.218870</td>\n",
       "      <td>54.952349</td>\n",
       "      <td>On or near Barwise Brow</td>\n",
       "      <td>E01019107</td>\n",
       "      <td>Allerdale 002B</td>\n",
       "      <td>Violence and sexual offences</td>\n",
       "      <td>Investigation complete; no suspect identified</td>\n",
       "      <td>NaN</td>\n",
       "    </tr>\n",
       "    <tr>\n",
       "      <th>1</th>\n",
       "      <td>a668b34f0f67e39940612e18734a5b81d10f6c0faba66e...</td>\n",
       "      <td>2022-09</td>\n",
       "      <td>Metropolitan Police Service</td>\n",
       "      <td>Metropolitan Police Service</td>\n",
       "      <td>-0.542010</td>\n",
       "      <td>50.808151</td>\n",
       "      <td>On or near New Road</td>\n",
       "      <td>E01031454</td>\n",
       "      <td>Arun 011C</td>\n",
       "      <td>Violence and sexual offences</td>\n",
       "      <td>Under investigation</td>\n",
       "      <td>NaN</td>\n",
       "    </tr>\n",
       "    <tr>\n",
       "      <th>2</th>\n",
       "      <td>3471e88b28218c7937ef6def587fbd6bbdcae722312950...</td>\n",
       "      <td>2022-09</td>\n",
       "      <td>Metropolitan Police Service</td>\n",
       "      <td>Metropolitan Police Service</td>\n",
       "      <td>-0.643865</td>\n",
       "      <td>50.799172</td>\n",
       "      <td>On or near Allin Way</td>\n",
       "      <td>E01031421</td>\n",
       "      <td>Arun 015E</td>\n",
       "      <td>Violence and sexual offences</td>\n",
       "      <td>Under investigation</td>\n",
       "      <td>NaN</td>\n",
       "    </tr>\n",
       "    <tr>\n",
       "      <th>3</th>\n",
       "      <td>62bfa4c7858fbd903f9d05404f5adc16429c05e63d0f0d...</td>\n",
       "      <td>2022-09</td>\n",
       "      <td>Metropolitan Police Service</td>\n",
       "      <td>Metropolitan Police Service</td>\n",
       "      <td>0.854243</td>\n",
       "      <td>51.143847</td>\n",
       "      <td>On or near Baileys Field</td>\n",
       "      <td>E01024028</td>\n",
       "      <td>Ashford 007F</td>\n",
       "      <td>Violence and sexual offences</td>\n",
       "      <td>Under investigation</td>\n",
       "      <td>NaN</td>\n",
       "    </tr>\n",
       "    <tr>\n",
       "      <th>4</th>\n",
       "      <td>526ad8fc7d82c6d8360e383cf046e3211cd1f104f19c52...</td>\n",
       "      <td>2022-09</td>\n",
       "      <td>Metropolitan Police Service</td>\n",
       "      <td>Metropolitan Police Service</td>\n",
       "      <td>-0.841911</td>\n",
       "      <td>51.827796</td>\n",
       "      <td>On or near Haines Close</td>\n",
       "      <td>E01017706</td>\n",
       "      <td>Aylesbury Vale 012B</td>\n",
       "      <td>Violence and sexual offences</td>\n",
       "      <td>Under investigation</td>\n",
       "      <td>NaN</td>\n",
       "    </tr>\n",
       "  </tbody>\n",
       "</table>\n",
       "</div>"
      ],
      "text/plain": [
       "                                            Crime ID    Month  \\\n",
       "0  dffa1420f0cd2370252db6f825b893c59f4692abf52615...  2022-09   \n",
       "1  a668b34f0f67e39940612e18734a5b81d10f6c0faba66e...  2022-09   \n",
       "2  3471e88b28218c7937ef6def587fbd6bbdcae722312950...  2022-09   \n",
       "3  62bfa4c7858fbd903f9d05404f5adc16429c05e63d0f0d...  2022-09   \n",
       "4  526ad8fc7d82c6d8360e383cf046e3211cd1f104f19c52...  2022-09   \n",
       "\n",
       "                   Reported by                 Falls within  Longitude  \\\n",
       "0  Metropolitan Police Service  Metropolitan Police Service  -3.218870   \n",
       "1  Metropolitan Police Service  Metropolitan Police Service  -0.542010   \n",
       "2  Metropolitan Police Service  Metropolitan Police Service  -0.643865   \n",
       "3  Metropolitan Police Service  Metropolitan Police Service   0.854243   \n",
       "4  Metropolitan Police Service  Metropolitan Police Service  -0.841911   \n",
       "\n",
       "    Latitude                  Location  LSOA code            LSOA name  \\\n",
       "0  54.952349   On or near Barwise Brow  E01019107       Allerdale 002B   \n",
       "1  50.808151       On or near New Road  E01031454            Arun 011C   \n",
       "2  50.799172      On or near Allin Way  E01031421            Arun 015E   \n",
       "3  51.143847  On or near Baileys Field  E01024028         Ashford 007F   \n",
       "4  51.827796   On or near Haines Close  E01017706  Aylesbury Vale 012B   \n",
       "\n",
       "                     Crime type  \\\n",
       "0  Violence and sexual offences   \n",
       "1  Violence and sexual offences   \n",
       "2  Violence and sexual offences   \n",
       "3  Violence and sexual offences   \n",
       "4  Violence and sexual offences   \n",
       "\n",
       "                           Last outcome category  Context  \n",
       "0  Investigation complete; no suspect identified      NaN  \n",
       "1                            Under investigation      NaN  \n",
       "2                            Under investigation      NaN  \n",
       "3                            Under investigation      NaN  \n",
       "4                            Under investigation      NaN  "
      ]
     },
     "execution_count": 9,
     "metadata": {},
     "output_type": "execute_result"
    }
   ],
   "source": [
    "#Show a slice of the rows by index\n",
    "df[:5]"
   ]
  },
  {
   "cell_type": "markdown",
   "metadata": {
    "id": "oQ3kKper9KIw"
   },
   "source": [
    "## value_counts()\n",
    "For categorical data, show the number of occurrences. In this case, number of incidents for each 'Crime type' category:"
   ]
  },
  {
   "cell_type": "code",
   "execution_count": 10,
   "metadata": {
    "colab": {
     "base_uri": "https://localhost:8080/"
    },
    "id": "4kya96uV675h",
    "outputId": "5080e79f-2a7a-4f41-dd38-6dd7f352f902"
   },
   "outputs": [
    {
     "data": {
      "text/plain": [
       "Violence and sexual offences    20179\n",
       "Anti-social behaviour           17410\n",
       "Other theft                      9550\n",
       "Vehicle crime                    9168\n",
       "Public order                     4496\n",
       "Burglary                         4396\n",
       "Criminal damage and arson        4175\n",
       "Theft from the person            3446\n",
       "Shoplifting                      3137\n",
       "Drugs                            2841\n",
       "Robbery                          2074\n",
       "Bicycle theft                    1600\n",
       "Other crime                       842\n",
       "Possession of weapons             398\n",
       "Name: Crime type, dtype: int64"
      ]
     },
     "execution_count": 10,
     "metadata": {},
     "output_type": "execute_result"
    }
   ],
   "source": [
    "df['Crime type'].value_counts()"
   ]
  },
  {
   "cell_type": "markdown",
   "metadata": {
    "id": "Ky4vgUY9Gyt-"
   },
   "source": [
    "# Selecting and filtering data"
   ]
  },
  {
   "cell_type": "markdown",
   "metadata": {},
   "source": [
    "Select only columns containing categorical data ('object' type) with `select_dtypes()` and summarise with `describe()`"
   ]
  },
  {
   "cell_type": "code",
   "execution_count": 11,
   "metadata": {},
   "outputs": [
    {
     "data": {
      "text/html": [
       "<div>\n",
       "<style scoped>\n",
       "    .dataframe tbody tr th:only-of-type {\n",
       "        vertical-align: middle;\n",
       "    }\n",
       "\n",
       "    .dataframe tbody tr th {\n",
       "        vertical-align: top;\n",
       "    }\n",
       "\n",
       "    .dataframe thead th {\n",
       "        text-align: right;\n",
       "    }\n",
       "</style>\n",
       "<table border=\"1\" class=\"dataframe\">\n",
       "  <thead>\n",
       "    <tr style=\"text-align: right;\">\n",
       "      <th></th>\n",
       "      <th>Crime ID</th>\n",
       "      <th>Month</th>\n",
       "      <th>Reported by</th>\n",
       "      <th>Falls within</th>\n",
       "      <th>Location</th>\n",
       "      <th>LSOA code</th>\n",
       "      <th>LSOA name</th>\n",
       "      <th>Crime type</th>\n",
       "      <th>Last outcome category</th>\n",
       "    </tr>\n",
       "  </thead>\n",
       "  <tbody>\n",
       "    <tr>\n",
       "      <th>count</th>\n",
       "      <td>66302</td>\n",
       "      <td>83712</td>\n",
       "      <td>83712</td>\n",
       "      <td>83712</td>\n",
       "      <td>83712</td>\n",
       "      <td>83712</td>\n",
       "      <td>83712</td>\n",
       "      <td>83712</td>\n",
       "      <td>66302</td>\n",
       "    </tr>\n",
       "    <tr>\n",
       "      <th>unique</th>\n",
       "      <td>63037</td>\n",
       "      <td>1</td>\n",
       "      <td>1</td>\n",
       "      <td>1</td>\n",
       "      <td>21893</td>\n",
       "      <td>5097</td>\n",
       "      <td>5097</td>\n",
       "      <td>14</td>\n",
       "      <td>7</td>\n",
       "    </tr>\n",
       "    <tr>\n",
       "      <th>top</th>\n",
       "      <td>ac51e51d421256076850ed74e7bb82e38f47c06f350d07...</td>\n",
       "      <td>2022-09</td>\n",
       "      <td>Metropolitan Police Service</td>\n",
       "      <td>Metropolitan Police Service</td>\n",
       "      <td>On or near</td>\n",
       "      <td>E01033595</td>\n",
       "      <td>Westminster 013E</td>\n",
       "      <td>Violence and sexual offences</td>\n",
       "      <td>Under investigation</td>\n",
       "    </tr>\n",
       "    <tr>\n",
       "      <th>freq</th>\n",
       "      <td>11</td>\n",
       "      <td>83712</td>\n",
       "      <td>83712</td>\n",
       "      <td>83712</td>\n",
       "      <td>14030</td>\n",
       "      <td>692</td>\n",
       "      <td>692</td>\n",
       "      <td>20179</td>\n",
       "      <td>45597</td>\n",
       "    </tr>\n",
       "  </tbody>\n",
       "</table>\n",
       "</div>"
      ],
      "text/plain": [
       "                                                 Crime ID    Month  \\\n",
       "count                                               66302    83712   \n",
       "unique                                              63037        1   \n",
       "top     ac51e51d421256076850ed74e7bb82e38f47c06f350d07...  2022-09   \n",
       "freq                                                   11    83712   \n",
       "\n",
       "                        Reported by                 Falls within     Location  \\\n",
       "count                         83712                        83712        83712   \n",
       "unique                            1                            1        21893   \n",
       "top     Metropolitan Police Service  Metropolitan Police Service  On or near    \n",
       "freq                          83712                        83712        14030   \n",
       "\n",
       "        LSOA code         LSOA name                    Crime type  \\\n",
       "count       83712             83712                         83712   \n",
       "unique       5097              5097                            14   \n",
       "top     E01033595  Westminster 013E  Violence and sexual offences   \n",
       "freq          692               692                         20179   \n",
       "\n",
       "       Last outcome category  \n",
       "count                  66302  \n",
       "unique                     7  \n",
       "top      Under investigation  \n",
       "freq                   45597  "
      ]
     },
     "execution_count": 11,
     "metadata": {},
     "output_type": "execute_result"
    }
   ],
   "source": [
    "(df.select_dtypes(include=['object'])).describe()"
   ]
  },
  {
   "cell_type": "markdown",
   "metadata": {
    "id": "1bDFjquXUBny"
   },
   "source": [
    "## Add \"Borough\" column with string slice\n",
    "Create a new column with the Borough name, so that we can select rows by borough. The `slice` function returns a defined segment of the text (or *string*) in the \"LSOA name\" column and copies it to a new column."
   ]
  },
  {
   "cell_type": "code",
   "execution_count": 12,
   "metadata": {
    "id": "_OOZW_Ej9Gw7"
   },
   "outputs": [],
   "source": [
    "#Create a Borough-column:\n",
    "df['Borough'] = df['LSOA name'].str.slice(0, -5)"
   ]
  },
  {
   "cell_type": "markdown",
   "metadata": {
    "id": "zOLIQSdtiOg2"
   },
   "source": [
    "## List unique values by column"
   ]
  },
  {
   "cell_type": "code",
   "execution_count": 13,
   "metadata": {
    "colab": {
     "base_uri": "https://localhost:8080/"
    },
    "id": "upx4BRlWB509",
    "outputId": "4ff7b81a-1005-466c-958c-93c6d887cb04"
   },
   "outputs": [
    {
     "data": {
      "text/plain": [
       "array(['Allerdale', 'Arun', 'Ashford', 'Aylesbury Vale', 'Babergh',\n",
       "       'Barking and Dagenham', 'Barnet', 'Basildon',\n",
       "       'Basingstoke and Deane', 'Bath and North East Somerset', 'Bexley',\n",
       "       'Birmingham', 'Blackpool', 'Bolton', 'Boston', 'Bradford', 'Brent',\n",
       "       'Brentwood', 'Brighton and Hove', 'Broadland', 'Bromley',\n",
       "       'Bromsgrove', 'Broxbourne', 'Bury', 'Cambridge', 'Camden',\n",
       "       'Canterbury', 'Cardiff', 'Carmarthenshire', 'Castle Point',\n",
       "       'Central Bedfordshire', 'Chelmsford', 'Cheltenham', 'Cherwell',\n",
       "       'Cheshire East', 'Chiltern', 'City of London', 'Colchester',\n",
       "       'Cornwall', 'County Durham', 'Coventry', 'Crawley', 'Croydon',\n",
       "       'Dacorum', 'Dartford', 'Derby', 'Dover', 'Dudley', 'Ealing',\n",
       "       'Eastbourne', 'East Staffordshire', 'Elmbridge', 'Enfield',\n",
       "       'Epping Forest', 'Epsom and Ewell', 'Exeter', 'Gravesham',\n",
       "       'Great Yarmouth', 'Greenwich', 'Guildford', 'Hackney',\n",
       "       'Hammersmith and Fulham', 'Haringey', 'Harlow', 'Harrogate',\n",
       "       'Harrow', 'Hartlepool', 'Havering', 'Hertsmere', 'Hillingdon',\n",
       "       'Hounslow', 'Huntingdonshire', 'Ipswich', 'Islington',\n",
       "       'Kensington and Chelsea', 'Kingston upon Thames', 'Lambeth',\n",
       "       'Leeds', 'Leicester', 'Lewes', 'Lewisham', 'Liverpool', 'Luton',\n",
       "       'Maidstone', 'Manchester', 'Medway', 'Merton', 'Mid Suffolk',\n",
       "       'Mid Sussex', 'Milton Keynes', 'Newcastle upon Tyne', 'New Forest',\n",
       "       'Newham', 'Northampton', 'Nottingham', 'Oxford', 'Peterborough',\n",
       "       'Portsmouth', 'Preston', 'Reading', 'Redbridge', 'Redditch',\n",
       "       'Reigate and Banstead', 'Rhondda Cynon Taf',\n",
       "       'Richmond upon Thames', 'Rother', 'Runnymede', 'Rushmoor',\n",
       "       'Sandwell', 'Sedgemoor', 'Sevenoaks', 'Sheffield', 'Shropshire',\n",
       "       'Slough', 'Southampton', 'South Bucks', 'South Cambridgeshire',\n",
       "       'South Gloucestershire', 'South Lakeland', 'Southwark',\n",
       "       'Spelthorne', 'St Albans', 'Stratford-on-Avon', 'Sunderland',\n",
       "       'Surrey Heath', 'Sutton', 'Swale', 'Swindon', 'Tandridge',\n",
       "       'Telford and Wrekin', 'Tendring', 'Test Valley', 'Thanet',\n",
       "       'Three Rivers', 'Thurrock', 'Tower Hamlets', 'Vale of White Horse',\n",
       "       'Wakefield', 'Walsall', 'Waltham Forest', 'Wandsworth', 'Warwick',\n",
       "       'Watford', 'Wealden', 'Welwyn Hatfield', 'West Berkshire',\n",
       "       'West Devon', 'Westminster', 'Wiltshire', 'Windsor and Maidenhead',\n",
       "       'Woking', 'Wolverhampton', 'Worcester', 'Worthing', 'Wycombe',\n",
       "       'Wyre Forest'], dtype=object)"
      ]
     },
     "execution_count": 13,
     "metadata": {},
     "output_type": "execute_result"
    }
   ],
   "source": [
    "df['Borough'].unique()"
   ]
  },
  {
   "cell_type": "markdown",
   "metadata": {
    "id": "zdBhRo-DCPPc"
   },
   "source": [
    "Now that we know that the dataset includes incidents that took place outside of London, let's select only the London Boroughs in the dataset (just as we would use a filter in Excel)."
   ]
  },
  {
   "cell_type": "markdown",
   "metadata": {
    "id": "NLAHvaNsHX1v"
   },
   "source": [
    "## Select with contains()\n",
    "Select with a keyword. Good for single-keyword filtering, or stringing conditions together with & or | ('or')"
   ]
  },
  {
   "cell_type": "code",
   "execution_count": 14,
   "metadata": {
    "id": "DvFhjMbAHdYP"
   },
   "outputs": [],
   "source": [
    "#Create separate dataframe for selected borough using part of the name\n",
    "df_select = df[df['LSOA name'].str.contains('Hammersmith')]"
   ]
  },
  {
   "cell_type": "code",
   "execution_count": 15,
   "metadata": {},
   "outputs": [
    {
     "data": {
      "text/plain": [
       "(2062, 13)"
      ]
     },
     "execution_count": 15,
     "metadata": {},
     "output_type": "execute_result"
    }
   ],
   "source": [
    "df_select.shape"
   ]
  },
  {
   "cell_type": "markdown",
   "metadata": {
    "id": "21LADbQbG-I6"
   },
   "source": [
    "## Select London boroughs only, with isin()\n",
    "Select rows using a list of values."
   ]
  },
  {
   "cell_type": "code",
   "execution_count": 16,
   "metadata": {
    "id": "6tpzkqdnCeaJ"
   },
   "outputs": [],
   "source": [
    "#List of London Boroughs, plus City of London\n",
    "LB_list = ['Barking and Dagenham', 'Barnet', 'Bexley', 'Brent', 'Bromley','Camden', 'City of London', 'Croydon', 'Ealing', 'Enfield', 'Greenwich', 'Hackney', 'Hammersmith and Fulham', 'Haringey',\n",
    "       'Harrow', 'Havering', 'Hillingdon', 'Hounslow', 'Islington', 'Kensington and Chelsea', 'Kingston upon Thames', 'Lambeth',\n",
    "       'Lewisham','Merton', 'Newham', 'Redbridge', 'Richmond upon Thames', 'Southwark', 'Sutton',\n",
    "       'Tower Hamlets', 'Waltham Forest', 'Wandsworth', 'Westminster']\n",
    "# Filter the dataframe to include only names in the list:\n",
    "df = df[df['Borough'].isin(LB_list)]"
   ]
  },
  {
   "cell_type": "code",
   "execution_count": 17,
   "metadata": {
    "colab": {
     "base_uri": "https://localhost:8080/"
    },
    "id": "eKcivs-kFP6H",
    "outputId": "0df980d8-c953-4afe-e6dd-86d362db367a"
   },
   "outputs": [
    {
     "data": {
      "text/plain": [
       "array(['Barking and Dagenham', 'Barnet', 'Bexley', 'Brent', 'Bromley',\n",
       "       'Camden', 'City of London', 'Croydon', 'Ealing', 'Enfield',\n",
       "       'Greenwich', 'Hackney', 'Hammersmith and Fulham', 'Haringey',\n",
       "       'Harrow', 'Havering', 'Hillingdon', 'Hounslow', 'Islington',\n",
       "       'Kensington and Chelsea', 'Kingston upon Thames', 'Lambeth',\n",
       "       'Lewisham', 'Merton', 'Newham', 'Redbridge',\n",
       "       'Richmond upon Thames', 'Southwark', 'Sutton', 'Tower Hamlets',\n",
       "       'Waltham Forest', 'Wandsworth', 'Westminster'], dtype=object)"
      ]
     },
     "execution_count": 17,
     "metadata": {},
     "output_type": "execute_result"
    }
   ],
   "source": [
    "#Check which Boroughs are left in the df now:\n",
    "df['Borough'].unique()"
   ]
  },
  {
   "cell_type": "code",
   "execution_count": 18,
   "metadata": {},
   "outputs": [
    {
     "data": {
      "text/plain": [
       "83340"
      ]
     },
     "execution_count": 18,
     "metadata": {},
     "output_type": "execute_result"
    }
   ],
   "source": [
    "# Length of the resulting dataframe\n",
    "len(df)"
   ]
  },
  {
   "cell_type": "markdown",
   "metadata": {
    "id": "C3vYq-75I5bD"
   },
   "source": [
    "# Group and aggregate\n",
    "Functions: `groupby()`, `agg()`. Let's compare the boroughs by how many incidents are recorded for each."
   ]
  },
  {
   "cell_type": "markdown",
   "metadata": {
    "id": "_PHgmlJ-dLwa"
   },
   "source": [
    "## groupby()"
   ]
  },
  {
   "cell_type": "markdown",
   "metadata": {},
   "source": [
    "### Grouping 1\n",
    "Which borough has the most cases in total? We group the data by the \"Borough\" column, and sum up the total number of cases."
   ]
  },
  {
   "cell_type": "code",
   "execution_count": 19,
   "metadata": {
    "id": "-4zCqgXautIP"
   },
   "outputs": [],
   "source": [
    "# Group by Borough, count total number of incidents, sort from highest to lowest\n",
    "df_grouped = df.groupby(['Borough'])['Crime type'].agg('count').reset_index().sort_values(by=['Crime type'], ascending=False)"
   ]
  },
  {
   "cell_type": "code",
   "execution_count": 21,
   "metadata": {
    "colab": {
     "base_uri": "https://localhost:8080/",
     "height": 1000
    },
    "id": "CZALiteKvpf0",
    "outputId": "89c6999d-f30c-46c6-f05b-5820ac58df3e"
   },
   "outputs": [
    {
     "data": {
      "text/html": [
       "<div>\n",
       "<style scoped>\n",
       "    .dataframe tbody tr th:only-of-type {\n",
       "        vertical-align: middle;\n",
       "    }\n",
       "\n",
       "    .dataframe tbody tr th {\n",
       "        vertical-align: top;\n",
       "    }\n",
       "\n",
       "    .dataframe thead th {\n",
       "        text-align: right;\n",
       "    }\n",
       "</style>\n",
       "<table border=\"1\" class=\"dataframe\">\n",
       "  <thead>\n",
       "    <tr style=\"text-align: right;\">\n",
       "      <th></th>\n",
       "      <th>Borough</th>\n",
       "      <th>Crime type</th>\n",
       "    </tr>\n",
       "  </thead>\n",
       "  <tbody>\n",
       "    <tr>\n",
       "      <th>32</th>\n",
       "      <td>Westminster</td>\n",
       "      <td>6261</td>\n",
       "    </tr>\n",
       "    <tr>\n",
       "      <th>7</th>\n",
       "      <td>Croydon</td>\n",
       "      <td>3542</td>\n",
       "    </tr>\n",
       "    <tr>\n",
       "      <th>29</th>\n",
       "      <td>Tower Hamlets</td>\n",
       "      <td>3536</td>\n",
       "    </tr>\n",
       "    <tr>\n",
       "      <th>24</th>\n",
       "      <td>Newham</td>\n",
       "      <td>3436</td>\n",
       "    </tr>\n",
       "    <tr>\n",
       "      <th>5</th>\n",
       "      <td>Camden</td>\n",
       "      <td>3358</td>\n",
       "    </tr>\n",
       "    <tr>\n",
       "      <th>21</th>\n",
       "      <td>Lambeth</td>\n",
       "      <td>3333</td>\n",
       "    </tr>\n",
       "    <tr>\n",
       "      <th>27</th>\n",
       "      <td>Southwark</td>\n",
       "      <td>3193</td>\n",
       "    </tr>\n",
       "    <tr>\n",
       "      <th>3</th>\n",
       "      <td>Brent</td>\n",
       "      <td>3111</td>\n",
       "    </tr>\n",
       "    <tr>\n",
       "      <th>13</th>\n",
       "      <td>Haringey</td>\n",
       "      <td>3098</td>\n",
       "    </tr>\n",
       "    <tr>\n",
       "      <th>8</th>\n",
       "      <td>Ealing</td>\n",
       "      <td>3015</td>\n",
       "    </tr>\n",
       "  </tbody>\n",
       "</table>\n",
       "</div>"
      ],
      "text/plain": [
       "          Borough  Crime type\n",
       "32    Westminster        6261\n",
       "7         Croydon        3542\n",
       "29  Tower Hamlets        3536\n",
       "24         Newham        3436\n",
       "5          Camden        3358\n",
       "21        Lambeth        3333\n",
       "27      Southwark        3193\n",
       "3           Brent        3111\n",
       "13       Haringey        3098\n",
       "8          Ealing        3015"
      ]
     },
     "execution_count": 21,
     "metadata": {},
     "output_type": "execute_result"
    }
   ],
   "source": [
    "# Show first 10 rows of grouped dataframe\n",
    "df_grouped[:10]"
   ]
  },
  {
   "cell_type": "code",
   "execution_count": 22,
   "metadata": {
    "colab": {
     "base_uri": "https://localhost:8080/",
     "height": 565
    },
    "id": "VdjsKTfyfBFj",
    "outputId": "943d0d67-360a-4924-a90c-42bb4b3758e8"
   },
   "outputs": [
    {
     "data": {
      "text/plain": [
       "<AxesSubplot:xlabel='Crime type', ylabel='Borough'>"
      ]
     },
     "execution_count": 22,
     "metadata": {},
     "output_type": "execute_result"
    },
    {
     "data": {
      "image/png": "[encoded data removed]",
      "text/plain": [
       "<Figure size 1500x1000 with 1 Axes>"
      ]
     },
     "metadata": {},
     "output_type": "display_data"
    }
   ],
   "source": [
    "# Bar chart comparing total cases by borough, descending order\n",
    "sns.barplot(data=df_grouped, x=\"Crime type\", y=\"Borough\")"
   ]
  },
  {
   "cell_type": "markdown",
   "metadata": {},
   "source": [
    "### Grouping 2\n",
    "Breakdown by crime type and borough."
   ]
  },
  {
   "cell_type": "code",
   "execution_count": 23,
   "metadata": {},
   "outputs": [],
   "source": [
    "# Another grouping, by crime type and borough, using \"LSOA code\" for counting the number of instances.\n",
    "df_grouped2 = df.groupby(['Crime type', 'Borough'])['LSOA code'].agg('count').reset_index().sort_values(by=['Borough'], ascending=False)"
   ]
  },
  {
   "cell_type": "code",
   "execution_count": 24,
   "metadata": {},
   "outputs": [
    {
     "data": {
      "text/html": [
       "<div>\n",
       "<style scoped>\n",
       "    .dataframe tbody tr th:only-of-type {\n",
       "        vertical-align: middle;\n",
       "    }\n",
       "\n",
       "    .dataframe tbody tr th {\n",
       "        vertical-align: top;\n",
       "    }\n",
       "\n",
       "    .dataframe thead th {\n",
       "        text-align: right;\n",
       "    }\n",
       "</style>\n",
       "<table border=\"1\" class=\"dataframe\">\n",
       "  <thead>\n",
       "    <tr style=\"text-align: right;\">\n",
       "      <th></th>\n",
       "      <th>Crime type</th>\n",
       "      <th>Borough</th>\n",
       "      <th>LSOA code</th>\n",
       "    </tr>\n",
       "  </thead>\n",
       "  <tbody>\n",
       "    <tr>\n",
       "      <th>459</th>\n",
       "      <td>Violence and sexual offences</td>\n",
       "      <td>Westminster</td>\n",
       "      <td>882</td>\n",
       "    </tr>\n",
       "    <tr>\n",
       "      <th>393</th>\n",
       "      <td>Theft from the person</td>\n",
       "      <td>Westminster</td>\n",
       "      <td>923</td>\n",
       "    </tr>\n",
       "    <tr>\n",
       "      <th>131</th>\n",
       "      <td>Criminal damage and arson</td>\n",
       "      <td>Westminster</td>\n",
       "      <td>175</td>\n",
       "    </tr>\n",
       "    <tr>\n",
       "      <th>229</th>\n",
       "      <td>Other theft</td>\n",
       "      <td>Westminster</td>\n",
       "      <td>1545</td>\n",
       "    </tr>\n",
       "    <tr>\n",
       "      <th>164</th>\n",
       "      <td>Drugs</td>\n",
       "      <td>Westminster</td>\n",
       "      <td>244</td>\n",
       "    </tr>\n",
       "    <tr>\n",
       "      <th>360</th>\n",
       "      <td>Shoplifting</td>\n",
       "      <td>Westminster</td>\n",
       "      <td>290</td>\n",
       "    </tr>\n",
       "    <tr>\n",
       "      <th>32</th>\n",
       "      <td>Anti-social behaviour</td>\n",
       "      <td>Westminster</td>\n",
       "      <td>1016</td>\n",
       "    </tr>\n",
       "    <tr>\n",
       "      <th>65</th>\n",
       "      <td>Bicycle theft</td>\n",
       "      <td>Westminster</td>\n",
       "      <td>101</td>\n",
       "    </tr>\n",
       "    <tr>\n",
       "      <th>294</th>\n",
       "      <td>Public order</td>\n",
       "      <td>Westminster</td>\n",
       "      <td>286</td>\n",
       "    </tr>\n",
       "    <tr>\n",
       "      <th>98</th>\n",
       "      <td>Burglary</td>\n",
       "      <td>Westminster</td>\n",
       "      <td>279</td>\n",
       "    </tr>\n",
       "  </tbody>\n",
       "</table>\n",
       "</div>"
      ],
      "text/plain": [
       "                       Crime type      Borough  LSOA code\n",
       "459  Violence and sexual offences  Westminster        882\n",
       "393         Theft from the person  Westminster        923\n",
       "131     Criminal damage and arson  Westminster        175\n",
       "229                   Other theft  Westminster       1545\n",
       "164                         Drugs  Westminster        244\n",
       "360                   Shoplifting  Westminster        290\n",
       "32          Anti-social behaviour  Westminster       1016\n",
       "65                  Bicycle theft  Westminster        101\n",
       "294                  Public order  Westminster        286\n",
       "98                       Burglary  Westminster        279"
      ]
     },
     "execution_count": 24,
     "metadata": {},
     "output_type": "execute_result"
    }
   ],
   "source": [
    "df_grouped2[:10]"
   ]
  },
  {
   "cell_type": "code",
   "execution_count": 26,
   "metadata": {},
   "outputs": [
    {
     "data": {
      "text/html": [
       "<div>\n",
       "<style scoped>\n",
       "    .dataframe tbody tr th:only-of-type {\n",
       "        vertical-align: middle;\n",
       "    }\n",
       "\n",
       "    .dataframe tbody tr th {\n",
       "        vertical-align: top;\n",
       "    }\n",
       "\n",
       "    .dataframe thead th {\n",
       "        text-align: right;\n",
       "    }\n",
       "</style>\n",
       "<table border=\"1\" class=\"dataframe\">\n",
       "  <thead>\n",
       "    <tr style=\"text-align: right;\">\n",
       "      <th></th>\n",
       "      <th>Crime type</th>\n",
       "      <th>Borough</th>\n",
       "      <th>LSOA code</th>\n",
       "    </tr>\n",
       "  </thead>\n",
       "  <tbody>\n",
       "    <tr>\n",
       "      <th>44</th>\n",
       "      <td>Bicycle theft</td>\n",
       "      <td>Hackney</td>\n",
       "      <td>127</td>\n",
       "    </tr>\n",
       "    <tr>\n",
       "      <th>60</th>\n",
       "      <td>Bicycle theft</td>\n",
       "      <td>Southwark</td>\n",
       "      <td>124</td>\n",
       "    </tr>\n",
       "    <tr>\n",
       "      <th>62</th>\n",
       "      <td>Bicycle theft</td>\n",
       "      <td>Tower Hamlets</td>\n",
       "      <td>111</td>\n",
       "    </tr>\n",
       "    <tr>\n",
       "      <th>45</th>\n",
       "      <td>Bicycle theft</td>\n",
       "      <td>Hammersmith and Fulham</td>\n",
       "      <td>106</td>\n",
       "    </tr>\n",
       "    <tr>\n",
       "      <th>65</th>\n",
       "      <td>Bicycle theft</td>\n",
       "      <td>Westminster</td>\n",
       "      <td>101</td>\n",
       "    </tr>\n",
       "    <tr>\n",
       "      <th>51</th>\n",
       "      <td>Bicycle theft</td>\n",
       "      <td>Islington</td>\n",
       "      <td>99</td>\n",
       "    </tr>\n",
       "    <tr>\n",
       "      <th>54</th>\n",
       "      <td>Bicycle theft</td>\n",
       "      <td>Lambeth</td>\n",
       "      <td>91</td>\n",
       "    </tr>\n",
       "    <tr>\n",
       "      <th>38</th>\n",
       "      <td>Bicycle theft</td>\n",
       "      <td>Camden</td>\n",
       "      <td>83</td>\n",
       "    </tr>\n",
       "    <tr>\n",
       "      <th>50</th>\n",
       "      <td>Bicycle theft</td>\n",
       "      <td>Hounslow</td>\n",
       "      <td>80</td>\n",
       "    </tr>\n",
       "    <tr>\n",
       "      <th>64</th>\n",
       "      <td>Bicycle theft</td>\n",
       "      <td>Wandsworth</td>\n",
       "      <td>72</td>\n",
       "    </tr>\n",
       "  </tbody>\n",
       "</table>\n",
       "</div>"
      ],
      "text/plain": [
       "       Crime type                 Borough  LSOA code\n",
       "44  Bicycle theft                 Hackney        127\n",
       "60  Bicycle theft               Southwark        124\n",
       "62  Bicycle theft           Tower Hamlets        111\n",
       "45  Bicycle theft  Hammersmith and Fulham        106\n",
       "65  Bicycle theft             Westminster        101\n",
       "51  Bicycle theft               Islington         99\n",
       "54  Bicycle theft                 Lambeth         91\n",
       "38  Bicycle theft                  Camden         83\n",
       "50  Bicycle theft                Hounslow         80\n",
       "64  Bicycle theft              Wandsworth         72"
      ]
     },
     "execution_count": 26,
     "metadata": {},
     "output_type": "execute_result"
    }
   ],
   "source": [
    "# Here's a selected view of df_grouped2, showing bicycle thefts by borough (top 10 only)\n",
    "(df_grouped2[df_grouped2['Crime type'].str.contains('bicycle', case=False)]).sort_values(by='LSOA code', ascending=False)[:10]"
   ]
  },
  {
   "cell_type": "markdown",
   "metadata": {
    "id": "8r8nASb6xmfN"
   },
   "source": [
    "## Crosstab\n",
    "Compare data across categories with `crosstab()`. A a cross-tabulation table shows the frequency with which certain groups of data appear. \n",
    "\n",
    "The Practical Business Python blog has a good summary of Pandas' crosstab function: [Pandas Crosstab Explained](https://pbpython.com/pandas-crosstab.html)"
   ]
  },
  {
   "cell_type": "markdown",
   "metadata": {
    "id": "c6DhgRlJGZfV"
   },
   "source": [
    "### Simple crosstab\n",
    "Crime types broken down by Borough. This creates a wide-format view of crime types (in separate columns) by borough, easier to read than the long- (or tidy) format of the original data."
   ]
  },
  {
   "cell_type": "code",
   "execution_count": 27,
   "metadata": {
    "id": "z6FaxWa3wtp6"
   },
   "outputs": [],
   "source": [
    "df_crossed = pd.crosstab(df['Borough'], df['Crime type']).sort_values(by=['Borough'], ascending=True)"
   ]
  },
  {
   "cell_type": "code",
   "execution_count": 28,
   "metadata": {},
   "outputs": [
    {
     "data": {
      "text/html": [
       "<div>\n",
       "<style scoped>\n",
       "    .dataframe tbody tr th:only-of-type {\n",
       "        vertical-align: middle;\n",
       "    }\n",
       "\n",
       "    .dataframe tbody tr th {\n",
       "        vertical-align: top;\n",
       "    }\n",
       "\n",
       "    .dataframe thead th {\n",
       "        text-align: right;\n",
       "    }\n",
       "</style>\n",
       "<table border=\"1\" class=\"dataframe\">\n",
       "  <thead>\n",
       "    <tr style=\"text-align: right;\">\n",
       "      <th>Crime type</th>\n",
       "      <th>Anti-social behaviour</th>\n",
       "      <th>Bicycle theft</th>\n",
       "      <th>Burglary</th>\n",
       "      <th>Criminal damage and arson</th>\n",
       "      <th>Drugs</th>\n",
       "      <th>Other crime</th>\n",
       "      <th>Other theft</th>\n",
       "      <th>Possession of weapons</th>\n",
       "      <th>Public order</th>\n",
       "      <th>Robbery</th>\n",
       "      <th>Shoplifting</th>\n",
       "      <th>Theft from the person</th>\n",
       "      <th>Vehicle crime</th>\n",
       "      <th>Violence and sexual offences</th>\n",
       "    </tr>\n",
       "    <tr>\n",
       "      <th>Borough</th>\n",
       "      <th></th>\n",
       "      <th></th>\n",
       "      <th></th>\n",
       "      <th></th>\n",
       "      <th></th>\n",
       "      <th></th>\n",
       "      <th></th>\n",
       "      <th></th>\n",
       "      <th></th>\n",
       "      <th></th>\n",
       "      <th></th>\n",
       "      <th></th>\n",
       "      <th></th>\n",
       "      <th></th>\n",
       "    </tr>\n",
       "  </thead>\n",
       "  <tbody>\n",
       "    <tr>\n",
       "      <th>Barking and Dagenham</th>\n",
       "      <td>382</td>\n",
       "      <td>13</td>\n",
       "      <td>103</td>\n",
       "      <td>105</td>\n",
       "      <td>82</td>\n",
       "      <td>21</td>\n",
       "      <td>165</td>\n",
       "      <td>7</td>\n",
       "      <td>95</td>\n",
       "      <td>31</td>\n",
       "      <td>40</td>\n",
       "      <td>26</td>\n",
       "      <td>265</td>\n",
       "      <td>575</td>\n",
       "    </tr>\n",
       "    <tr>\n",
       "      <th>Barnet</th>\n",
       "      <td>587</td>\n",
       "      <td>38</td>\n",
       "      <td>189</td>\n",
       "      <td>126</td>\n",
       "      <td>55</td>\n",
       "      <td>26</td>\n",
       "      <td>272</td>\n",
       "      <td>8</td>\n",
       "      <td>154</td>\n",
       "      <td>49</td>\n",
       "      <td>108</td>\n",
       "      <td>66</td>\n",
       "      <td>464</td>\n",
       "      <td>655</td>\n",
       "    </tr>\n",
       "    <tr>\n",
       "      <th>Bexley</th>\n",
       "      <td>310</td>\n",
       "      <td>4</td>\n",
       "      <td>58</td>\n",
       "      <td>125</td>\n",
       "      <td>62</td>\n",
       "      <td>20</td>\n",
       "      <td>152</td>\n",
       "      <td>12</td>\n",
       "      <td>90</td>\n",
       "      <td>29</td>\n",
       "      <td>56</td>\n",
       "      <td>14</td>\n",
       "      <td>207</td>\n",
       "      <td>498</td>\n",
       "    </tr>\n",
       "    <tr>\n",
       "      <th>Brent</th>\n",
       "      <td>691</td>\n",
       "      <td>30</td>\n",
       "      <td>168</td>\n",
       "      <td>146</td>\n",
       "      <td>102</td>\n",
       "      <td>24</td>\n",
       "      <td>267</td>\n",
       "      <td>22</td>\n",
       "      <td>191</td>\n",
       "      <td>78</td>\n",
       "      <td>131</td>\n",
       "      <td>68</td>\n",
       "      <td>334</td>\n",
       "      <td>859</td>\n",
       "    </tr>\n",
       "    <tr>\n",
       "      <th>Bromley</th>\n",
       "      <td>430</td>\n",
       "      <td>10</td>\n",
       "      <td>128</td>\n",
       "      <td>148</td>\n",
       "      <td>66</td>\n",
       "      <td>26</td>\n",
       "      <td>169</td>\n",
       "      <td>10</td>\n",
       "      <td>150</td>\n",
       "      <td>31</td>\n",
       "      <td>154</td>\n",
       "      <td>25</td>\n",
       "      <td>260</td>\n",
       "      <td>589</td>\n",
       "    </tr>\n",
       "    <tr>\n",
       "      <th>Camden</th>\n",
       "      <td>699</td>\n",
       "      <td>83</td>\n",
       "      <td>167</td>\n",
       "      <td>119</td>\n",
       "      <td>100</td>\n",
       "      <td>14</td>\n",
       "      <td>625</td>\n",
       "      <td>9</td>\n",
       "      <td>163</td>\n",
       "      <td>86</td>\n",
       "      <td>93</td>\n",
       "      <td>283</td>\n",
       "      <td>334</td>\n",
       "      <td>583</td>\n",
       "    </tr>\n",
       "    <tr>\n",
       "      <th>City of London</th>\n",
       "      <td>10</td>\n",
       "      <td>2</td>\n",
       "      <td>3</td>\n",
       "      <td>2</td>\n",
       "      <td>2</td>\n",
       "      <td>0</td>\n",
       "      <td>37</td>\n",
       "      <td>0</td>\n",
       "      <td>4</td>\n",
       "      <td>6</td>\n",
       "      <td>1</td>\n",
       "      <td>29</td>\n",
       "      <td>1</td>\n",
       "      <td>17</td>\n",
       "    </tr>\n",
       "    <tr>\n",
       "      <th>Croydon</th>\n",
       "      <td>708</td>\n",
       "      <td>22</td>\n",
       "      <td>198</td>\n",
       "      <td>200</td>\n",
       "      <td>151</td>\n",
       "      <td>28</td>\n",
       "      <td>304</td>\n",
       "      <td>11</td>\n",
       "      <td>200</td>\n",
       "      <td>122</td>\n",
       "      <td>112</td>\n",
       "      <td>58</td>\n",
       "      <td>449</td>\n",
       "      <td>979</td>\n",
       "    </tr>\n",
       "    <tr>\n",
       "      <th>Ealing</th>\n",
       "      <td>782</td>\n",
       "      <td>36</td>\n",
       "      <td>164</td>\n",
       "      <td>160</td>\n",
       "      <td>83</td>\n",
       "      <td>30</td>\n",
       "      <td>257</td>\n",
       "      <td>15</td>\n",
       "      <td>170</td>\n",
       "      <td>46</td>\n",
       "      <td>93</td>\n",
       "      <td>48</td>\n",
       "      <td>328</td>\n",
       "      <td>803</td>\n",
       "    </tr>\n",
       "    <tr>\n",
       "      <th>Enfield</th>\n",
       "      <td>576</td>\n",
       "      <td>14</td>\n",
       "      <td>164</td>\n",
       "      <td>172</td>\n",
       "      <td>83</td>\n",
       "      <td>26</td>\n",
       "      <td>250</td>\n",
       "      <td>13</td>\n",
       "      <td>124</td>\n",
       "      <td>100</td>\n",
       "      <td>77</td>\n",
       "      <td>72</td>\n",
       "      <td>454</td>\n",
       "      <td>730</td>\n",
       "    </tr>\n",
       "    <tr>\n",
       "      <th>Greenwich</th>\n",
       "      <td>461</td>\n",
       "      <td>25</td>\n",
       "      <td>110</td>\n",
       "      <td>161</td>\n",
       "      <td>107</td>\n",
       "      <td>36</td>\n",
       "      <td>217</td>\n",
       "      <td>10</td>\n",
       "      <td>155</td>\n",
       "      <td>64</td>\n",
       "      <td>106</td>\n",
       "      <td>39</td>\n",
       "      <td>311</td>\n",
       "      <td>724</td>\n",
       "    </tr>\n",
       "    <tr>\n",
       "      <th>Hackney</th>\n",
       "      <td>670</td>\n",
       "      <td>127</td>\n",
       "      <td>185</td>\n",
       "      <td>127</td>\n",
       "      <td>104</td>\n",
       "      <td>18</td>\n",
       "      <td>301</td>\n",
       "      <td>10</td>\n",
       "      <td>154</td>\n",
       "      <td>102</td>\n",
       "      <td>64</td>\n",
       "      <td>208</td>\n",
       "      <td>240</td>\n",
       "      <td>680</td>\n",
       "    </tr>\n",
       "    <tr>\n",
       "      <th>Hammersmith and Fulham</th>\n",
       "      <td>435</td>\n",
       "      <td>106</td>\n",
       "      <td>93</td>\n",
       "      <td>82</td>\n",
       "      <td>87</td>\n",
       "      <td>8</td>\n",
       "      <td>240</td>\n",
       "      <td>13</td>\n",
       "      <td>117</td>\n",
       "      <td>50</td>\n",
       "      <td>82</td>\n",
       "      <td>61</td>\n",
       "      <td>265</td>\n",
       "      <td>423</td>\n",
       "    </tr>\n",
       "    <tr>\n",
       "      <th>Haringey</th>\n",
       "      <td>736</td>\n",
       "      <td>30</td>\n",
       "      <td>129</td>\n",
       "      <td>141</td>\n",
       "      <td>127</td>\n",
       "      <td>20</td>\n",
       "      <td>297</td>\n",
       "      <td>13</td>\n",
       "      <td>144</td>\n",
       "      <td>134</td>\n",
       "      <td>90</td>\n",
       "      <td>145</td>\n",
       "      <td>409</td>\n",
       "      <td>683</td>\n",
       "    </tr>\n",
       "    <tr>\n",
       "      <th>Harrow</th>\n",
       "      <td>402</td>\n",
       "      <td>13</td>\n",
       "      <td>74</td>\n",
       "      <td>73</td>\n",
       "      <td>38</td>\n",
       "      <td>20</td>\n",
       "      <td>149</td>\n",
       "      <td>10</td>\n",
       "      <td>77</td>\n",
       "      <td>33</td>\n",
       "      <td>44</td>\n",
       "      <td>44</td>\n",
       "      <td>204</td>\n",
       "      <td>419</td>\n",
       "    </tr>\n",
       "    <tr>\n",
       "      <th>Havering</th>\n",
       "      <td>354</td>\n",
       "      <td>11</td>\n",
       "      <td>81</td>\n",
       "      <td>113</td>\n",
       "      <td>61</td>\n",
       "      <td>23</td>\n",
       "      <td>152</td>\n",
       "      <td>11</td>\n",
       "      <td>124</td>\n",
       "      <td>26</td>\n",
       "      <td>78</td>\n",
       "      <td>23</td>\n",
       "      <td>256</td>\n",
       "      <td>536</td>\n",
       "    </tr>\n",
       "    <tr>\n",
       "      <th>Hillingdon</th>\n",
       "      <td>563</td>\n",
       "      <td>24</td>\n",
       "      <td>125</td>\n",
       "      <td>152</td>\n",
       "      <td>57</td>\n",
       "      <td>126</td>\n",
       "      <td>256</td>\n",
       "      <td>12</td>\n",
       "      <td>140</td>\n",
       "      <td>30</td>\n",
       "      <td>123</td>\n",
       "      <td>39</td>\n",
       "      <td>364</td>\n",
       "      <td>750</td>\n",
       "    </tr>\n",
       "    <tr>\n",
       "      <th>Hounslow</th>\n",
       "      <td>580</td>\n",
       "      <td>80</td>\n",
       "      <td>150</td>\n",
       "      <td>132</td>\n",
       "      <td>77</td>\n",
       "      <td>28</td>\n",
       "      <td>235</td>\n",
       "      <td>8</td>\n",
       "      <td>148</td>\n",
       "      <td>33</td>\n",
       "      <td>83</td>\n",
       "      <td>47</td>\n",
       "      <td>258</td>\n",
       "      <td>668</td>\n",
       "    </tr>\n",
       "    <tr>\n",
       "      <th>Islington</th>\n",
       "      <td>574</td>\n",
       "      <td>99</td>\n",
       "      <td>143</td>\n",
       "      <td>117</td>\n",
       "      <td>62</td>\n",
       "      <td>23</td>\n",
       "      <td>325</td>\n",
       "      <td>10</td>\n",
       "      <td>181</td>\n",
       "      <td>70</td>\n",
       "      <td>133</td>\n",
       "      <td>209</td>\n",
       "      <td>211</td>\n",
       "      <td>609</td>\n",
       "    </tr>\n",
       "    <tr>\n",
       "      <th>Kensington and Chelsea</th>\n",
       "      <td>367</td>\n",
       "      <td>44</td>\n",
       "      <td>117</td>\n",
       "      <td>79</td>\n",
       "      <td>62</td>\n",
       "      <td>13</td>\n",
       "      <td>316</td>\n",
       "      <td>6</td>\n",
       "      <td>92</td>\n",
       "      <td>57</td>\n",
       "      <td>71</td>\n",
       "      <td>103</td>\n",
       "      <td>179</td>\n",
       "      <td>364</td>\n",
       "    </tr>\n",
       "    <tr>\n",
       "      <th>Kingston upon Thames</th>\n",
       "      <td>247</td>\n",
       "      <td>66</td>\n",
       "      <td>45</td>\n",
       "      <td>68</td>\n",
       "      <td>47</td>\n",
       "      <td>17</td>\n",
       "      <td>123</td>\n",
       "      <td>5</td>\n",
       "      <td>63</td>\n",
       "      <td>15</td>\n",
       "      <td>52</td>\n",
       "      <td>22</td>\n",
       "      <td>127</td>\n",
       "      <td>304</td>\n",
       "    </tr>\n",
       "    <tr>\n",
       "      <th>Lambeth</th>\n",
       "      <td>738</td>\n",
       "      <td>91</td>\n",
       "      <td>202</td>\n",
       "      <td>174</td>\n",
       "      <td>109</td>\n",
       "      <td>25</td>\n",
       "      <td>423</td>\n",
       "      <td>13</td>\n",
       "      <td>182</td>\n",
       "      <td>117</td>\n",
       "      <td>149</td>\n",
       "      <td>162</td>\n",
       "      <td>198</td>\n",
       "      <td>750</td>\n",
       "    </tr>\n",
       "    <tr>\n",
       "      <th>Lewisham</th>\n",
       "      <td>522</td>\n",
       "      <td>29</td>\n",
       "      <td>159</td>\n",
       "      <td>178</td>\n",
       "      <td>107</td>\n",
       "      <td>32</td>\n",
       "      <td>286</td>\n",
       "      <td>19</td>\n",
       "      <td>168</td>\n",
       "      <td>46</td>\n",
       "      <td>116</td>\n",
       "      <td>52</td>\n",
       "      <td>316</td>\n",
       "      <td>753</td>\n",
       "    </tr>\n",
       "    <tr>\n",
       "      <th>Merton</th>\n",
       "      <td>278</td>\n",
       "      <td>35</td>\n",
       "      <td>79</td>\n",
       "      <td>78</td>\n",
       "      <td>28</td>\n",
       "      <td>16</td>\n",
       "      <td>139</td>\n",
       "      <td>13</td>\n",
       "      <td>95</td>\n",
       "      <td>49</td>\n",
       "      <td>68</td>\n",
       "      <td>17</td>\n",
       "      <td>153</td>\n",
       "      <td>382</td>\n",
       "    </tr>\n",
       "    <tr>\n",
       "      <th>Newham</th>\n",
       "      <td>738</td>\n",
       "      <td>27</td>\n",
       "      <td>164</td>\n",
       "      <td>179</td>\n",
       "      <td>166</td>\n",
       "      <td>40</td>\n",
       "      <td>371</td>\n",
       "      <td>18</td>\n",
       "      <td>177</td>\n",
       "      <td>89</td>\n",
       "      <td>120</td>\n",
       "      <td>140</td>\n",
       "      <td>399</td>\n",
       "      <td>808</td>\n",
       "    </tr>\n",
       "    <tr>\n",
       "      <th>Redbridge</th>\n",
       "      <td>488</td>\n",
       "      <td>19</td>\n",
       "      <td>95</td>\n",
       "      <td>108</td>\n",
       "      <td>72</td>\n",
       "      <td>26</td>\n",
       "      <td>202</td>\n",
       "      <td>3</td>\n",
       "      <td>123</td>\n",
       "      <td>63</td>\n",
       "      <td>103</td>\n",
       "      <td>65</td>\n",
       "      <td>385</td>\n",
       "      <td>623</td>\n",
       "    </tr>\n",
       "    <tr>\n",
       "      <th>Richmond upon Thames</th>\n",
       "      <td>204</td>\n",
       "      <td>53</td>\n",
       "      <td>74</td>\n",
       "      <td>73</td>\n",
       "      <td>14</td>\n",
       "      <td>7</td>\n",
       "      <td>96</td>\n",
       "      <td>6</td>\n",
       "      <td>64</td>\n",
       "      <td>19</td>\n",
       "      <td>44</td>\n",
       "      <td>11</td>\n",
       "      <td>188</td>\n",
       "      <td>269</td>\n",
       "    </tr>\n",
       "    <tr>\n",
       "      <th>Southwark</th>\n",
       "      <td>610</td>\n",
       "      <td>124</td>\n",
       "      <td>202</td>\n",
       "      <td>142</td>\n",
       "      <td>133</td>\n",
       "      <td>21</td>\n",
       "      <td>453</td>\n",
       "      <td>21</td>\n",
       "      <td>144</td>\n",
       "      <td>118</td>\n",
       "      <td>99</td>\n",
       "      <td>205</td>\n",
       "      <td>236</td>\n",
       "      <td>685</td>\n",
       "    </tr>\n",
       "    <tr>\n",
       "      <th>Sutton</th>\n",
       "      <td>248</td>\n",
       "      <td>22</td>\n",
       "      <td>101</td>\n",
       "      <td>97</td>\n",
       "      <td>22</td>\n",
       "      <td>12</td>\n",
       "      <td>109</td>\n",
       "      <td>6</td>\n",
       "      <td>77</td>\n",
       "      <td>30</td>\n",
       "      <td>75</td>\n",
       "      <td>20</td>\n",
       "      <td>191</td>\n",
       "      <td>349</td>\n",
       "    </tr>\n",
       "    <tr>\n",
       "      <th>Tower Hamlets</th>\n",
       "      <td>984</td>\n",
       "      <td>111</td>\n",
       "      <td>200</td>\n",
       "      <td>159</td>\n",
       "      <td>151</td>\n",
       "      <td>31</td>\n",
       "      <td>335</td>\n",
       "      <td>25</td>\n",
       "      <td>176</td>\n",
       "      <td>73</td>\n",
       "      <td>102</td>\n",
       "      <td>99</td>\n",
       "      <td>293</td>\n",
       "      <td>797</td>\n",
       "    </tr>\n",
       "    <tr>\n",
       "      <th>Waltham Forest</th>\n",
       "      <td>524</td>\n",
       "      <td>37</td>\n",
       "      <td>93</td>\n",
       "      <td>124</td>\n",
       "      <td>126</td>\n",
       "      <td>30</td>\n",
       "      <td>198</td>\n",
       "      <td>8</td>\n",
       "      <td>118</td>\n",
       "      <td>53</td>\n",
       "      <td>74</td>\n",
       "      <td>53</td>\n",
       "      <td>327</td>\n",
       "      <td>591</td>\n",
       "    </tr>\n",
       "    <tr>\n",
       "      <th>Wandsworth</th>\n",
       "      <td>491</td>\n",
       "      <td>72</td>\n",
       "      <td>150</td>\n",
       "      <td>129</td>\n",
       "      <td>47</td>\n",
       "      <td>21</td>\n",
       "      <td>251</td>\n",
       "      <td>10</td>\n",
       "      <td>132</td>\n",
       "      <td>43</td>\n",
       "      <td>99</td>\n",
       "      <td>64</td>\n",
       "      <td>259</td>\n",
       "      <td>603</td>\n",
       "    </tr>\n",
       "    <tr>\n",
       "      <th>Westminster</th>\n",
       "      <td>1016</td>\n",
       "      <td>101</td>\n",
       "      <td>279</td>\n",
       "      <td>175</td>\n",
       "      <td>244</td>\n",
       "      <td>28</td>\n",
       "      <td>1545</td>\n",
       "      <td>38</td>\n",
       "      <td>286</td>\n",
       "      <td>177</td>\n",
       "      <td>290</td>\n",
       "      <td>923</td>\n",
       "      <td>277</td>\n",
       "      <td>882</td>\n",
       "    </tr>\n",
       "  </tbody>\n",
       "</table>\n",
       "</div>"
      ],
      "text/plain": [
       "Crime type              Anti-social behaviour  Bicycle theft  Burglary  \\\n",
       "Borough                                                                  \n",
       "Barking and Dagenham                      382             13       103   \n",
       "Barnet                                    587             38       189   \n",
       "Bexley                                    310              4        58   \n",
       "Brent                                     691             30       168   \n",
       "Bromley                                   430             10       128   \n",
       "Camden                                    699             83       167   \n",
       "City of London                             10              2         3   \n",
       "Croydon                                   708             22       198   \n",
       "Ealing                                    782             36       164   \n",
       "Enfield                                   576             14       164   \n",
       "Greenwich                                 461             25       110   \n",
       "Hackney                                   670            127       185   \n",
       "Hammersmith and Fulham                    435            106        93   \n",
       "Haringey                                  736             30       129   \n",
       "Harrow                                    402             13        74   \n",
       "Havering                                  354             11        81   \n",
       "Hillingdon                                563             24       125   \n",
       "Hounslow                                  580             80       150   \n",
       "Islington                                 574             99       143   \n",
       "Kensington and Chelsea                    367             44       117   \n",
       "Kingston upon Thames                      247             66        45   \n",
       "Lambeth                                   738             91       202   \n",
       "Lewisham                                  522             29       159   \n",
       "Merton                                    278             35        79   \n",
       "Newham                                    738             27       164   \n",
       "Redbridge                                 488             19        95   \n",
       "Richmond upon Thames                      204             53        74   \n",
       "Southwark                                 610            124       202   \n",
       "Sutton                                    248             22       101   \n",
       "Tower Hamlets                             984            111       200   \n",
       "Waltham Forest                            524             37        93   \n",
       "Wandsworth                                491             72       150   \n",
       "Westminster                              1016            101       279   \n",
       "\n",
       "Crime type              Criminal damage and arson  Drugs  Other crime  \\\n",
       "Borough                                                                 \n",
       "Barking and Dagenham                          105     82           21   \n",
       "Barnet                                        126     55           26   \n",
       "Bexley                                        125     62           20   \n",
       "Brent                                         146    102           24   \n",
       "Bromley                                       148     66           26   \n",
       "Camden                                        119    100           14   \n",
       "City of London                                  2      2            0   \n",
       "Croydon                                       200    151           28   \n",
       "Ealing                                        160     83           30   \n",
       "Enfield                                       172     83           26   \n",
       "Greenwich                                     161    107           36   \n",
       "Hackney                                       127    104           18   \n",
       "Hammersmith and Fulham                         82     87            8   \n",
       "Haringey                                      141    127           20   \n",
       "Harrow                                         73     38           20   \n",
       "Havering                                      113     61           23   \n",
       "Hillingdon                                    152     57          126   \n",
       "Hounslow                                      132     77           28   \n",
       "Islington                                     117     62           23   \n",
       "Kensington and Chelsea                         79     62           13   \n",
       "Kingston upon Thames                           68     47           17   \n",
       "Lambeth                                       174    109           25   \n",
       "Lewisham                                      178    107           32   \n",
       "Merton                                         78     28           16   \n",
       "Newham                                        179    166           40   \n",
       "Redbridge                                     108     72           26   \n",
       "Richmond upon Thames                           73     14            7   \n",
       "Southwark                                     142    133           21   \n",
       "Sutton                                         97     22           12   \n",
       "Tower Hamlets                                 159    151           31   \n",
       "Waltham Forest                                124    126           30   \n",
       "Wandsworth                                    129     47           21   \n",
       "Westminster                                   175    244           28   \n",
       "\n",
       "Crime type              Other theft  Possession of weapons  Public order  \\\n",
       "Borough                                                                    \n",
       "Barking and Dagenham            165                      7            95   \n",
       "Barnet                          272                      8           154   \n",
       "Bexley                          152                     12            90   \n",
       "Brent                           267                     22           191   \n",
       "Bromley                         169                     10           150   \n",
       "Camden                          625                      9           163   \n",
       "City of London                   37                      0             4   \n",
       "Croydon                         304                     11           200   \n",
       "Ealing                          257                     15           170   \n",
       "Enfield                         250                     13           124   \n",
       "Greenwich                       217                     10           155   \n",
       "Hackney                         301                     10           154   \n",
       "Hammersmith and Fulham          240                     13           117   \n",
       "Haringey                        297                     13           144   \n",
       "Harrow                          149                     10            77   \n",
       "Havering                        152                     11           124   \n",
       "Hillingdon                      256                     12           140   \n",
       "Hounslow                        235                      8           148   \n",
       "Islington                       325                     10           181   \n",
       "Kensington and Chelsea          316                      6            92   \n",
       "Kingston upon Thames            123                      5            63   \n",
       "Lambeth                         423                     13           182   \n",
       "Lewisham                        286                     19           168   \n",
       "Merton                          139                     13            95   \n",
       "Newham                          371                     18           177   \n",
       "Redbridge                       202                      3           123   \n",
       "Richmond upon Thames             96                      6            64   \n",
       "Southwark                       453                     21           144   \n",
       "Sutton                          109                      6            77   \n",
       "Tower Hamlets                   335                     25           176   \n",
       "Waltham Forest                  198                      8           118   \n",
       "Wandsworth                      251                     10           132   \n",
       "Westminster                    1545                     38           286   \n",
       "\n",
       "Crime type              Robbery  Shoplifting  Theft from the person  \\\n",
       "Borough                                                               \n",
       "Barking and Dagenham         31           40                     26   \n",
       "Barnet                       49          108                     66   \n",
       "Bexley                       29           56                     14   \n",
       "Brent                        78          131                     68   \n",
       "Bromley                      31          154                     25   \n",
       "Camden                       86           93                    283   \n",
       "City of London                6            1                     29   \n",
       "Croydon                     122          112                     58   \n",
       "Ealing                       46           93                     48   \n",
       "Enfield                     100           77                     72   \n",
       "Greenwich                    64          106                     39   \n",
       "Hackney                     102           64                    208   \n",
       "Hammersmith and Fulham       50           82                     61   \n",
       "Haringey                    134           90                    145   \n",
       "Harrow                       33           44                     44   \n",
       "Havering                     26           78                     23   \n",
       "Hillingdon                   30          123                     39   \n",
       "Hounslow                     33           83                     47   \n",
       "Islington                    70          133                    209   \n",
       "Kensington and Chelsea       57           71                    103   \n",
       "Kingston upon Thames         15           52                     22   \n",
       "Lambeth                     117          149                    162   \n",
       "Lewisham                     46          116                     52   \n",
       "Merton                       49           68                     17   \n",
       "Newham                       89          120                    140   \n",
       "Redbridge                    63          103                     65   \n",
       "Richmond upon Thames         19           44                     11   \n",
       "Southwark                   118           99                    205   \n",
       "Sutton                       30           75                     20   \n",
       "Tower Hamlets                73          102                     99   \n",
       "Waltham Forest               53           74                     53   \n",
       "Wandsworth                   43           99                     64   \n",
       "Westminster                 177          290                    923   \n",
       "\n",
       "Crime type              Vehicle crime  Violence and sexual offences  \n",
       "Borough                                                              \n",
       "Barking and Dagenham              265                           575  \n",
       "Barnet                            464                           655  \n",
       "Bexley                            207                           498  \n",
       "Brent                             334                           859  \n",
       "Bromley                           260                           589  \n",
       "Camden                            334                           583  \n",
       "City of London                      1                            17  \n",
       "Croydon                           449                           979  \n",
       "Ealing                            328                           803  \n",
       "Enfield                           454                           730  \n",
       "Greenwich                         311                           724  \n",
       "Hackney                           240                           680  \n",
       "Hammersmith and Fulham            265                           423  \n",
       "Haringey                          409                           683  \n",
       "Harrow                            204                           419  \n",
       "Havering                          256                           536  \n",
       "Hillingdon                        364                           750  \n",
       "Hounslow                          258                           668  \n",
       "Islington                         211                           609  \n",
       "Kensington and Chelsea            179                           364  \n",
       "Kingston upon Thames              127                           304  \n",
       "Lambeth                           198                           750  \n",
       "Lewisham                          316                           753  \n",
       "Merton                            153                           382  \n",
       "Newham                            399                           808  \n",
       "Redbridge                         385                           623  \n",
       "Richmond upon Thames              188                           269  \n",
       "Southwark                         236                           685  \n",
       "Sutton                            191                           349  \n",
       "Tower Hamlets                     293                           797  \n",
       "Waltham Forest                    327                           591  \n",
       "Wandsworth                        259                           603  \n",
       "Westminster                       277                           882  "
      ]
     },
     "execution_count": 28,
     "metadata": {},
     "output_type": "execute_result"
    }
   ],
   "source": [
    "df_crossed"
   ]
  },
  {
   "cell_type": "markdown",
   "metadata": {
    "id": "GNwpyBz9tGHM"
   },
   "source": [
    "#### Heatmap of crosstab"
   ]
  },
  {
   "cell_type": "code",
   "execution_count": 29,
   "metadata": {
    "colab": {
     "base_uri": "https://localhost:8080/",
     "height": 742
    },
    "id": "UMq_d-owroMh",
    "outputId": "d6401a69-a711-4145-bb4c-a52daccd0694"
   },
   "outputs": [
    {
     "data": {
      "text/plain": [
       "<AxesSubplot:xlabel='Crime type', ylabel='Borough'>"
      ]
     },
     "execution_count": 29,
     "metadata": {},
     "output_type": "execute_result"
    },
    {
     "data": {
      "image/png": "[encoded data removed]",
      "text/plain": [
       "<Figure size 1500x1000 with 2 Axes>"
      ]
     },
     "metadata": {},
     "output_type": "display_data"
    }
   ],
   "source": [
    "sns.heatmap(df_crossed)"
   ]
  },
  {
   "cell_type": "markdown",
   "metadata": {
    "id": "DYsbBRb2jkRl"
   },
   "source": [
    "**Task:** Would it make sense to show only specific columns? Which ones?"
   ]
  },
  {
   "cell_type": "markdown",
   "metadata": {
    "id": "_33rUzsqWrv8"
   },
   "source": [
    "# Output\n",
    "You can save a dataframe in various formats. The most-used methods for writing to file are `to_excel()` and `to_csv()`, and (more simply) copying to clipboard for pasting into Excel or similar software using `to_clipboard()`."
   ]
  },
  {
   "cell_type": "markdown",
   "metadata": {},
   "source": [
    "First, list your dataframes, using the `%who_ls` magic method."
   ]
  },
  {
   "cell_type": "code",
   "execution_count": null,
   "metadata": {},
   "outputs": [],
   "source": [
    "# List all the dataframes in the notebook\n",
    "%who_ls DataFrame"
   ]
  },
  {
   "cell_type": "markdown",
   "metadata": {
    "id": "ejDDFjWVZi3N"
   },
   "source": [
    "## Copy to clipboard\n",
    "The commonly used to_clipboard() method is good for copy/pasting small datasets into Excel (or other spreadsheet software) on the fly."
   ]
  },
  {
   "cell_type": "code",
   "execution_count": 33,
   "metadata": {},
   "outputs": [],
   "source": [
    "# Flatten the dataframe\n",
    "df_crossed.reset_index(inplace=True)"
   ]
  },
  {
   "cell_type": "code",
   "execution_count": 34,
   "metadata": {
    "colab": {
     "base_uri": "https://localhost:8080/",
     "height": 394
    },
    "id": "EARsEvWMZIan",
    "outputId": "b434e390-9ecb-4ec7-a6b4-2917efeba1ab"
   },
   "outputs": [],
   "source": [
    "# Copy to clipboard\n",
    "df_crossed.to_clipboard(index=False)"
   ]
  },
  {
   "cell_type": "code",
   "execution_count": null,
   "metadata": {
    "id": "nI7sLe1lZx3V"
   },
   "outputs": [],
   "source": []
  }
 ],
 "metadata": {
  "colab": {
   "collapsed_sections": [],
   "provenance": []
  },
  "kernelspec": {
   "display_name": "Python 3.9.5 ('shed_py39')",
   "language": "python",
   "name": "python3"
  },
  "language_info": {
   "codemirror_mode": {
    "name": "ipython",
    "version": 3
   },
   "file_extension": ".py",
   "mimetype": "text/x-python",
   "name": "python",
   "nbconvert_exporter": "python",
   "pygments_lexer": "ipython3",
   "version": "3.9.5"
  },
  "vscode": {
   "interpreter": {
    "hash": "c97e556b2123b92f5d28ca63fa8445826cb82f9f2ab925961a94fd4b4dde06e6"
   }
  }
 },
 "nbformat": 4,
 "nbformat_minor": 1
}
