{
  "cells": [
    {
      "cell_type": "markdown",
      "metadata": {
        "id": "yOwPcxey20s4"
      },
      "source": [
        "# Workshop 1\n",
        "After this workshop you will be able to...\n",
        "* Use a notebook in a programming environment to write and run Python code. \n",
        "* Write basic statements using Python syntax. \n",
        "* Define, print and update variables. \n",
        "* Use Python for arithmetic operations. \n",
        "* Read a data file into a Python environment. \n"
      ]
    },
    {
      "cell_type": "markdown",
      "metadata": {
        "id": "pdNBz8umyYJn"
      },
      "source": [
        "## To start with...\n",
        "Python is a \"high level\" programming language (the lower the level, the closer to machine code it is), relatively close to recognisable English (for a programming language).\n",
        "\n",
        "Its great strength is the size and variety of the \"ecosystem\" of practitioners using the language, and the large pool of *libraries* (software) available to extend the functionality of Python code. Some of these libraries are powerful software in themselves (e.g., [pandas](https://pandas.pydata.org/) for data analysis).\n",
        "\n",
        "Jupyter and Colab: An interactive coding environment where you can execute code in individual cells. This allows you to write your code in short blocks that can be run sequentially.\n",
        "\n",
        "Notebooks also allow for annotation, using text-formatted blocks (such as this one)."
      ]
    },
    {
      "cell_type": "code",
      "execution_count": null,
      "metadata": {
        "colab": {
          "base_uri": "https://localhost:8080/"
        },
        "id": "ijt8qg7KyZ67",
        "outputId": "59de883f-2621-4b1a-8bde-72bc79b75851"
      },
      "outputs": [],
      "source": [
        "# This is a comment within a code block.\n",
        "print('Welcome to Python!')\n",
        "# Run this code either by pressing the \"play\" button or pressing Shift-Enter"
      ]
    },
    {
      "cell_type": "markdown",
      "metadata": {
        "id": "oHB7-cmd4Bf6"
      },
      "source": [
        "## How to use this notebook\n",
        "*   Make your own copy of this notebook (and the other ones we use in our workshops)\n",
        "*   Shift-Enter to run a cell.\n",
        "*   Click in cells to edit\n",
        "*   Make or edit notes in text format (Markup)"
      ]
    },
    {
      "cell_type": "code",
      "execution_count": null,
      "metadata": {
        "id": "5SEZLqIF1Nb-"
      },
      "outputs": [],
      "source": [
        "# Putting a ! at the start of a line allows you to run terminal commands within the notebook.\n",
        "# This command shows which version of Python is in the current environment.\n",
        "!python --version"
      ]
    },
    {
      "cell_type": "code",
      "execution_count": null,
      "metadata": {
        "colab": {
          "base_uri": "https://localhost:8080/"
        },
        "id": "JMxzy9YS1dA_",
        "outputId": "b98918e1-7fe8-4f18-b7fb-442035238228"
      },
      "outputs": [],
      "source": [
        "# ...and this tells us the libraries available in this environment\n",
        "!conda list"
      ]
    },
    {
      "cell_type": "markdown",
      "metadata": {
        "id": "UE3Ddqs55XRg"
      },
      "source": [
        "## Define, print, update variables"
      ]
    },
    {
      "cell_type": "code",
      "execution_count": null,
      "metadata": {
        "colab": {
          "base_uri": "https://localhost:8080/"
        },
        "id": "V9s8kA9M7ERp",
        "outputId": "300eb615-23c2-4a36-e502-99fd92ecf675"
      },
      "outputs": [],
      "source": [
        "# This is a string variable\n",
        "kid1 = 'Bart'\n",
        "kid2 = 'Lisa'\n",
        "\n",
        "# String variable in text \n",
        "print(kid1+' is sibling of '+kid2)"
      ]
    },
    {
      "cell_type": "markdown",
      "metadata": {
        "id": "KKK9G4lD4WMO"
      },
      "source": [
        "Can you edit the above so that Lisa appears first?"
      ]
    },
    {
      "cell_type": "code",
      "execution_count": null,
      "metadata": {
        "colab": {
          "base_uri": "https://localhost:8080/"
        },
        "id": "LqmcePJw4OJB",
        "outputId": "9b05eb00-4543-4ed0-9f87-3cf05aba49b4"
      },
      "outputs": [],
      "source": [
        "# Join two strings\n",
        "print(kid1+kid2)"
      ]
    },
    {
      "cell_type": "markdown",
      "metadata": {
        "id": "MQqJSd-Q5esI"
      },
      "source": [
        "## Arithmetic operations"
      ]
    },
    {
      "cell_type": "code",
      "execution_count": null,
      "metadata": {
        "colab": {
          "base_uri": "https://localhost:8080/"
        },
        "id": "wHUZbIGx5dTO",
        "outputId": "17039ba9-6064-4494-ff00-6dbfa8dd2c42"
      },
      "outputs": [],
      "source": [
        "# Enter numbers to perform basic arithmetic\n",
        "2 + 1"
      ]
    },
    {
      "cell_type": "code",
      "execution_count": null,
      "metadata": {
        "id": "onm__s3w5g6Y"
      },
      "outputs": [],
      "source": [
        "# Or use variables\n",
        "var1 = 5\n",
        "var2 = 2\n",
        "var1 * var2"
      ]
    },
    {
      "cell_type": "markdown",
      "metadata": {
        "id": "maMDQgDH5hvY"
      },
      "source": [
        "## Read a file into Python"
      ]
    },
    {
      "cell_type": "code",
      "execution_count": null,
      "metadata": {
        "id": "sUo_DpAh5mCG"
      },
      "outputs": [],
      "source": [
        "file = open(\"data\\sample_text.txt\")\n",
        "sample_txt = file.read()\n",
        "print(sample_txt)"
      ]
    },
    {
      "cell_type": "code",
      "execution_count": null,
      "metadata": {},
      "outputs": [],
      "source": []
    }
  ],
  "metadata": {
    "colab": {
      "provenance": [],
      "toc_visible": true
    },
    "kernelspec": {
      "display_name": "Python 3.10.4 ('py310')",
      "language": "python",
      "name": "python3"
    },
    "language_info": {
      "codemirror_mode": {
        "name": "ipython",
        "version": 3
      },
      "file_extension": ".py",
      "mimetype": "text/x-python",
      "name": "python",
      "nbconvert_exporter": "python",
      "pygments_lexer": "ipython3",
      "version": "3.10.4"
    },
    "vscode": {
      "interpreter": {
        "hash": "bb7e28c91e03929dce0cc87071638f3542d33abb15c82bf85f58e7b91f5666fe"
      }
    }
  },
  "nbformat": 4,
  "nbformat_minor": 0
}
