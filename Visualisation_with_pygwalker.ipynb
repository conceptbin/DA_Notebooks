{
  "nbformat": 4,
  "nbformat_minor": 0,
  "metadata": {
    "colab": {
      "provenance": [],
      "toc_visible": true,
      "mount_file_id": "18bWecdHH3dIY2rqlHjUFGEeqGSzvw3YR",
      "authorship_tag": "ABX9TyM9BW7TvbBP2J/ZDddW8Imx",
      "include_colab_link": true
    },
    "kernelspec": {
      "name": "python3",
      "display_name": "Python 3"
    },
    "language_info": {
      "name": "python"
    }
  },
  "cells": [
    {
      "cell_type": "markdown",
      "metadata": {
        "id": "view-in-github",
        "colab_type": "text"
      },
      "source": [
        "<a href=\"https://colab.research.google.com/github/conceptbin/DA_Notebooks/blob/master/Visualisation_with_pygwalker.ipynb\" target=\"_parent\"><img src=\"https://colab.research.google.com/assets/colab-badge.svg\" alt=\"Open In Colab\"/></a>"
      ]
    },
    {
      "cell_type": "code",
      "execution_count": null,
      "metadata": {
        "id": "PxptKYKot73g"
      },
      "outputs": [],
      "source": [
        "# Install PyGWalker library in the Colab environment (only needs to run once in the session)\n",
        "%pip install pygwalker"
      ]
    },
    {
      "cell_type": "code",
      "source": [
        "# Import necessary libraries\n",
        "import pandas as pd\n",
        "import pygwalker as pyg"
      ],
      "metadata": {
        "id": "wErPRuHluBvk"
      },
      "execution_count": null,
      "outputs": []
    },
    {
      "cell_type": "code",
      "source": [
        "# Load data into dataframe\n",
        "df = pd.read_csv('https://github.com/conceptbin/DA_Notebooks/raw/master/pandas-intro/data/2023-08-metropolitan-street.csv')"
      ],
      "metadata": {
        "id": "6SkTbon3ut0j"
      },
      "execution_count": null,
      "outputs": []
    },
    {
      "cell_type": "markdown",
      "source": [
        "# Interative UI for data visualisation (PyGWalker)\n",
        "On first run, loads a blank UI for creating charts and maps from the dataframe."
      ],
      "metadata": {
        "id": "LANkj0HpFUy4"
      }
    },
    {
      "cell_type": "code",
      "source": [
        "# Call up PyGWalker with the dataframe loaded\n",
        "walker = pyg.walk(df)"
      ],
      "metadata": {
        "id": "Mrqw2jxvvHDy"
      },
      "execution_count": null,
      "outputs": []
    },
    {
      "cell_type": "markdown",
      "source": [
        "# Saved visualisation configuration\n",
        "This loads the data with a bar chart and a map already configured: Bar chart (by crime type) and map (filtered by crime type).\n"
      ],
      "metadata": {
        "id": "Fz7wf3pFIVek"
      }
    },
    {
      "cell_type": "code",
      "source": [
        "vis_spec = r\"\"\"{\"config\":\"[{\\\"visId\\\":\\\"gw_dIto\\\",\\\"name\\\":\\\"Crime type comparison: Bar chart\\\",\\\"encodings\\\":{\\\"dimensions\\\":[{\\\"dragId\\\":\\\"gw_rY8A\\\",\\\"fid\\\":\\\"GW_1FV6YO39BH6GYMNK\\\",\\\"name\\\":\\\"Crime ID\\\",\\\"basename\\\":\\\"Crime ID\\\",\\\"semanticType\\\":\\\"nominal\\\",\\\"analyticType\\\":\\\"dimension\\\"},{\\\"dragId\\\":\\\"gw_p8IR\\\",\\\"fid\\\":\\\"GW_5YM2J2Q02LS\\\",\\\"name\\\":\\\"Month\\\",\\\"basename\\\":\\\"Month\\\",\\\"semanticType\\\":\\\"temporal\\\",\\\"analyticType\\\":\\\"dimension\\\"},{\\\"dragId\\\":\\\"gw_GnRv\\\",\\\"fid\\\":\\\"GW_HKWRFULS69SHY9JOFIGG\\\",\\\"name\\\":\\\"Reported by\\\",\\\"basename\\\":\\\"Reported by\\\",\\\"semanticType\\\":\\\"nominal\\\",\\\"analyticType\\\":\\\"dimension\\\"},{\\\"dragId\\\":\\\"gw_IsEV\\\",\\\"fid\\\":\\\"GW_2YSD6O2OJIMUVA61UURPDC\\\",\\\"name\\\":\\\"Falls within\\\",\\\"basename\\\":\\\"Falls within\\\",\\\"semanticType\\\":\\\"nominal\\\",\\\"analyticType\\\":\\\"dimension\\\"},{\\\"dragId\\\":\\\"gw_1g6k\\\",\\\"fid\\\":\\\"GW_BLZAOYDFY3BJKH44W\\\",\\\"name\\\":\\\"Longitude\\\",\\\"basename\\\":\\\"Longitude\\\",\\\"semanticType\\\":\\\"quantitative\\\",\\\"analyticType\\\":\\\"dimension\\\"},{\\\"dragId\\\":\\\"gw_fXyv\\\",\\\"fid\\\":\\\"GW_1MQIJ2SBOWWHEASW\\\",\\\"name\\\":\\\"Latitude\\\",\\\"basename\\\":\\\"Latitude\\\",\\\"semanticType\\\":\\\"quantitative\\\",\\\"analyticType\\\":\\\"dimension\\\"},{\\\"dragId\\\":\\\"gw_rIAA\\\",\\\"fid\\\":\\\"GW_1MS0RUKX1G1LZI28\\\",\\\"name\\\":\\\"Location\\\",\\\"basename\\\":\\\"Location\\\",\\\"semanticType\\\":\\\"nominal\\\",\\\"analyticType\\\":\\\"dimension\\\"},{\\\"dragId\\\":\\\"gw_EzQT\\\",\\\"fid\\\":\\\"GW_BLDO6BMKA1OKKJZN4\\\",\\\"name\\\":\\\"LSOA code\\\",\\\"basename\\\":\\\"LSOA code\\\",\\\"semanticType\\\":\\\"nominal\\\",\\\"analyticType\\\":\\\"dimension\\\"},{\\\"dragId\\\":\\\"gw_JZk7\\\",\\\"fid\\\":\\\"GW_BLDO6BMKEB97O22WG\\\",\\\"name\\\":\\\"LSOA name\\\",\\\"basename\\\":\\\"LSOA name\\\",\\\"semanticType\\\":\\\"nominal\\\",\\\"analyticType\\\":\\\"dimension\\\"},{\\\"dragId\\\":\\\"gw__nE-\\\",\\\"fid\\\":\\\"GW_20US1VTBGKUH0RVFWVK\\\",\\\"name\\\":\\\"Crime type\\\",\\\"basename\\\":\\\"Crime type\\\",\\\"semanticType\\\":\\\"nominal\\\",\\\"analyticType\\\":\\\"dimension\\\"},{\\\"dragId\\\":\\\"gw_yqsS\\\",\\\"fid\\\":\\\"GW_2H4C6ICTPLMS60565J0K7DRQCOTB8FVMC9WW\\\",\\\"name\\\":\\\"Last outcome category\\\",\\\"basename\\\":\\\"Last outcome category\\\",\\\"semanticType\\\":\\\"nominal\\\",\\\"analyticType\\\":\\\"dimension\\\"},{\\\"dragId\\\":\\\"gw_mea_key_fid\\\",\\\"fid\\\":\\\"gw_mea_key_fid\\\",\\\"name\\\":\\\"Measure names\\\",\\\"analyticType\\\":\\\"dimension\\\",\\\"semanticType\\\":\\\"nominal\\\"}],\\\"measures\\\":[{\\\"dragId\\\":\\\"gw_DV_N\\\",\\\"fid\\\":\\\"GW_7AJ19F7CBSV7E8\\\",\\\"name\\\":\\\"Context\\\",\\\"basename\\\":\\\"Context\\\",\\\"analyticType\\\":\\\"measure\\\",\\\"semanticType\\\":\\\"nominal\\\",\\\"aggName\\\":\\\"sum\\\"},{\\\"dragId\\\":\\\"gw_count_fid\\\",\\\"fid\\\":\\\"gw_count_fid\\\",\\\"name\\\":\\\"Row count\\\",\\\"analyticType\\\":\\\"measure\\\",\\\"semanticType\\\":\\\"quantitative\\\",\\\"aggName\\\":\\\"sum\\\",\\\"computed\\\":true,\\\"expression\\\":{\\\"op\\\":\\\"one\\\",\\\"params\\\":[],\\\"as\\\":\\\"gw_count_fid\\\"}},{\\\"dragId\\\":\\\"gw_mea_val_fid\\\",\\\"fid\\\":\\\"gw_mea_val_fid\\\",\\\"name\\\":\\\"Measure values\\\",\\\"analyticType\\\":\\\"measure\\\",\\\"semanticType\\\":\\\"quantitative\\\",\\\"aggName\\\":\\\"sum\\\"}],\\\"rows\\\":[{\\\"dragId\\\":\\\"gw_nfO4\\\",\\\"fid\\\":\\\"GW_20US1VTBGKUH0RVFWVK\\\",\\\"name\\\":\\\"Crime type\\\",\\\"basename\\\":\\\"Crime type\\\",\\\"semanticType\\\":\\\"nominal\\\",\\\"analyticType\\\":\\\"dimension\\\"}],\\\"columns\\\":[{\\\"dragId\\\":\\\"gw_xbhK\\\",\\\"fid\\\":\\\"gw_count_fid\\\",\\\"name\\\":\\\"Row count\\\",\\\"analyticType\\\":\\\"measure\\\",\\\"semanticType\\\":\\\"quantitative\\\",\\\"aggName\\\":\\\"sum\\\",\\\"computed\\\":true,\\\"expression\\\":{\\\"op\\\":\\\"one\\\",\\\"params\\\":[],\\\"as\\\":\\\"gw_count_fid\\\"}}],\\\"color\\\":[],\\\"opacity\\\":[],\\\"size\\\":[],\\\"shape\\\":[],\\\"radius\\\":[],\\\"theta\\\":[],\\\"longitude\\\":[],\\\"latitude\\\":[],\\\"geoId\\\":[],\\\"details\\\":[],\\\"filters\\\":[],\\\"text\\\":[]},\\\"config\\\":{\\\"defaultAggregated\\\":true,\\\"geoms\\\":[\\\"auto\\\"],\\\"showTableSummary\\\":false,\\\"coordSystem\\\":\\\"generic\\\",\\\"stack\\\":\\\"stack\\\",\\\"showActions\\\":false,\\\"interactiveScale\\\":false,\\\"sorted\\\":\\\"none\\\",\\\"zeroScale\\\":true,\\\"scaleIncludeUnmatchedChoropleth\\\":false,\\\"size\\\":{\\\"mode\\\":\\\"auto\\\",\\\"width\\\":320,\\\"height\\\":200},\\\"format\\\":{},\\\"geoKey\\\":\\\"name\\\",\\\"resolve\\\":{\\\"x\\\":false,\\\"y\\\":false,\\\"color\\\":false,\\\"opacity\\\":false,\\\"shape\\\":false,\\\"size\\\":false},\\\"limit\\\":-1}},{\\\"visId\\\":\\\"gw_78k-\\\",\\\"name\\\":\\\"Map\\\",\\\"encodings\\\":{\\\"dimensions\\\":[{\\\"dragId\\\":\\\"gw_adQN\\\",\\\"fid\\\":\\\"GW_1FV6YO39BH6GYMNK\\\",\\\"name\\\":\\\"Crime ID\\\",\\\"basename\\\":\\\"Crime ID\\\",\\\"semanticType\\\":\\\"nominal\\\",\\\"analyticType\\\":\\\"dimension\\\"},{\\\"dragId\\\":\\\"gw_m5Dd\\\",\\\"fid\\\":\\\"GW_5YM2J2Q02LS\\\",\\\"name\\\":\\\"Month\\\",\\\"basename\\\":\\\"Month\\\",\\\"semanticType\\\":\\\"temporal\\\",\\\"analyticType\\\":\\\"dimension\\\"},{\\\"dragId\\\":\\\"gw_acdv\\\",\\\"fid\\\":\\\"GW_HKWRFULS69SHY9JOFIGG\\\",\\\"name\\\":\\\"Reported by\\\",\\\"basename\\\":\\\"Reported by\\\",\\\"semanticType\\\":\\\"nominal\\\",\\\"analyticType\\\":\\\"dimension\\\"},{\\\"dragId\\\":\\\"gw_wmm3\\\",\\\"fid\\\":\\\"GW_2YSD6O2OJIMUVA61UURPDC\\\",\\\"name\\\":\\\"Falls within\\\",\\\"basename\\\":\\\"Falls within\\\",\\\"semanticType\\\":\\\"nominal\\\",\\\"analyticType\\\":\\\"dimension\\\"},{\\\"dragId\\\":\\\"gw_7h_f\\\",\\\"fid\\\":\\\"GW_BLZAOYDFY3BJKH44W\\\",\\\"name\\\":\\\"Longitude\\\",\\\"basename\\\":\\\"Longitude\\\",\\\"semanticType\\\":\\\"quantitative\\\",\\\"analyticType\\\":\\\"dimension\\\"},{\\\"dragId\\\":\\\"gw_RwBO\\\",\\\"fid\\\":\\\"GW_1MQIJ2SBOWWHEASW\\\",\\\"name\\\":\\\"Latitude\\\",\\\"basename\\\":\\\"Latitude\\\",\\\"semanticType\\\":\\\"quantitative\\\",\\\"analyticType\\\":\\\"dimension\\\"},{\\\"dragId\\\":\\\"gw_8bKN\\\",\\\"fid\\\":\\\"GW_1MS0RUKX1G1LZI28\\\",\\\"name\\\":\\\"Location\\\",\\\"basename\\\":\\\"Location\\\",\\\"semanticType\\\":\\\"nominal\\\",\\\"analyticType\\\":\\\"dimension\\\"},{\\\"dragId\\\":\\\"gw_Gz86\\\",\\\"fid\\\":\\\"GW_BLDO6BMKA1OKKJZN4\\\",\\\"name\\\":\\\"LSOA code\\\",\\\"basename\\\":\\\"LSOA code\\\",\\\"semanticType\\\":\\\"nominal\\\",\\\"analyticType\\\":\\\"dimension\\\"},{\\\"dragId\\\":\\\"gw_CMwV\\\",\\\"fid\\\":\\\"GW_BLDO6BMKEB97O22WG\\\",\\\"name\\\":\\\"LSOA name\\\",\\\"basename\\\":\\\"LSOA name\\\",\\\"semanticType\\\":\\\"nominal\\\",\\\"analyticType\\\":\\\"dimension\\\"},{\\\"dragId\\\":\\\"gw_6nX3\\\",\\\"fid\\\":\\\"GW_20US1VTBGKUH0RVFWVK\\\",\\\"name\\\":\\\"Crime type\\\",\\\"basename\\\":\\\"Crime type\\\",\\\"semanticType\\\":\\\"nominal\\\",\\\"analyticType\\\":\\\"dimension\\\"},{\\\"dragId\\\":\\\"gw_CW9_\\\",\\\"fid\\\":\\\"GW_2H4C6ICTPLMS60565J0K7DRQCOTB8FVMC9WW\\\",\\\"name\\\":\\\"Last outcome category\\\",\\\"basename\\\":\\\"Last outcome category\\\",\\\"semanticType\\\":\\\"nominal\\\",\\\"analyticType\\\":\\\"dimension\\\"},{\\\"dragId\\\":\\\"gw_mea_key_fid\\\",\\\"fid\\\":\\\"gw_mea_key_fid\\\",\\\"name\\\":\\\"Measure names\\\",\\\"analyticType\\\":\\\"dimension\\\",\\\"semanticType\\\":\\\"nominal\\\"}],\\\"measures\\\":[{\\\"dragId\\\":\\\"gw_r84L\\\",\\\"fid\\\":\\\"GW_7AJ19F7CBSV7E8\\\",\\\"name\\\":\\\"Context\\\",\\\"basename\\\":\\\"Context\\\",\\\"analyticType\\\":\\\"measure\\\",\\\"semanticType\\\":\\\"nominal\\\",\\\"aggName\\\":\\\"sum\\\"},{\\\"dragId\\\":\\\"gw_count_fid\\\",\\\"fid\\\":\\\"gw_count_fid\\\",\\\"name\\\":\\\"Row count\\\",\\\"analyticType\\\":\\\"measure\\\",\\\"semanticType\\\":\\\"quantitative\\\",\\\"aggName\\\":\\\"sum\\\",\\\"computed\\\":true,\\\"expression\\\":{\\\"op\\\":\\\"one\\\",\\\"params\\\":[],\\\"as\\\":\\\"gw_count_fid\\\"}},{\\\"dragId\\\":\\\"gw_mea_val_fid\\\",\\\"fid\\\":\\\"gw_mea_val_fid\\\",\\\"name\\\":\\\"Measure values\\\",\\\"analyticType\\\":\\\"measure\\\",\\\"semanticType\\\":\\\"quantitative\\\",\\\"aggName\\\":\\\"sum\\\"}],\\\"rows\\\":[{\\\"dragId\\\":\\\"gw_O9wP\\\",\\\"fid\\\":\\\"GW_1MQIJ2SBOWWHEASW\\\",\\\"name\\\":\\\"Latitude\\\",\\\"basename\\\":\\\"Latitude\\\",\\\"semanticType\\\":\\\"quantitative\\\",\\\"analyticType\\\":\\\"dimension\\\"}],\\\"columns\\\":[{\\\"dragId\\\":\\\"gw_VwUQ\\\",\\\"fid\\\":\\\"GW_BLZAOYDFY3BJKH44W\\\",\\\"name\\\":\\\"Longitude\\\",\\\"basename\\\":\\\"Longitude\\\",\\\"semanticType\\\":\\\"quantitative\\\",\\\"analyticType\\\":\\\"dimension\\\"}],\\\"color\\\":[],\\\"opacity\\\":[],\\\"size\\\":[],\\\"shape\\\":[],\\\"radius\\\":[],\\\"theta\\\":[],\\\"longitude\\\":[{\\\"dragId\\\":\\\"gw_XBmn\\\",\\\"fid\\\":\\\"GW_BLZAOYDFY3BJKH44W\\\",\\\"name\\\":\\\"Longitude\\\",\\\"basename\\\":\\\"Longitude\\\",\\\"semanticType\\\":\\\"quantitative\\\",\\\"analyticType\\\":\\\"dimension\\\"}],\\\"latitude\\\":[{\\\"dragId\\\":\\\"gw_1-8y\\\",\\\"fid\\\":\\\"GW_1MQIJ2SBOWWHEASW\\\",\\\"name\\\":\\\"Latitude\\\",\\\"basename\\\":\\\"Latitude\\\",\\\"semanticType\\\":\\\"quantitative\\\",\\\"analyticType\\\":\\\"dimension\\\"}],\\\"geoId\\\":[],\\\"details\\\":[{\\\"dragId\\\":\\\"gw_o15r\\\",\\\"fid\\\":\\\"GW_20US1VTBGKUH0RVFWVK\\\",\\\"name\\\":\\\"Crime type\\\",\\\"basename\\\":\\\"Crime type\\\",\\\"semanticType\\\":\\\"nominal\\\",\\\"analyticType\\\":\\\"dimension\\\"}],\\\"filters\\\":[{\\\"dragId\\\":\\\"gw_lRMm\\\",\\\"fid\\\":\\\"GW_20US1VTBGKUH0RVFWVK\\\",\\\"name\\\":\\\"Crime type\\\",\\\"basename\\\":\\\"Crime type\\\",\\\"semanticType\\\":\\\"nominal\\\",\\\"analyticType\\\":\\\"dimension\\\",\\\"rule\\\":{\\\"type\\\":\\\"one of\\\",\\\"value\\\":[\\\"Bicycle theft\\\"]}}],\\\"text\\\":[]},\\\"config\\\":{\\\"defaultAggregated\\\":true,\\\"geoms\\\":[\\\"poi\\\"],\\\"showTableSummary\\\":false,\\\"coordSystem\\\":\\\"geographic\\\",\\\"stack\\\":\\\"stack\\\",\\\"showActions\\\":false,\\\"interactiveScale\\\":false,\\\"sorted\\\":\\\"none\\\",\\\"zeroScale\\\":true,\\\"scaleIncludeUnmatchedChoropleth\\\":false,\\\"size\\\":{\\\"mode\\\":\\\"auto\\\",\\\"width\\\":800,\\\"height\\\":600},\\\"format\\\":{},\\\"geoKey\\\":\\\"name\\\",\\\"resolve\\\":{\\\"x\\\":false,\\\"y\\\":false,\\\"color\\\":false,\\\"opacity\\\":false,\\\"shape\\\":false,\\\"size\\\":false},\\\"limit\\\":-1}}]\",\"chart_map\":{},\"version\":\"0.3.9\"}\"\"\"\n",
        "pyg.walk(df, spec=vis_spec)"
      ],
      "metadata": {
        "id": "CgdSvfjQvW28"
      },
      "execution_count": null,
      "outputs": []
    },
    {
      "cell_type": "code",
      "source": [],
      "metadata": {
        "id": "QkxI1xGJJD1H"
      },
      "execution_count": null,
      "outputs": []
    }
  ]
}