{
  "nbformat": 4,
  "nbformat_minor": 0,
  "metadata": {
    "colab": {
      "provenance": [],
      "toc_visible": true,
      "mount_file_id": "1DRjAh3sLobgEG6BsyrKdFo9iu5Gpfc6r",
      "authorship_tag": "ABX9TyOcpP+6Les3Cj29dOagLAeY",
      "include_colab_link": true
    },
    "kernelspec": {
      "name": "python3",
      "display_name": "Python 3"
    },
    "language_info": {
      "name": "python"
    }
  },
  "cells": [
    {
      "cell_type": "markdown",
      "metadata": {
        "id": "view-in-github",
        "colab_type": "text"
      },
      "source": [
        "<a href=\"https://colab.research.google.com/github/conceptbin/DA_Notebooks/blob/master/INTRO_Why_Python.ipynb\" target=\"_parent\"><img src=\"https://colab.research.google.com/assets/colab-badge.svg\" alt=\"Open In Colab\"/></a>"
      ]
    },
    {
      "cell_type": "markdown",
      "source": [
        "\"One reason I love programming is that it’s a cross between magic spells and LEGO.\" (Cassie Kozyrkov, [\"Understanding Data\"](https://medium.com/towards-data-science/what-is-data-8f94ae3a56b4))"
      ],
      "metadata": {
        "id": "cmPfXLQdb09I"
      }
    },
    {
      "cell_type": "code",
      "source": [
        "# Load libraries\n",
        "import pandas as pd\n",
        "import seaborn as sns"
      ],
      "metadata": {
        "id": "tMpHq5wh1tDG"
      },
      "execution_count": null,
      "outputs": []
    },
    {
      "cell_type": "markdown",
      "source": [
        "# Example 1: Numerical data\n",
        "First, let's load some simple numerical data. Here we look at the UK 2021 Census dataset on towns and housing ([source](https://www.ons.gov.uk/peoplepopulationandcommunity/housing/datasets/townsandcitiesanalysis))"
      ],
      "metadata": {
        "id": "z6OTJ1N-y9ey"
      }
    },
    {
      "cell_type": "code",
      "source": [
        "# Load data into dataframe (df_hs)\n",
        "housing_url = 'https://github.com/conceptbin/DA_Notebooks/raw/master/py-intro/data/UK2021census_town_population.csv'\n",
        "df_hs = pd.read_csv(housing_url)"
      ],
      "metadata": {
        "id": "GKhW31SrpeT5"
      },
      "execution_count": null,
      "outputs": []
    },
    {
      "cell_type": "code",
      "source": [
        "# Display the dataframe\n",
        "df_hs"
      ],
      "metadata": {
        "id": "O4kQ2Wrcybb5"
      },
      "execution_count": null,
      "outputs": []
    },
    {
      "cell_type": "markdown",
      "source": [
        "## Describe the data\n",
        "Let's try some functions to summarise the data ([full tutorial here](https://pandas.pydata.org/docs/getting_started/intro_tutorials/06_calculate_statistics.html)):"
      ],
      "metadata": {
        "id": "R7rxhDhdyZJy"
      }
    },
    {
      "cell_type": "code",
      "source": [
        "df_hs.info()"
      ],
      "metadata": {
        "id": "8kOCkb1opeAN"
      },
      "execution_count": null,
      "outputs": []
    },
    {
      "cell_type": "code",
      "source": [
        "df_hs.describe()"
      ],
      "metadata": {
        "id": "Dr85pozhpd9Z"
      },
      "execution_count": null,
      "outputs": []
    },
    {
      "cell_type": "code",
      "source": [
        "df_hs.keys()"
      ],
      "metadata": {
        "id": "fKFKukq5AbcK"
      },
      "execution_count": null,
      "outputs": []
    },
    {
      "cell_type": "code",
      "source": [
        "df_hs.sort_values(by='Population aged 0-15 ', ascending=False)[:10]"
      ],
      "metadata": {
        "id": "Vprkh9nJAbIW"
      },
      "execution_count": null,
      "outputs": []
    },
    {
      "cell_type": "markdown",
      "source": [
        "Histogram, using Seaborn, histplot(), bin width of 1."
      ],
      "metadata": {
        "id": "_KuB5jZJFKbj"
      }
    },
    {
      "cell_type": "code",
      "source": [
        "sns.histplot(data=df_hs, x='Population aged 0-15 ', binwidth=1)"
      ],
      "metadata": {
        "id": "haRxEK67CYks"
      },
      "execution_count": null,
      "outputs": []
    },
    {
      "cell_type": "code",
      "source": [
        "sns.boxplot(data=df_hs, y='Population aged 0-15 ')"
      ],
      "metadata": {
        "id": "3HOkJ3D2HYW0"
      },
      "execution_count": null,
      "outputs": []
    },
    {
      "cell_type": "code",
      "source": [
        "df_hs"
      ],
      "metadata": {
        "id": "CsmsgCxjIqje"
      },
      "execution_count": null,
      "outputs": []
    },
    {
      "cell_type": "markdown",
      "source": [
        "# Example 2: Categorical data\n",
        "This dataset comes from the British Library's [Open Datasets collection](https://www.bl.uk/collection-metadata/downloads)."
      ],
      "metadata": {
        "id": "7QMFE-sExFSG"
      }
    },
    {
      "cell_type": "code",
      "source": [
        "data_url = r'https://github.com/conceptbin/DA_Notebooks/raw/master/py-intro/data/punk_topics.csv'\n",
        "df_punk = pd.read_csv(data_url)"
      ],
      "metadata": {
        "id": "05nuVDPJOk1U"
      },
      "execution_count": null,
      "outputs": []
    },
    {
      "cell_type": "code",
      "source": [
        "df_punk.info()"
      ],
      "metadata": {
        "id": "LfteiDS2vbOH"
      },
      "execution_count": null,
      "outputs": []
    },
    {
      "cell_type": "code",
      "source": [
        "df_punk.groupby(by=[\"Topic\"]).count()"
      ],
      "metadata": {
        "id": "K5yAfoTSRCge"
      },
      "execution_count": null,
      "outputs": []
    },
    {
      "cell_type": "code",
      "source": [
        "df_punk.groupby(['Topic'])['BL record ID'].agg('count').reset_index().sort_values(by='BL record ID', ascending=False)[:20]"
      ],
      "metadata": {
        "id": "xAc2MkmcOhDR"
      },
      "execution_count": null,
      "outputs": []
    },
    {
      "cell_type": "code",
      "source": [
        "df_punk['Topic'].unique()"
      ],
      "metadata": {
        "id": "se5Q7Pn0SgLM"
      },
      "execution_count": null,
      "outputs": []
    },
    {
      "cell_type": "code",
      "source": [],
      "metadata": {
        "id": "8E8GPtLbvb-e"
      },
      "execution_count": null,
      "outputs": []
    }
  ]
}