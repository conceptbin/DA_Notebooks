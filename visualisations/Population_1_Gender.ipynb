{
  "cells": [
    {
      "cell_type": "markdown",
      "metadata": {
        "id": "TjSnuT5uVknz"
      },
      "source": [
        "# UN population projection by gender"
      ]
    },
    {
      "cell_type": "code",
      "execution_count": 56,
      "metadata": {
        "id": "armO3RNVVYya"
      },
      "outputs": [],
      "source": [
        "# Import libraries\n",
        "import pandas as pd\n",
        "import seaborn as sns"
      ]
    },
    {
      "cell_type": "markdown",
      "metadata": {
        "id": "lvc7n_BSr4_5"
      },
      "source": [
        "Dataset: [UN World Population Prospects 2022](https://population.un.org/wpp/Download/Standard/CSV/) in CSV format. Follow the link for the full explanation of what each category (column) means. Population numbers are written in thousands (i.e., 1000 = 1 mil)."
      ]
    },
    {
      "cell_type": "code",
      "execution_count": 57,
      "metadata": {},
      "outputs": [],
      "source": [
        "# Load data from local file\n",
        "file_url = r'data\\WPP2022_TotalPopulationBySex.csv' # Path in Win11 format. You need to re-enter the path for Mac/Linux\n",
        "df = pd.read_csv(file_url, low_memory=False)"
      ]
    },
    {
      "cell_type": "code",
      "execution_count": 58,
      "metadata": {
        "colab": {
          "base_uri": "https://localhost:8080/",
          "height": 206
        },
        "id": "wO7-UohXtuqP",
        "outputId": "93a03e0f-c164-4aef-e90b-ca3022028eec"
      },
      "outputs": [
        {
          "data": {
            "text/html": [
              "<div>\n",
              "<style scoped>\n",
              "    .dataframe tbody tr th:only-of-type {\n",
              "        vertical-align: middle;\n",
              "    }\n",
              "\n",
              "    .dataframe tbody tr th {\n",
              "        vertical-align: top;\n",
              "    }\n",
              "\n",
              "    .dataframe thead th {\n",
              "        text-align: right;\n",
              "    }\n",
              "</style>\n",
              "<table border=\"1\" class=\"dataframe\">\n",
              "  <thead>\n",
              "    <tr style=\"text-align: right;\">\n",
              "      <th></th>\n",
              "      <th>SortOrder</th>\n",
              "      <th>LocID</th>\n",
              "      <th>Notes</th>\n",
              "      <th>ISO3_code</th>\n",
              "      <th>ISO2_code</th>\n",
              "      <th>SDMX_code</th>\n",
              "      <th>LocTypeID</th>\n",
              "      <th>LocTypeName</th>\n",
              "      <th>ParentID</th>\n",
              "      <th>Location</th>\n",
              "      <th>VarID</th>\n",
              "      <th>Variant</th>\n",
              "      <th>Time</th>\n",
              "      <th>MidPeriod</th>\n",
              "      <th>PopMale</th>\n",
              "      <th>PopFemale</th>\n",
              "      <th>PopTotal</th>\n",
              "      <th>PopDensity</th>\n",
              "    </tr>\n",
              "  </thead>\n",
              "  <tbody>\n",
              "    <tr>\n",
              "      <th>0</th>\n",
              "      <td>1</td>\n",
              "      <td>900</td>\n",
              "      <td>NaN</td>\n",
              "      <td>NaN</td>\n",
              "      <td>NaN</td>\n",
              "      <td>1.0</td>\n",
              "      <td>1</td>\n",
              "      <td>World</td>\n",
              "      <td>0</td>\n",
              "      <td>World</td>\n",
              "      <td>2</td>\n",
              "      <td>Medium</td>\n",
              "      <td>1950</td>\n",
              "      <td>1950.5</td>\n",
              "      <td>1245362.965</td>\n",
              "      <td>1253959.192</td>\n",
              "      <td>2499322.157</td>\n",
              "      <td>19.166</td>\n",
              "    </tr>\n",
              "    <tr>\n",
              "      <th>1</th>\n",
              "      <td>1</td>\n",
              "      <td>900</td>\n",
              "      <td>NaN</td>\n",
              "      <td>NaN</td>\n",
              "      <td>NaN</td>\n",
              "      <td>1.0</td>\n",
              "      <td>1</td>\n",
              "      <td>World</td>\n",
              "      <td>0</td>\n",
              "      <td>World</td>\n",
              "      <td>2</td>\n",
              "      <td>Medium</td>\n",
              "      <td>1951</td>\n",
              "      <td>1951.5</td>\n",
              "      <td>1267473.182</td>\n",
              "      <td>1275657.198</td>\n",
              "      <td>2543130.380</td>\n",
              "      <td>19.502</td>\n",
              "    </tr>\n",
              "    <tr>\n",
              "      <th>2</th>\n",
              "      <td>1</td>\n",
              "      <td>900</td>\n",
              "      <td>NaN</td>\n",
              "      <td>NaN</td>\n",
              "      <td>NaN</td>\n",
              "      <td>1.0</td>\n",
              "      <td>1</td>\n",
              "      <td>World</td>\n",
              "      <td>0</td>\n",
              "      <td>World</td>\n",
              "      <td>2</td>\n",
              "      <td>Medium</td>\n",
              "      <td>1952</td>\n",
              "      <td>1952.5</td>\n",
              "      <td>1291399.982</td>\n",
              "      <td>1298870.917</td>\n",
              "      <td>2590270.899</td>\n",
              "      <td>19.864</td>\n",
              "    </tr>\n",
              "    <tr>\n",
              "      <th>3</th>\n",
              "      <td>1</td>\n",
              "      <td>900</td>\n",
              "      <td>NaN</td>\n",
              "      <td>NaN</td>\n",
              "      <td>NaN</td>\n",
              "      <td>1.0</td>\n",
              "      <td>1</td>\n",
              "      <td>World</td>\n",
              "      <td>0</td>\n",
              "      <td>World</td>\n",
              "      <td>2</td>\n",
              "      <td>Medium</td>\n",
              "      <td>1953</td>\n",
              "      <td>1953.5</td>\n",
              "      <td>1316659.222</td>\n",
              "      <td>1323619.574</td>\n",
              "      <td>2640278.797</td>\n",
              "      <td>20.247</td>\n",
              "    </tr>\n",
              "    <tr>\n",
              "      <th>4</th>\n",
              "      <td>1</td>\n",
              "      <td>900</td>\n",
              "      <td>NaN</td>\n",
              "      <td>NaN</td>\n",
              "      <td>NaN</td>\n",
              "      <td>1.0</td>\n",
              "      <td>1</td>\n",
              "      <td>World</td>\n",
              "      <td>0</td>\n",
              "      <td>World</td>\n",
              "      <td>2</td>\n",
              "      <td>Medium</td>\n",
              "      <td>1954</td>\n",
              "      <td>1954.5</td>\n",
              "      <td>1342923.171</td>\n",
              "      <td>1349056.168</td>\n",
              "      <td>2691979.339</td>\n",
              "      <td>20.643</td>\n",
              "    </tr>\n",
              "  </tbody>\n",
              "</table>\n",
              "</div>"
            ],
            "text/plain": [
              "   SortOrder  LocID Notes ISO3_code ISO2_code  SDMX_code  LocTypeID  \\\n",
              "0          1    900   NaN       NaN       NaN        1.0          1   \n",
              "1          1    900   NaN       NaN       NaN        1.0          1   \n",
              "2          1    900   NaN       NaN       NaN        1.0          1   \n",
              "3          1    900   NaN       NaN       NaN        1.0          1   \n",
              "4          1    900   NaN       NaN       NaN        1.0          1   \n",
              "\n",
              "  LocTypeName  ParentID Location  VarID Variant  Time  MidPeriod      PopMale  \\\n",
              "0       World         0    World      2  Medium  1950     1950.5  1245362.965   \n",
              "1       World         0    World      2  Medium  1951     1951.5  1267473.182   \n",
              "2       World         0    World      2  Medium  1952     1952.5  1291399.982   \n",
              "3       World         0    World      2  Medium  1953     1953.5  1316659.222   \n",
              "4       World         0    World      2  Medium  1954     1954.5  1342923.171   \n",
              "\n",
              "     PopFemale     PopTotal  PopDensity  \n",
              "0  1253959.192  2499322.157      19.166  \n",
              "1  1275657.198  2543130.380      19.502  \n",
              "2  1298870.917  2590270.899      19.864  \n",
              "3  1323619.574  2640278.797      20.247  \n",
              "4  1349056.168  2691979.339      20.643  "
            ]
          },
          "execution_count": 58,
          "metadata": {},
          "output_type": "execute_result"
        }
      ],
      "source": [
        "df.head()"
      ]
    },
    {
      "cell_type": "code",
      "execution_count": 59,
      "metadata": {
        "colab": {
          "base_uri": "https://localhost:8080/"
        },
        "id": "6vZ9i5aR00fq",
        "outputId": "d8f26290-ba35-4f11-8f9c-3fff0574e882"
      },
      "outputs": [
        {
          "data": {
            "text/plain": [
              "(359502, 18)"
            ]
          },
          "execution_count": 59,
          "metadata": {},
          "output_type": "execute_result"
        }
      ],
      "source": [
        "df.shape"
      ]
    },
    {
      "cell_type": "markdown",
      "metadata": {},
      "source": [
        "Filter the data"
      ]
    },
    {
      "cell_type": "code",
      "execution_count": 60,
      "metadata": {},
      "outputs": [
        {
          "data": {
            "text/plain": [
              "array(['Medium', 'High', 'Low', 'Constant fertility',\n",
              "       'Instant replacement', 'Zero migration', 'Constant mortality',\n",
              "       'No change', 'Momentum', 'Instant replacement zero migration',\n",
              "       'Median PI', 'Upper 80 PI', 'Lower 80 PI', 'Upper 95 PI',\n",
              "       'Lower 95 PI'], dtype=object)"
            ]
          },
          "execution_count": 60,
          "metadata": {},
          "output_type": "execute_result"
        }
      ],
      "source": [
        "df['Variant'].unique()"
      ]
    },
    {
      "cell_type": "code",
      "execution_count": 61,
      "metadata": {
        "id": "yp4YSnrrvl1v"
      },
      "outputs": [],
      "source": [
        "# Select country (Location)\n",
        "df = df[df['Location'] == 'United Kingdom']"
      ]
    },
    {
      "cell_type": "code",
      "execution_count": 62,
      "metadata": {},
      "outputs": [
        {
          "data": {
            "text/plain": [
              "1257"
            ]
          },
          "execution_count": 62,
          "metadata": {},
          "output_type": "execute_result"
        }
      ],
      "source": [
        "len(df)"
      ]
    },
    {
      "cell_type": "code",
      "execution_count": 63,
      "metadata": {},
      "outputs": [
        {
          "data": {
            "text/plain": [
              "array(['Medium', 'High', 'Low', 'Constant fertility',\n",
              "       'Instant replacement', 'Zero migration', 'Constant mortality',\n",
              "       'No change', 'Momentum', 'Instant replacement zero migration',\n",
              "       'Median PI', 'Upper 80 PI', 'Lower 80 PI', 'Upper 95 PI',\n",
              "       'Lower 95 PI'], dtype=object)"
            ]
          },
          "execution_count": 63,
          "metadata": {},
          "output_type": "execute_result"
        }
      ],
      "source": [
        "# Projection variant types\n",
        "df['Variant'].unique()"
      ]
    },
    {
      "cell_type": "code",
      "execution_count": 64,
      "metadata": {
        "id": "gePiAklQwC1U"
      },
      "outputs": [],
      "source": [
        "# Select projection variant (Variant)\n",
        "df = df[df['Variant'] == 'Zero migration']"
      ]
    },
    {
      "cell_type": "code",
      "execution_count": null,
      "metadata": {},
      "outputs": [],
      "source": [
        "df"
      ]
    },
    {
      "cell_type": "markdown",
      "metadata": {},
      "source": [
        "Reshape for plotting"
      ]
    },
    {
      "cell_type": "code",
      "execution_count": 65,
      "metadata": {
        "id": "YFu4XYdwwecZ"
      },
      "outputs": [],
      "source": [
        "# Select only columns relevant for the graph:\n",
        "df = df[['Time', 'PopMale', 'PopFemale']]"
      ]
    },
    {
      "cell_type": "code",
      "execution_count": 66,
      "metadata": {
        "id": "GJeQJVk13X2x"
      },
      "outputs": [],
      "source": [
        "# Melt the male and female columns into one, in order to assign them to different lines\n",
        "df = df.melt(\"Time\", var_name=\"Gender\", value_name=\"Number\")"
      ]
    },
    {
      "cell_type": "code",
      "execution_count": 67,
      "metadata": {},
      "outputs": [
        {
          "data": {
            "text/html": [
              "<div>\n",
              "<style scoped>\n",
              "    .dataframe tbody tr th:only-of-type {\n",
              "        vertical-align: middle;\n",
              "    }\n",
              "\n",
              "    .dataframe tbody tr th {\n",
              "        vertical-align: top;\n",
              "    }\n",
              "\n",
              "    .dataframe thead th {\n",
              "        text-align: right;\n",
              "    }\n",
              "</style>\n",
              "<table border=\"1\" class=\"dataframe\">\n",
              "  <thead>\n",
              "    <tr style=\"text-align: right;\">\n",
              "      <th></th>\n",
              "      <th>Time</th>\n",
              "      <th>Gender</th>\n",
              "      <th>Number</th>\n",
              "    </tr>\n",
              "  </thead>\n",
              "  <tbody>\n",
              "    <tr>\n",
              "      <th>0</th>\n",
              "      <td>2022</td>\n",
              "      <td>PopMale</td>\n",
              "      <td>33319.003</td>\n",
              "    </tr>\n",
              "    <tr>\n",
              "      <th>1</th>\n",
              "      <td>2023</td>\n",
              "      <td>PopMale</td>\n",
              "      <td>33360.255</td>\n",
              "    </tr>\n",
              "    <tr>\n",
              "      <th>2</th>\n",
              "      <td>2024</td>\n",
              "      <td>PopMale</td>\n",
              "      <td>33397.359</td>\n",
              "    </tr>\n",
              "    <tr>\n",
              "      <th>3</th>\n",
              "      <td>2025</td>\n",
              "      <td>PopMale</td>\n",
              "      <td>33429.320</td>\n",
              "    </tr>\n",
              "    <tr>\n",
              "      <th>4</th>\n",
              "      <td>2026</td>\n",
              "      <td>PopMale</td>\n",
              "      <td>33455.940</td>\n",
              "    </tr>\n",
              "    <tr>\n",
              "      <th>...</th>\n",
              "      <td>...</td>\n",
              "      <td>...</td>\n",
              "      <td>...</td>\n",
              "    </tr>\n",
              "    <tr>\n",
              "      <th>153</th>\n",
              "      <td>2096</td>\n",
              "      <td>PopFemale</td>\n",
              "      <td>26301.441</td>\n",
              "    </tr>\n",
              "    <tr>\n",
              "      <th>154</th>\n",
              "      <td>2097</td>\n",
              "      <td>PopFemale</td>\n",
              "      <td>26161.883</td>\n",
              "    </tr>\n",
              "    <tr>\n",
              "      <th>155</th>\n",
              "      <td>2098</td>\n",
              "      <td>PopFemale</td>\n",
              "      <td>26023.330</td>\n",
              "    </tr>\n",
              "    <tr>\n",
              "      <th>156</th>\n",
              "      <td>2099</td>\n",
              "      <td>PopFemale</td>\n",
              "      <td>25885.696</td>\n",
              "    </tr>\n",
              "    <tr>\n",
              "      <th>157</th>\n",
              "      <td>2100</td>\n",
              "      <td>PopFemale</td>\n",
              "      <td>25747.696</td>\n",
              "    </tr>\n",
              "  </tbody>\n",
              "</table>\n",
              "<p>158 rows × 3 columns</p>\n",
              "</div>"
            ],
            "text/plain": [
              "     Time     Gender     Number\n",
              "0    2022    PopMale  33319.003\n",
              "1    2023    PopMale  33360.255\n",
              "2    2024    PopMale  33397.359\n",
              "3    2025    PopMale  33429.320\n",
              "4    2026    PopMale  33455.940\n",
              "..    ...        ...        ...\n",
              "153  2096  PopFemale  26301.441\n",
              "154  2097  PopFemale  26161.883\n",
              "155  2098  PopFemale  26023.330\n",
              "156  2099  PopFemale  25885.696\n",
              "157  2100  PopFemale  25747.696\n",
              "\n",
              "[158 rows x 3 columns]"
            ]
          },
          "execution_count": 67,
          "metadata": {},
          "output_type": "execute_result"
        }
      ],
      "source": [
        "df"
      ]
    },
    {
      "cell_type": "code",
      "execution_count": 68,
      "metadata": {
        "colab": {
          "base_uri": "https://localhost:8080/",
          "height": 513
        },
        "id": "mjo6NzAx3wzy",
        "outputId": "c2f3d69d-fdf1-434e-e7c4-525b0381775c"
      },
      "outputs": [
        {
          "data": {
            "text/plain": [
              "<seaborn.axisgrid.FacetGrid at 0x2f1f0e87790>"
            ]
          },
          "execution_count": 68,
          "metadata": {},
          "output_type": "execute_result"
        },
        {
          "data": {
            "image/png": "[encoded data removed]",
            "text/plain": [
              "<Figure size 1156.78x504 with 1 Axes>"
            ]
          },
          "metadata": {
            "needs_background": "light"
          },
          "output_type": "display_data"
        }
      ],
      "source": [
        "sns.set_context(\"talk\") # Size preset for graph\n",
        "# Plot change in number over time for two categories:\n",
        "sns.relplot(data=df, x=\"Time\", y=\"Number\", hue=\"Gender\", kind=\"line\", height=7, aspect=2)"
      ]
    },
    {
      "cell_type": "code",
      "execution_count": null,
      "metadata": {
        "id": "Z9kR37Xjx-w8"
      },
      "outputs": [],
      "source": []
    }
  ],
  "metadata": {
    "colab": {
      "collapsed_sections": [],
      "provenance": []
    },
    "kernelspec": {
      "display_name": "Python 3.10.4 ('py310')",
      "language": "python",
      "name": "python3"
    },
    "language_info": {
      "codemirror_mode": {
        "name": "ipython",
        "version": 3
      },
      "file_extension": ".py",
      "mimetype": "text/x-python",
      "name": "python",
      "nbconvert_exporter": "python",
      "pygments_lexer": "ipython3",
      "version": "3.10.4"
    },
    "vscode": {
      "interpreter": {
        "hash": "bb7e28c91e03929dce0cc87071638f3542d33abb15c82bf85f58e7b91f5666fe"
      }
    }
  },
  "nbformat": 4,
  "nbformat_minor": 0
}
