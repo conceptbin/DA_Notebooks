{
  "cells": [
    {
      "cell_type": "markdown",
      "metadata": {
        "id": "TjSnuT5uVknz"
      },
      "source": [
        "# UN population projection: Migration scenarios\n",
        "Compare variants, single country"
      ]
    },
    {
      "cell_type": "code",
      "execution_count": null,
      "metadata": {
        "id": "armO3RNVVYya"
      },
      "outputs": [],
      "source": [
        "# Import libraries\n",
        "import pandas as pd\n",
        "import seaborn as sns"
      ]
    },
    {
      "cell_type": "markdown",
      "metadata": {
        "id": "lvc7n_BSr4_5"
      },
      "source": [
        "Dataset: [UN World Population Prospects 2022](https://population.un.org/wpp/Download/Standard/CSV/) in CSV format. Follow the link for the full explanation of what each category (column) means. Population numbers are written in thousands (i.e., 1000 = 1 mil)."
      ]
    },
    {
      "cell_type": "code",
      "execution_count": null,
      "metadata": {
        "id": "irb6OKV4WszO"
      },
      "outputs": [],
      "source": [
        "# Load data from local file\n",
        "file_url = r'data\\WPP2022_TotalPopulationBySex.csv' # Path in Win11 format. You need to re-enter the path for Mac/Linux\n",
        "df = pd.read_csv(file_url, low_memory=False)"
      ]
    },
    {
      "cell_type": "code",
      "execution_count": null,
      "metadata": {
        "colab": {
          "base_uri": "https://localhost:8080/",
          "height": 206
        },
        "id": "wO7-UohXtuqP",
        "outputId": "f823f50a-b595-4ff6-b114-63b8b2aadc21"
      },
      "outputs": [],
      "source": [
        "df.head()"
      ]
    },
    {
      "cell_type": "code",
      "execution_count": null,
      "metadata": {
        "colab": {
          "base_uri": "https://localhost:8080/"
        },
        "id": "exZ0K0ortL-V",
        "outputId": "c9b9fdd8-0002-4b07-8cdd-b31bc7052100"
      },
      "outputs": [],
      "source": [
        "# Unique values ('Variant')\n",
        "df['Variant'].unique()"
      ]
    },
    {
      "cell_type": "markdown",
      "metadata": {
        "id": "tgu8YO9w8jyM"
      },
      "source": [
        "# Single country, compare projections"
      ]
    },
    {
      "cell_type": "code",
      "execution_count": null,
      "metadata": {
        "id": "yp4YSnrrvl1v"
      },
      "outputs": [],
      "source": [
        "# Select country (Location)\n",
        "df = df[df['Location'] == 'Iceland']"
      ]
    },
    {
      "cell_type": "code",
      "execution_count": null,
      "metadata": {
        "id": "gePiAklQwC1U"
      },
      "outputs": [],
      "source": [
        "# Filter by list: Projection variants (Variant)\n",
        "variant_list = ['Low', 'Medium', 'High', 'Zero migration']\n",
        "df = df[df['Variant'].isin(variant_list)]"
      ]
    },
    {
      "cell_type": "code",
      "execution_count": null,
      "metadata": {
        "id": "YFu4XYdwwecZ"
      },
      "outputs": [],
      "source": [
        "df = df[['Time', 'Variant', 'PopTotal']]"
      ]
    },
    {
      "cell_type": "code",
      "execution_count": null,
      "metadata": {
        "colab": {
          "base_uri": "https://localhost:8080/",
          "height": 513
        },
        "id": "mjo6NzAx3wzy",
        "outputId": "9db3c097-b7a0-4047-9b65-d6d09d211f46"
      },
      "outputs": [],
      "source": [
        "sns.set_context(\"talk\") # Size preset for graph\n",
        "# Plot change in number over time for two categories:\n",
        "sns.relplot(data=df, x=\"Time\", y=\"PopTotal\", hue=\"Variant\", kind=\"scatter\", height=7, aspect=2)"
      ]
    },
    {
      "cell_type": "code",
      "execution_count": null,
      "metadata": {
        "id": "Z9kR37Xjx-w8"
      },
      "outputs": [],
      "source": []
    }
  ],
  "metadata": {
    "colab": {
      "collapsed_sections": [],
      "provenance": []
    },
    "kernelspec": {
      "display_name": "Python 3.8.3 ('shed')",
      "language": "python",
      "name": "python3"
    },
    "language_info": {
      "codemirror_mode": {
        "name": "ipython",
        "version": 3
      },
      "file_extension": ".py",
      "mimetype": "text/x-python",
      "name": "python",
      "nbconvert_exporter": "python",
      "pygments_lexer": "ipython3",
      "version": "3.8.3"
    },
    "vscode": {
      "interpreter": {
        "hash": "25febdc273ee3944d7f60182e0e68095a4113921f6f97dab751113b34c91f1e3"
      }
    }
  },
  "nbformat": 4,
  "nbformat_minor": 0
}
