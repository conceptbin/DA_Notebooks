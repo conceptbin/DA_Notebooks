{
  "cells": [
    {
      "cell_type": "markdown",
      "metadata": {
        "id": "TjSnuT5uVknz"
      },
      "source": [
        "# UN population projection: Migration scenarios\n",
        "Compare variants, single country"
      ]
    },
    {
      "cell_type": "code",
      "execution_count": 10,
      "metadata": {
        "id": "armO3RNVVYya"
      },
      "outputs": [],
      "source": [
        "# Import libraries\n",
        "import pandas as pd\n",
        "import seaborn as sns\n",
        "sns.set_style('whitegrid')\n",
        "sns.set_context(\"talk\") # Size preset for graph"
      ]
    },
    {
      "cell_type": "markdown",
      "metadata": {
        "id": "lvc7n_BSr4_5"
      },
      "source": [
        "Dataset: [UN World Population Prospects 2022](https://population.un.org/wpp/Download/Standard/CSV/) in CSV format. Follow the link for the full explanation of what each category (column) means. Population numbers are written in thousands (i.e., 1000 = 1 mil)."
      ]
    },
    {
      "cell_type": "code",
      "execution_count": 11,
      "metadata": {
        "id": "irb6OKV4WszO"
      },
      "outputs": [],
      "source": [
        "# Load data from local file\n",
        "file_url = r'data\\WPP2022_TotalPopulationBySex.csv' # Path in Win11 format. You need to re-enter the path for Mac/Linux\n",
        "df = pd.read_csv(file_url, low_memory=False)"
      ]
    },
    {
      "cell_type": "code",
      "execution_count": 12,
      "metadata": {
        "colab": {
          "base_uri": "https://localhost:8080/",
          "height": 206
        },
        "id": "wO7-UohXtuqP",
        "outputId": "f823f50a-b595-4ff6-b114-63b8b2aadc21"
      },
      "outputs": [
        {
          "data": {
            "text/html": [
              "<div>\n",
              "<style scoped>\n",
              "    .dataframe tbody tr th:only-of-type {\n",
              "        vertical-align: middle;\n",
              "    }\n",
              "\n",
              "    .dataframe tbody tr th {\n",
              "        vertical-align: top;\n",
              "    }\n",
              "\n",
              "    .dataframe thead th {\n",
              "        text-align: right;\n",
              "    }\n",
              "</style>\n",
              "<table border=\"1\" class=\"dataframe\">\n",
              "  <thead>\n",
              "    <tr style=\"text-align: right;\">\n",
              "      <th></th>\n",
              "      <th>SortOrder</th>\n",
              "      <th>LocID</th>\n",
              "      <th>Notes</th>\n",
              "      <th>ISO3_code</th>\n",
              "      <th>ISO2_code</th>\n",
              "      <th>SDMX_code</th>\n",
              "      <th>LocTypeID</th>\n",
              "      <th>LocTypeName</th>\n",
              "      <th>ParentID</th>\n",
              "      <th>Location</th>\n",
              "      <th>VarID</th>\n",
              "      <th>Variant</th>\n",
              "      <th>Time</th>\n",
              "      <th>MidPeriod</th>\n",
              "      <th>PopMale</th>\n",
              "      <th>PopFemale</th>\n",
              "      <th>PopTotal</th>\n",
              "      <th>PopDensity</th>\n",
              "    </tr>\n",
              "  </thead>\n",
              "  <tbody>\n",
              "    <tr>\n",
              "      <th>0</th>\n",
              "      <td>1</td>\n",
              "      <td>900</td>\n",
              "      <td>NaN</td>\n",
              "      <td>NaN</td>\n",
              "      <td>NaN</td>\n",
              "      <td>1.0</td>\n",
              "      <td>1</td>\n",
              "      <td>World</td>\n",
              "      <td>0</td>\n",
              "      <td>World</td>\n",
              "      <td>2</td>\n",
              "      <td>Medium</td>\n",
              "      <td>1950</td>\n",
              "      <td>1950.5</td>\n",
              "      <td>1245362.965</td>\n",
              "      <td>1253959.192</td>\n",
              "      <td>2499322.157</td>\n",
              "      <td>19.166</td>\n",
              "    </tr>\n",
              "    <tr>\n",
              "      <th>1</th>\n",
              "      <td>1</td>\n",
              "      <td>900</td>\n",
              "      <td>NaN</td>\n",
              "      <td>NaN</td>\n",
              "      <td>NaN</td>\n",
              "      <td>1.0</td>\n",
              "      <td>1</td>\n",
              "      <td>World</td>\n",
              "      <td>0</td>\n",
              "      <td>World</td>\n",
              "      <td>2</td>\n",
              "      <td>Medium</td>\n",
              "      <td>1951</td>\n",
              "      <td>1951.5</td>\n",
              "      <td>1267473.182</td>\n",
              "      <td>1275657.198</td>\n",
              "      <td>2543130.380</td>\n",
              "      <td>19.502</td>\n",
              "    </tr>\n",
              "    <tr>\n",
              "      <th>2</th>\n",
              "      <td>1</td>\n",
              "      <td>900</td>\n",
              "      <td>NaN</td>\n",
              "      <td>NaN</td>\n",
              "      <td>NaN</td>\n",
              "      <td>1.0</td>\n",
              "      <td>1</td>\n",
              "      <td>World</td>\n",
              "      <td>0</td>\n",
              "      <td>World</td>\n",
              "      <td>2</td>\n",
              "      <td>Medium</td>\n",
              "      <td>1952</td>\n",
              "      <td>1952.5</td>\n",
              "      <td>1291399.982</td>\n",
              "      <td>1298870.917</td>\n",
              "      <td>2590270.899</td>\n",
              "      <td>19.864</td>\n",
              "    </tr>\n",
              "    <tr>\n",
              "      <th>3</th>\n",
              "      <td>1</td>\n",
              "      <td>900</td>\n",
              "      <td>NaN</td>\n",
              "      <td>NaN</td>\n",
              "      <td>NaN</td>\n",
              "      <td>1.0</td>\n",
              "      <td>1</td>\n",
              "      <td>World</td>\n",
              "      <td>0</td>\n",
              "      <td>World</td>\n",
              "      <td>2</td>\n",
              "      <td>Medium</td>\n",
              "      <td>1953</td>\n",
              "      <td>1953.5</td>\n",
              "      <td>1316659.222</td>\n",
              "      <td>1323619.574</td>\n",
              "      <td>2640278.797</td>\n",
              "      <td>20.247</td>\n",
              "    </tr>\n",
              "    <tr>\n",
              "      <th>4</th>\n",
              "      <td>1</td>\n",
              "      <td>900</td>\n",
              "      <td>NaN</td>\n",
              "      <td>NaN</td>\n",
              "      <td>NaN</td>\n",
              "      <td>1.0</td>\n",
              "      <td>1</td>\n",
              "      <td>World</td>\n",
              "      <td>0</td>\n",
              "      <td>World</td>\n",
              "      <td>2</td>\n",
              "      <td>Medium</td>\n",
              "      <td>1954</td>\n",
              "      <td>1954.5</td>\n",
              "      <td>1342923.171</td>\n",
              "      <td>1349056.168</td>\n",
              "      <td>2691979.339</td>\n",
              "      <td>20.643</td>\n",
              "    </tr>\n",
              "  </tbody>\n",
              "</table>\n",
              "</div>"
            ],
            "text/plain": [
              "   SortOrder  LocID Notes ISO3_code ISO2_code  SDMX_code  LocTypeID  \\\n",
              "0          1    900   NaN       NaN       NaN        1.0          1   \n",
              "1          1    900   NaN       NaN       NaN        1.0          1   \n",
              "2          1    900   NaN       NaN       NaN        1.0          1   \n",
              "3          1    900   NaN       NaN       NaN        1.0          1   \n",
              "4          1    900   NaN       NaN       NaN        1.0          1   \n",
              "\n",
              "  LocTypeName  ParentID Location  VarID Variant  Time  MidPeriod      PopMale  \\\n",
              "0       World         0    World      2  Medium  1950     1950.5  1245362.965   \n",
              "1       World         0    World      2  Medium  1951     1951.5  1267473.182   \n",
              "2       World         0    World      2  Medium  1952     1952.5  1291399.982   \n",
              "3       World         0    World      2  Medium  1953     1953.5  1316659.222   \n",
              "4       World         0    World      2  Medium  1954     1954.5  1342923.171   \n",
              "\n",
              "     PopFemale     PopTotal  PopDensity  \n",
              "0  1253959.192  2499322.157      19.166  \n",
              "1  1275657.198  2543130.380      19.502  \n",
              "2  1298870.917  2590270.899      19.864  \n",
              "3  1323619.574  2640278.797      20.247  \n",
              "4  1349056.168  2691979.339      20.643  "
            ]
          },
          "execution_count": 12,
          "metadata": {},
          "output_type": "execute_result"
        }
      ],
      "source": [
        "df.head()"
      ]
    },
    {
      "cell_type": "markdown",
      "metadata": {
        "id": "tgu8YO9w8jyM"
      },
      "source": [
        "# Single country, compare projections"
      ]
    },
    {
      "cell_type": "code",
      "execution_count": 13,
      "metadata": {},
      "outputs": [
        {
          "data": {
            "text/plain": [
              "array(['World', 'Sub-Saharan Africa', 'Northern Africa and Western Asia',\n",
              "       'Central and Southern Asia', 'Eastern and South-Eastern Asia',\n",
              "       'Latin America and the Caribbean',\n",
              "       'Oceania (excluding Australia and New Zealand)',\n",
              "       'Australia/New Zealand', 'Europe and Northern America',\n",
              "       'More developed regions', 'Less developed regions',\n",
              "       'Least developed countries',\n",
              "       'Less developed regions, excluding least developed countries',\n",
              "       'Less developed regions, excluding China',\n",
              "       'Land-locked Developing Countries (LLDC)',\n",
              "       'Small Island Developing States (SIDS)', 'High-income countries',\n",
              "       'Middle-income countries', 'Upper-middle-income countries',\n",
              "       'Lower-middle-income countries', 'Low-income countries',\n",
              "       'No income group available', 'Africa', 'Eastern Africa', 'Burundi',\n",
              "       'Comoros', 'Djibouti', 'Eritrea', 'Ethiopia', 'Kenya',\n",
              "       'Madagascar', 'Malawi', 'Mauritius', 'Mayotte', 'Mozambique',\n",
              "       'Réunion', 'Rwanda', 'Seychelles', 'Somalia', 'South Sudan',\n",
              "       'Uganda', 'United Republic of Tanzania', 'Zambia', 'Zimbabwe',\n",
              "       'Middle Africa', 'Angola', 'Cameroon', 'Central African Republic',\n",
              "       'Chad', 'Congo', 'Democratic Republic of the Congo',\n",
              "       'Equatorial Guinea', 'Gabon', 'Sao Tome and Principe',\n",
              "       'Northern Africa', 'Algeria', 'Egypt', 'Libya', 'Morocco', 'Sudan',\n",
              "       'Tunisia', 'Western Sahara', 'Southern Africa', 'Botswana',\n",
              "       'Eswatini', 'Lesotho', 'Namibia', 'South Africa', 'Western Africa',\n",
              "       'Benin', 'Burkina Faso', 'Cabo Verde', \"Côte d'Ivoire\", 'Gambia',\n",
              "       'Ghana', 'Guinea', 'Guinea-Bissau', 'Liberia', 'Mali',\n",
              "       'Mauritania', 'Niger', 'Nigeria', 'Saint Helena', 'Senegal',\n",
              "       'Sierra Leone', 'Togo', 'Asia', 'Central Asia', 'Kazakhstan',\n",
              "       'Kyrgyzstan', 'Tajikistan', 'Turkmenistan', 'Uzbekistan',\n",
              "       'Eastern Asia', 'China', 'China, Hong Kong SAR',\n",
              "       'China, Macao SAR', 'China, Taiwan Province of China',\n",
              "       \"Dem. People's Republic of Korea\", 'Japan', 'Mongolia',\n",
              "       'Republic of Korea', 'Southern Asia', 'Afghanistan', 'Bangladesh',\n",
              "       'Bhutan', 'India', 'Iran (Islamic Republic of)', 'Maldives',\n",
              "       'Nepal', 'Pakistan', 'Sri Lanka', 'South-Eastern Asia',\n",
              "       'Brunei Darussalam', 'Cambodia', 'Indonesia',\n",
              "       \"Lao People's Democratic Republic\", 'Malaysia', 'Myanmar',\n",
              "       'Philippines', 'Singapore', 'Thailand', 'Timor-Leste', 'Viet Nam',\n",
              "       'Western Asia', 'Armenia', 'Azerbaijan', 'Bahrain', 'Cyprus',\n",
              "       'Georgia', 'Iraq', 'Israel', 'Jordan', 'Kuwait', 'Lebanon', 'Oman',\n",
              "       'Qatar', 'Saudi Arabia', 'State of Palestine',\n",
              "       'Syrian Arab Republic', 'Türkiye', 'United Arab Emirates', 'Yemen',\n",
              "       'Europe', 'Eastern Europe', 'Belarus', 'Bulgaria', 'Czechia',\n",
              "       'Hungary', 'Poland', 'Republic of Moldova', 'Romania',\n",
              "       'Russian Federation', 'Slovakia', 'Ukraine', 'Northern Europe',\n",
              "       'Denmark', 'Estonia', 'Faroe Islands', 'Finland', 'Guernsey',\n",
              "       'Iceland', 'Ireland', 'Isle of Man', 'Jersey', 'Latvia',\n",
              "       'Lithuania', 'Norway', 'Sweden', 'United Kingdom',\n",
              "       'Southern Europe', 'Albania', 'Andorra', 'Bosnia and Herzegovina',\n",
              "       'Croatia', 'Gibraltar', 'Greece', 'Holy See', 'Italy',\n",
              "       'Kosovo (under UNSC res. 1244)', 'Malta', 'Montenegro',\n",
              "       'North Macedonia', 'Portugal', 'San Marino', 'Serbia', 'Slovenia',\n",
              "       'Spain', 'Western Europe', 'Austria', 'Belgium', 'France',\n",
              "       'Germany', 'Liechtenstein', 'Luxembourg', 'Monaco', 'Netherlands',\n",
              "       'Switzerland', 'Caribbean', 'Anguilla', 'Antigua and Barbuda',\n",
              "       'Aruba', 'Bahamas', 'Barbados', 'Bonaire, Sint Eustatius and Saba',\n",
              "       'British Virgin Islands', 'Cayman Islands', 'Cuba', 'Curaçao',\n",
              "       'Dominica', 'Dominican Republic', 'Grenada', 'Guadeloupe', 'Haiti',\n",
              "       'Jamaica', 'Martinique', 'Montserrat', 'Puerto Rico',\n",
              "       'Saint Barthélemy', 'Saint Kitts and Nevis', 'Saint Lucia',\n",
              "       'Saint Martin (French part)', 'Saint Vincent and the Grenadines',\n",
              "       'Sint Maarten (Dutch part)', 'Trinidad and Tobago',\n",
              "       'Turks and Caicos Islands', 'United States Virgin Islands',\n",
              "       'Central America', 'Belize', 'Costa Rica', 'El Salvador',\n",
              "       'Guatemala', 'Honduras', 'Mexico', 'Nicaragua', 'Panama',\n",
              "       'South America', 'Argentina', 'Bolivia (Plurinational State of)',\n",
              "       'Brazil', 'Chile', 'Colombia', 'Ecuador',\n",
              "       'Falkland Islands (Malvinas)', 'French Guiana', 'Guyana',\n",
              "       'Paraguay', 'Peru', 'Suriname', 'Uruguay',\n",
              "       'Venezuela (Bolivarian Republic of)', 'Northern America',\n",
              "       'Bermuda', 'Canada', 'Greenland', 'Saint Pierre and Miquelon',\n",
              "       'United States of America', 'Oceania', 'Australia', 'New Zealand',\n",
              "       'Melanesia', 'Fiji', 'New Caledonia', 'Papua New Guinea',\n",
              "       'Solomon Islands', 'Vanuatu', 'Micronesia', 'Guam', 'Kiribati',\n",
              "       'Marshall Islands', 'Micronesia (Fed. States of)', 'Nauru',\n",
              "       'Northern Mariana Islands', 'Palau', 'Polynesia', 'American Samoa',\n",
              "       'Cook Islands', 'French Polynesia', 'Niue', 'Samoa', 'Tokelau',\n",
              "       'Tonga', 'Tuvalu', 'Wallis and Futuna Islands'], dtype=object)"
            ]
          },
          "execution_count": 13,
          "metadata": {},
          "output_type": "execute_result"
        }
      ],
      "source": [
        "df['Location'].unique()"
      ]
    },
    {
      "cell_type": "code",
      "execution_count": 14,
      "metadata": {
        "id": "yp4YSnrrvl1v"
      },
      "outputs": [],
      "source": [
        "# Select country (Location)\n",
        "selected_location = 'Africa'\n",
        "df = df[df['Location'] == selected_location]"
      ]
    },
    {
      "cell_type": "code",
      "execution_count": 15,
      "metadata": {
        "colab": {
          "base_uri": "https://localhost:8080/"
        },
        "id": "exZ0K0ortL-V",
        "outputId": "c9b9fdd8-0002-4b07-8cdd-b31bc7052100"
      },
      "outputs": [
        {
          "data": {
            "text/plain": [
              "array(['Medium', 'High', 'Low', 'Constant fertility',\n",
              "       'Instant replacement', 'Zero migration', 'Constant mortality',\n",
              "       'No change', 'Momentum', 'Instant replacement zero migration',\n",
              "       'Median PI', 'Upper 80 PI', 'Lower 80 PI', 'Upper 95 PI',\n",
              "       'Lower 95 PI'], dtype=object)"
            ]
          },
          "execution_count": 15,
          "metadata": {},
          "output_type": "execute_result"
        }
      ],
      "source": [
        "# Unique values ('Variant')\n",
        "df['Variant'].unique()"
      ]
    },
    {
      "cell_type": "code",
      "execution_count": 19,
      "metadata": {
        "id": "gePiAklQwC1U"
      },
      "outputs": [],
      "source": [
        "# Filter by list: Projection variants (Variant)\n",
        "variant_list = ['Low', 'Medium', 'High']\n",
        "df = df[df['Variant'].isin(variant_list)]"
      ]
    },
    {
      "cell_type": "code",
      "execution_count": 20,
      "metadata": {
        "id": "YFu4XYdwwecZ"
      },
      "outputs": [],
      "source": [
        "df = df[['Time', 'Variant', 'PopTotal']]"
      ]
    },
    {
      "cell_type": "code",
      "execution_count": 21,
      "metadata": {
        "colab": {
          "base_uri": "https://localhost:8080/",
          "height": 513
        },
        "id": "mjo6NzAx3wzy",
        "outputId": "9db3c097-b7a0-4047-9b65-d6d09d211f46"
      },
      "outputs": [
        {
          "data": {
            "text/plain": [
              "<seaborn.axisgrid.FacetGrid at 0x249e193ebc0>"
            ]
          },
          "execution_count": 21,
          "metadata": {},
          "output_type": "execute_result"
        },
        {
          "data": {
            "image/png": "[encoded data removed]",
            "text/plain": [
              "<Figure size 1133.4x504 with 1 Axes>"
            ]
          },
          "metadata": {
            "needs_background": "light"
          },
          "output_type": "display_data"
        }
      ],
      "source": [
        "# Plot change in number over time for two categories:\n",
        "sns.relplot(data=df, x=\"Time\", y=\"PopTotal\", hue=\"Variant\", kind=\"scatter\", height=7, aspect=2)"
      ]
    },
    {
      "cell_type": "code",
      "execution_count": null,
      "metadata": {
        "id": "Z9kR37Xjx-w8"
      },
      "outputs": [],
      "source": []
    }
  ],
  "metadata": {
    "colab": {
      "collapsed_sections": [],
      "provenance": []
    },
    "kernelspec": {
      "display_name": "Python 3.10.4 ('py310')",
      "language": "python",
      "name": "python3"
    },
    "language_info": {
      "codemirror_mode": {
        "name": "ipython",
        "version": 3
      },
      "file_extension": ".py",
      "mimetype": "text/x-python",
      "name": "python",
      "nbconvert_exporter": "python",
      "pygments_lexer": "ipython3",
      "version": "3.10.4"
    },
    "vscode": {
      "interpreter": {
        "hash": "bb7e28c91e03929dce0cc87071638f3542d33abb15c82bf85f58e7b91f5666fe"
      }
    }
  },
  "nbformat": 4,
  "nbformat_minor": 0
}
